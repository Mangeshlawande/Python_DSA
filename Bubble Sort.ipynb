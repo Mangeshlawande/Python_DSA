{
 "cells": [
  {
   "cell_type": "code",
   "execution_count": 1,
   "id": "e9ce994c",
   "metadata": {},
   "outputs": [],
   "source": [
    "def BS(arr):\n",
    "    \n",
    "  for i in range(len(arr)):\n",
    "\n",
    "    for j in range(0, len(arr) - i - 1):\n",
    "\n",
    "      if arr[j] > arr[j + 1]:\n",
    "        \n",
    "        temp = arr[j]\n",
    "        arr[j] = arr[j+1]\n",
    "        arr[j+1] = temp"
   ]
  },
  {
   "cell_type": "code",
   "execution_count": 2,
   "id": "6eb7e218",
   "metadata": {},
   "outputs": [
    {
     "name": "stdout",
     "output_type": "stream",
     "text": [
      "Sorted Array\n",
      "[2, 4, 5, 6, 8]\n"
     ]
    }
   ],
   "source": [
    "a = [6,5,8,4,2]\n",
    "\n",
    "BS(a)\n",
    "\n",
    "print('Sorted Array')\n",
    "print(a)"
   ]
  },
  {
   "cell_type": "code",
   "execution_count": 11,
   "id": "b7d1e93e",
   "metadata": {},
   "outputs": [],
   "source": [
    "def BS1(arr):\n",
    "    \n",
    "  for i in range(len(arr)):\n",
    "\n",
    "    for j in range(0, len(arr) - i - 1):\n",
    "\n",
    "      print('i->',i,'j->',j,'\\n')\n",
    "      if arr[j] > arr[j + 1]:\n",
    "\n",
    "        print('Swap',arr[j],arr[j+1])\n",
    "        \n",
    "        \n",
    "        temp = arr[j]\n",
    "        arr[j] = arr[j+1]\n",
    "        arr[j+1] = temp\n",
    "        print(arr,'\\n')\n",
    "        \n",
    "      else:\n",
    "        print('No Swap',arr[j],arr[j+1])\n",
    "        print(arr,'\\n')\n"
   ]
  },
  {
   "cell_type": "code",
   "execution_count": 12,
   "id": "38669bdf",
   "metadata": {},
   "outputs": [
    {
     "name": "stdout",
     "output_type": "stream",
     "text": [
      "i-> 0 j-> 0 \n",
      "\n",
      "Swap 6 5\n",
      "[5, 6, 8, 4, 2] \n",
      "\n",
      "i-> 0 j-> 1 \n",
      "\n",
      "No Swap 6 8\n",
      "[5, 6, 8, 4, 2] \n",
      "\n",
      "i-> 0 j-> 2 \n",
      "\n",
      "Swap 8 4\n",
      "[5, 6, 4, 8, 2] \n",
      "\n",
      "i-> 0 j-> 3 \n",
      "\n",
      "Swap 8 2\n",
      "[5, 6, 4, 2, 8] \n",
      "\n",
      "i-> 1 j-> 0 \n",
      "\n",
      "No Swap 5 6\n",
      "[5, 6, 4, 2, 8] \n",
      "\n",
      "i-> 1 j-> 1 \n",
      "\n",
      "Swap 6 4\n",
      "[5, 4, 6, 2, 8] \n",
      "\n",
      "i-> 1 j-> 2 \n",
      "\n",
      "Swap 6 2\n",
      "[5, 4, 2, 6, 8] \n",
      "\n",
      "i-> 2 j-> 0 \n",
      "\n",
      "Swap 5 4\n",
      "[4, 5, 2, 6, 8] \n",
      "\n",
      "i-> 2 j-> 1 \n",
      "\n",
      "Swap 5 2\n",
      "[4, 2, 5, 6, 8] \n",
      "\n",
      "i-> 3 j-> 0 \n",
      "\n",
      "Swap 4 2\n",
      "[2, 4, 5, 6, 8] \n",
      "\n",
      "Sorted Array\n",
      "[2, 4, 5, 6, 8]\n"
     ]
    }
   ],
   "source": [
    "a = [6,5,8,4,2]\n",
    "\n",
    "BS1(a)\n",
    "\n",
    "print('Sorted Array')\n",
    "print(a)"
   ]
  },
  {
   "cell_type": "code",
   "execution_count": 13,
   "id": "7c70a884",
   "metadata": {},
   "outputs": [
    {
     "name": "stdout",
     "output_type": "stream",
     "text": [
      "Enter Element12\n",
      "want more elementsy\n",
      "Enter Element11\n",
      "want more elementsy\n",
      "Enter Element10\n",
      "want more elementsy\n",
      "Enter Element33\n",
      "want more elementsy\n",
      "Enter Element23\n",
      "want more elementsn\n",
      "Provided array: [12, 11, 10, 33, 23]\n",
      "i-> 0 j-> 0 \n",
      "\n",
      "Swap 12 11\n",
      "[11, 12, 10, 33, 23] \n",
      "\n",
      "i-> 0 j-> 1 \n",
      "\n",
      "Swap 12 10\n",
      "[11, 10, 12, 33, 23] \n",
      "\n",
      "i-> 0 j-> 2 \n",
      "\n",
      "No Swap 12 33\n",
      "[11, 10, 12, 33, 23] \n",
      "\n",
      "i-> 0 j-> 3 \n",
      "\n",
      "Swap 33 23\n",
      "[11, 10, 12, 23, 33] \n",
      "\n",
      "i-> 1 j-> 0 \n",
      "\n",
      "Swap 11 10\n",
      "[10, 11, 12, 23, 33] \n",
      "\n",
      "i-> 1 j-> 1 \n",
      "\n",
      "No Swap 11 12\n",
      "[10, 11, 12, 23, 33] \n",
      "\n",
      "i-> 1 j-> 2 \n",
      "\n",
      "No Swap 12 23\n",
      "[10, 11, 12, 23, 33] \n",
      "\n",
      "i-> 2 j-> 0 \n",
      "\n",
      "No Swap 10 11\n",
      "[10, 11, 12, 23, 33] \n",
      "\n",
      "i-> 2 j-> 1 \n",
      "\n",
      "No Swap 11 12\n",
      "[10, 11, 12, 23, 33] \n",
      "\n",
      "i-> 3 j-> 0 \n",
      "\n",
      "No Swap 10 11\n",
      "[10, 11, 12, 23, 33] \n",
      "\n",
      "Final array: [10, 11, 12, 23, 33]\n"
     ]
    }
   ],
   "source": [
    "b = []\n",
    "yn = 'y'\n",
    "while yn == 'y':\n",
    "  bb = int(input('Enter Element'))\n",
    "  b.append(bb)\n",
    "  yn = input('want more elements')\n",
    "\n",
    "print(\"Provided array:\", b)\n",
    "BS1(b)\n",
    "print(\"Final array:\", b)"
   ]
  },
  {
   "cell_type": "code",
   "execution_count": 9,
   "id": "08cd4139",
   "metadata": {},
   "outputs": [],
   "source": [
    "def BS2(arr):\n",
    "    \n",
    "  for i in range(len(arr)):\n",
    "\n",
    "    for j in range(0, len(arr) - i - 1):\n",
    "\n",
    "      if arr[j] < arr[j + 1]:\n",
    "        \n",
    "        temp = arr[j]\n",
    "        arr[j] = arr[j+1]\n",
    "        arr[j+1] = temp"
   ]
  },
  {
   "cell_type": "code",
   "execution_count": 10,
   "id": "79f87173",
   "metadata": {},
   "outputs": [
    {
     "name": "stdout",
     "output_type": "stream",
     "text": [
      "Sorted Array\n",
      "[8, 6, 5, 4, 2]\n"
     ]
    }
   ],
   "source": [
    "a = [6,5,8,4,2]\n",
    "\n",
    "BS2(a)\n",
    "\n",
    "print('Sorted Array')\n",
    "print(a)"
   ]
  },
  {
   "cell_type": "code",
   "execution_count": null,
   "id": "37175b1a",
   "metadata": {},
   "outputs": [],
   "source": []
  }
 ],
 "metadata": {
  "kernelspec": {
   "display_name": "Python 3 (ipykernel)",
   "language": "python",
   "name": "python3"
  },
  "language_info": {
   "codemirror_mode": {
    "name": "ipython",
    "version": 3
   },
   "file_extension": ".py",
   "mimetype": "text/x-python",
   "name": "python",
   "nbconvert_exporter": "python",
   "pygments_lexer": "ipython3",
   "version": "3.9.13"
  }
 },
 "nbformat": 4,
 "nbformat_minor": 5
}
