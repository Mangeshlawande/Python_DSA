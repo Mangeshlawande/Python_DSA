{
 "cells": [
  {
   "cell_type": "code",
   "execution_count": 1,
   "id": "adf7e1a7",
   "metadata": {},
   "outputs": [],
   "source": [
    "from queue import PriorityQueue\n",
    "\n",
    "q = PriorityQueue(maxsize = 5)"
   ]
  },
  {
   "cell_type": "code",
   "execution_count": 2,
   "id": "8575c096",
   "metadata": {},
   "outputs": [],
   "source": [
    "def enqueue (q, value, item):\n",
    "    if (q.full()):\n",
    "     print(\"Queue is full\")\n",
    "    else:\n",
    "     q.put((value, item))\n",
    "     print(\"Inserted item :\",item)"
   ]
  },
  {
   "cell_type": "code",
   "execution_count": 3,
   "id": "e7c9d2d9",
   "metadata": {},
   "outputs": [],
   "source": [
    "def dequeue(q):\n",
    "    if (q.empty()):\n",
    "        return \"queue is empty\"\n",
    "    print(\"Removed Item :\",q.get())"
   ]
  },
  {
   "cell_type": "code",
   "execution_count": 4,
   "id": "4a87c34e",
   "metadata": {},
   "outputs": [
    {
     "name": "stdout",
     "output_type": "stream",
     "text": [
      "Inserted item : 5\n"
     ]
    }
   ],
   "source": [
    "enqueue(q, 10, 5)"
   ]
  },
  {
   "cell_type": "code",
   "execution_count": 5,
   "id": "43576837",
   "metadata": {},
   "outputs": [
    {
     "name": "stdout",
     "output_type": "stream",
     "text": [
      "Inserted item : 5\n",
      "Inserted item : 8\n",
      "Inserted item : 2\n",
      "Inserted item : 1\n",
      "Queue is full\n"
     ]
    }
   ],
   "source": [
    "enqueue(q, 10, 5)\n",
    "enqueue(q, 20, 8)\n",
    "enqueue(q, 30, 2)\n",
    "enqueue(q, 40, 1)\n",
    "enqueue(q, 50, 7)"
   ]
  },
  {
   "cell_type": "code",
   "execution_count": 6,
   "id": "e184fb4e",
   "metadata": {},
   "outputs": [
    {
     "data": {
      "text/plain": [
       "5"
      ]
     },
     "execution_count": 6,
     "metadata": {},
     "output_type": "execute_result"
    }
   ],
   "source": [
    "q.qsize()"
   ]
  },
  {
   "cell_type": "code",
   "execution_count": 7,
   "id": "41218e0d",
   "metadata": {},
   "outputs": [
    {
     "name": "stdout",
     "output_type": "stream",
     "text": [
      "Removed Item : (10, 5)\n"
     ]
    }
   ],
   "source": [
    "dequeue(q)"
   ]
  },
  {
   "cell_type": "code",
   "execution_count": 8,
   "id": "40085172",
   "metadata": {},
   "outputs": [
    {
     "data": {
      "text/plain": [
       "4"
      ]
     },
     "execution_count": 8,
     "metadata": {},
     "output_type": "execute_result"
    }
   ],
   "source": [
    "q.qsize()"
   ]
  },
  {
   "cell_type": "code",
   "execution_count": 9,
   "id": "d41ffb80",
   "metadata": {},
   "outputs": [
    {
     "name": "stdout",
     "output_type": "stream",
     "text": [
      "Removed Item : (10, 5)\n"
     ]
    }
   ],
   "source": [
    "dequeue(q)"
   ]
  },
  {
   "cell_type": "code",
   "execution_count": 10,
   "id": "350f5eec",
   "metadata": {},
   "outputs": [
    {
     "name": "stdout",
     "output_type": "stream",
     "text": [
      "Removed Item : (20, 8)\n"
     ]
    }
   ],
   "source": [
    "dequeue(q)"
   ]
  },
  {
   "cell_type": "code",
   "execution_count": 11,
   "id": "8c7b8ff2",
   "metadata": {},
   "outputs": [
    {
     "name": "stdout",
     "output_type": "stream",
     "text": [
      "Removed Item : (30, 2)\n"
     ]
    }
   ],
   "source": [
    "dequeue(q)"
   ]
  },
  {
   "cell_type": "code",
   "execution_count": 12,
   "id": "e747f7ea",
   "metadata": {},
   "outputs": [
    {
     "name": "stdout",
     "output_type": "stream",
     "text": [
      "Removed Item : (40, 1)\n"
     ]
    }
   ],
   "source": [
    "dequeue(q)"
   ]
  },
  {
   "cell_type": "code",
   "execution_count": 13,
   "id": "d10d8b35",
   "metadata": {},
   "outputs": [
    {
     "data": {
      "text/plain": [
       "'queue is empty'"
      ]
     },
     "execution_count": 13,
     "metadata": {},
     "output_type": "execute_result"
    }
   ],
   "source": [
    "dequeue(q)"
   ]
  },
  {
   "cell_type": "code",
   "execution_count": 14,
   "id": "973909aa",
   "metadata": {},
   "outputs": [
    {
     "name": "stdout",
     "output_type": "stream",
     "text": [
      "Inserted item : 7\n"
     ]
    }
   ],
   "source": [
    "enqueue(q, 50, 7)"
   ]
  },
  {
   "cell_type": "code",
   "execution_count": 15,
   "id": "550a7186",
   "metadata": {},
   "outputs": [
    {
     "name": "stdout",
     "output_type": "stream",
     "text": [
      "Inserted item : Tree\n",
      "Inserted item : plant\n",
      "Inserted item : fruit\n",
      "Inserted item : apple\n",
      "Queue is full\n",
      "Queue is full\n"
     ]
    }
   ],
   "source": [
    "enqueue(q, 5, 'Tree')\n",
    "enqueue(q, 2, 'plant')\n",
    "enqueue(q, 4, 'fruit')\n",
    "enqueue(q, 6, 'apple')\n",
    "enqueue(q, 1, 'mango')\n",
    "enqueue(q, 8, 'pineapple')"
   ]
  },
  {
   "cell_type": "code",
   "execution_count": 16,
   "id": "35f5bd46",
   "metadata": {},
   "outputs": [
    {
     "name": "stdout",
     "output_type": "stream",
     "text": [
      "Removed Item : (2, 'plant')\n"
     ]
    }
   ],
   "source": [
    "dequeue(q)"
   ]
  },
  {
   "cell_type": "code",
   "execution_count": 17,
   "id": "29512bd2",
   "metadata": {},
   "outputs": [
    {
     "name": "stdout",
     "output_type": "stream",
     "text": [
      "Removed Item : (4, 'fruit')\n"
     ]
    }
   ],
   "source": [
    "dequeue(q)"
   ]
  },
  {
   "cell_type": "code",
   "execution_count": 18,
   "id": "ede1f15a",
   "metadata": {},
   "outputs": [
    {
     "name": "stdout",
     "output_type": "stream",
     "text": [
      "Removed Item : (5, 'Tree')\n"
     ]
    }
   ],
   "source": [
    "dequeue(q)"
   ]
  },
  {
   "cell_type": "code",
   "execution_count": 19,
   "id": "a86c95f6",
   "metadata": {},
   "outputs": [
    {
     "data": {
      "text/plain": [
       "2"
      ]
     },
     "execution_count": 19,
     "metadata": {},
     "output_type": "execute_result"
    }
   ],
   "source": [
    "q.qsize()"
   ]
  },
  {
   "cell_type": "code",
   "execution_count": 20,
   "id": "1fd29e0f",
   "metadata": {},
   "outputs": [
    {
     "name": "stdout",
     "output_type": "stream",
     "text": [
      "Removed Item : (6, 'apple')\n"
     ]
    }
   ],
   "source": [
    "dequeue(q)"
   ]
  },
  {
   "cell_type": "code",
   "execution_count": 21,
   "id": "ed5a2d86",
   "metadata": {},
   "outputs": [
    {
     "name": "stdout",
     "output_type": "stream",
     "text": [
      "Removed Item : (50, 7)\n"
     ]
    }
   ],
   "source": [
    "dequeue(q)"
   ]
  },
  {
   "cell_type": "code",
   "execution_count": 22,
   "id": "d978a4cf",
   "metadata": {},
   "outputs": [
    {
     "data": {
      "text/plain": [
       "'queue is empty'"
      ]
     },
     "execution_count": 22,
     "metadata": {},
     "output_type": "execute_result"
    }
   ],
   "source": [
    "dequeue(q)"
   ]
  },
  {
   "cell_type": "code",
   "execution_count": 23,
   "id": "0589e1ec",
   "metadata": {},
   "outputs": [
    {
     "name": "stdout",
     "output_type": "stream",
     "text": [
      "Inserted item : Tree\n",
      "Inserted item : plant\n",
      "Inserted item : fruit\n",
      "Inserted item : apple\n",
      "Inserted item : mango\n",
      "Queue is full\n"
     ]
    }
   ],
   "source": [
    "enqueue(q, 5, 'Tree')\n",
    "enqueue(q, 2, 'plant')\n",
    "enqueue(q, 4, 'fruit')\n",
    "enqueue(q, 6, 'apple')\n",
    "enqueue(q, 1, 'mango')\n",
    "enqueue(q, 8, 'pineapple')\n"
   ]
  },
  {
   "cell_type": "code",
   "execution_count": 24,
   "id": "055898f3",
   "metadata": {},
   "outputs": [
    {
     "name": "stdout",
     "output_type": "stream",
     "text": [
      "Removed Item : (1, 'mango')\n"
     ]
    }
   ],
   "source": [
    "dequeue(q)"
   ]
  },
  {
   "cell_type": "code",
   "execution_count": 25,
   "id": "81ac9bdb",
   "metadata": {},
   "outputs": [
    {
     "name": "stdout",
     "output_type": "stream",
     "text": [
      "Removed Item : (2, 'plant')\n"
     ]
    }
   ],
   "source": [
    "dequeue(q)"
   ]
  },
  {
   "cell_type": "code",
   "execution_count": 26,
   "id": "f86e0d82",
   "metadata": {},
   "outputs": [
    {
     "name": "stdout",
     "output_type": "stream",
     "text": [
      "Removed Item : (4, 'fruit')\n"
     ]
    }
   ],
   "source": [
    "dequeue(q)"
   ]
  },
  {
   "cell_type": "code",
   "execution_count": 27,
   "id": "4eb03535",
   "metadata": {},
   "outputs": [
    {
     "data": {
      "text/plain": [
       "2"
      ]
     },
     "execution_count": 27,
     "metadata": {},
     "output_type": "execute_result"
    }
   ],
   "source": [
    "q.qsize()"
   ]
  },
  {
   "cell_type": "code",
   "execution_count": 28,
   "id": "d7975749",
   "metadata": {},
   "outputs": [
    {
     "name": "stdout",
     "output_type": "stream",
     "text": [
      "Inserted item : Tree\n",
      "Inserted item : plant\n",
      "Inserted item : fruit\n"
     ]
    }
   ],
   "source": [
    "enqueue(q, 5, 'Tree')\n",
    "enqueue(q, 2, 'plant')\n",
    "enqueue(q, 2, 'fruit')"
   ]
  },
  {
   "cell_type": "code",
   "execution_count": 29,
   "id": "917a0179",
   "metadata": {},
   "outputs": [
    {
     "name": "stdout",
     "output_type": "stream",
     "text": [
      "Removed Item : (2, 'fruit')\n"
     ]
    }
   ],
   "source": [
    "dequeue(q)"
   ]
  },
  {
   "cell_type": "code",
   "execution_count": 30,
   "id": "ba053b92",
   "metadata": {},
   "outputs": [
    {
     "name": "stdout",
     "output_type": "stream",
     "text": [
      "Removed Item : (2, 'plant')\n",
      "Removed Item : (5, 'Tree')\n",
      "Removed Item : (5, 'Tree')\n",
      "Removed Item : (6, 'apple')\n"
     ]
    },
    {
     "data": {
      "text/plain": [
       "'queue is empty'"
      ]
     },
     "execution_count": 30,
     "metadata": {},
     "output_type": "execute_result"
    }
   ],
   "source": [
    "dequeue(q)\n",
    "dequeue(q)\n",
    "dequeue(q)\n",
    "dequeue(q)\n",
    "dequeue(q)\n",
    "dequeue(q)"
   ]
  },
  {
   "cell_type": "code",
   "execution_count": 31,
   "id": "feb483da",
   "metadata": {},
   "outputs": [
    {
     "name": "stdout",
     "output_type": "stream",
     "text": [
      "Inserted item : Tree\n",
      "Inserted item : plant\n",
      "Inserted item : fruit\n"
     ]
    }
   ],
   "source": [
    "enqueue(q, 2, 'Tree')\n",
    "enqueue(q, 2, 'plant')\n",
    "enqueue(q, 4, 'fruit')"
   ]
  },
  {
   "cell_type": "code",
   "execution_count": 32,
   "id": "5c6af9e6",
   "metadata": {},
   "outputs": [
    {
     "name": "stdout",
     "output_type": "stream",
     "text": [
      "Inserted item : Tree\n",
      "Inserted item : plant\n"
     ]
    }
   ],
   "source": [
    "\n",
    "enqueue(q, 5, 'Tree')\n",
    "enqueue(q, 1, 'plant')\n"
   ]
  },
  {
   "cell_type": "code",
   "execution_count": 33,
   "id": "8608b621",
   "metadata": {},
   "outputs": [
    {
     "name": "stdout",
     "output_type": "stream",
     "text": [
      "Removed Item : (1, 'plant')\n"
     ]
    }
   ],
   "source": [
    "dequeue(q)"
   ]
  },
  {
   "cell_type": "code",
   "execution_count": 34,
   "id": "c3b76a6c",
   "metadata": {},
   "outputs": [
    {
     "name": "stdout",
     "output_type": "stream",
     "text": [
      "Inserted item : Tree\n"
     ]
    }
   ],
   "source": [
    "enqueue(q, 3, 'Tree')\n"
   ]
  },
  {
   "cell_type": "code",
   "execution_count": 35,
   "id": "e120d481",
   "metadata": {},
   "outputs": [
    {
     "name": "stdout",
     "output_type": "stream",
     "text": [
      "Queue is full\n"
     ]
    }
   ],
   "source": [
    "enqueue(q, 1, 'Lemon')\n",
    "# It considered the priority of item at removal of item "
   ]
  },
  {
   "cell_type": "code",
   "execution_count": 36,
   "id": "32e76c26",
   "metadata": {},
   "outputs": [
    {
     "name": "stdout",
     "output_type": "stream",
     "text": [
      "Removed Item : (2, 'Tree')\n",
      "Removed Item : (2, 'plant')\n",
      "Removed Item : (3, 'Tree')\n",
      "Removed Item : (4, 'fruit')\n",
      "Removed Item : (5, 'Tree')\n"
     ]
    }
   ],
   "source": [
    "while not q.empty():\n",
    "    print(\"Removed Item :\",q.get())"
   ]
  },
  {
   "cell_type": "code",
   "execution_count": null,
   "id": "721b27c3",
   "metadata": {},
   "outputs": [],
   "source": []
  },
  {
   "cell_type": "code",
   "execution_count": null,
   "id": "58a143f6",
   "metadata": {},
   "outputs": [],
   "source": []
  },
  {
   "cell_type": "code",
   "execution_count": 37,
   "id": "776a057a",
   "metadata": {},
   "outputs": [],
   "source": [
    "pq1 = [] # list -->inserted item in the list we pass tuple(pair value)(priority value + item)\n",
    "pq1.append((4,'A'))\n",
    "pq1.sort()\n",
    "pq1.append((2,'E'))\n",
    "pq1.sort()\n",
    "pq1.append((6,'F'))\n",
    "pq1.sort()\n",
    "pq1.append((7,'H'))\n",
    "pq1.sort()\n",
    "pq1.append((1,'J'))\n",
    "\n",
    "pq1.sort()"
   ]
  },
  {
   "cell_type": "code",
   "execution_count": 38,
   "id": "cc04c7f5",
   "metadata": {},
   "outputs": [
    {
     "data": {
      "text/plain": [
       "[(1, 'J'), (2, 'E'), (4, 'A'), (6, 'F'), (7, 'H')]"
      ]
     },
     "execution_count": 38,
     "metadata": {},
     "output_type": "execute_result"
    }
   ],
   "source": [
    "pq1"
   ]
  },
  {
   "cell_type": "code",
   "execution_count": 39,
   "id": "1cf739db",
   "metadata": {},
   "outputs": [
    {
     "name": "stdout",
     "output_type": "stream",
     "text": [
      "(2, 'i')\n",
      "(3, 'r')\n",
      "(5, 'e')\n",
      "(6, 't')\n",
      "(10, 'w')\n"
     ]
    }
   ],
   "source": [
    "pq2 = []\n",
    "pq2.append((10,'w')) # after every append you should \"sort()\" the list and the you append.\n",
    "# after every append you should sort() the list.\n",
    "# after every append you maintaining the priority Queue nature in  your list.\n",
    "pq2.sort()\n",
    "pq2.append((5,'e'))\n",
    "pq2.sort()\n",
    "pq2.append((3,'r'))\n",
    "pq2.sort()\n",
    "pq2.append((6,'t'))\n",
    "pq2.sort()\n",
    "pq2.append((2,'i'))\n",
    "\n",
    "pq2.sort()\n",
    "\n",
    "while pq2: # for tuple\n",
    "    print(pq2.pop(0))"
   ]
  },
  {
   "cell_type": "code",
   "execution_count": 40,
   "id": "c2a961bc",
   "metadata": {},
   "outputs": [],
   "source": [
    "del pq1"
   ]
  },
  {
   "cell_type": "code",
   "execution_count": 41,
   "id": "3a312355",
   "metadata": {},
   "outputs": [
    {
     "ename": "NameError",
     "evalue": "name 'pq1' is not defined",
     "output_type": "error",
     "traceback": [
      "\u001b[1;31m---------------------------------------------------------------------------\u001b[0m",
      "\u001b[1;31mNameError\u001b[0m                                 Traceback (most recent call last)",
      "Cell \u001b[1;32mIn[41], line 1\u001b[0m\n\u001b[1;32m----> 1\u001b[0m \u001b[43mpq1\u001b[49m\n",
      "\u001b[1;31mNameError\u001b[0m: name 'pq1' is not defined"
     ]
    }
   ],
   "source": [
    "pq1"
   ]
  },
  {
   "cell_type": "code",
   "execution_count": null,
   "id": "c9412c73",
   "metadata": {},
   "outputs": [],
   "source": [
    "del pq2"
   ]
  },
  {
   "cell_type": "code",
   "execution_count": null,
   "id": "e6167858",
   "metadata": {},
   "outputs": [],
   "source": [
    "pq2"
   ]
  }
 ],
 "metadata": {
  "kernelspec": {
   "display_name": "Python 3 (ipykernel)",
   "language": "python",
   "name": "python3"
  },
  "language_info": {
   "codemirror_mode": {
    "name": "ipython",
    "version": 3
   },
   "file_extension": ".py",
   "mimetype": "text/x-python",
   "name": "python",
   "nbconvert_exporter": "python",
   "pygments_lexer": "ipython3",
   "version": "3.11.5"
  }
 },
 "nbformat": 4,
 "nbformat_minor": 5
}
