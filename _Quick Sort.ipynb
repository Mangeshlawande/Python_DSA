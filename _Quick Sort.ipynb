{
 "cells": [
  {
   "cell_type": "code",
   "execution_count": 1,
   "id": "03867313",
   "metadata": {},
   "outputs": [],
   "source": [
    "def QS(arr):\n",
    "    \n",
    "    left  =  []\n",
    "    right = []\n",
    "    \n",
    "    if len(arr) <= 1:\n",
    "        return arr\n",
    "    \n",
    "    else:\n",
    "        \n",
    "        pivot = arr[0]\n",
    "        \n",
    "        for x in arr[1:]:\n",
    "            if x < pivot:\n",
    "                left.append(x)\n",
    "            if x >= pivot:  # else is working here:\n",
    "                right.append(x)\n",
    "        return QS(left) + [pivot] + QS(right)\n",
    "    \n",
    "    "
   ]
  },
  {
   "cell_type": "code",
   "execution_count": 2,
   "id": "cb95ea51",
   "metadata": {},
   "outputs": [
    {
     "name": "stdout",
     "output_type": "stream",
     "text": [
      "initial array: [6, 5, 4, 7, 2]\n",
      "final Array: [2, 4, 5, 6, 7]\n"
     ]
    }
   ],
   "source": [
    "a = [ 6, 5, 4, 7, 2]\n",
    "print(\"initial array:\",a)\n",
    "sa = QS(a) # sa --> sorted array\n",
    "print(\"final Array:\",sa)"
   ]
  },
  {
   "cell_type": "code",
   "execution_count": 3,
   "id": "8341a00b",
   "metadata": {},
   "outputs": [
    {
     "name": "stdout",
     "output_type": "stream",
     "text": [
      "Provide array :45\n",
      "Provided array: 45\n",
      "final array: ['4', '5']\n"
     ]
    }
   ],
   "source": [
    "b =input(\"Provide array :\")# input function for taking input from user \n",
    "print(\"Provided array:\", b)\n",
    "sb = QS(b)\n",
    "print(\"final array:\",sb)\n"
   ]
  },
  {
   "cell_type": "code",
   "execution_count": 4,
   "id": "6e210971",
   "metadata": {},
   "outputs": [],
   "source": [
    "def QS1(arr):\n",
    "    \n",
    "    left = []\n",
    "    right = []\n",
    "    \n",
    "    if len(arr) <= 1:\n",
    "        return arr\n",
    "    \n",
    "    else:\n",
    "        pivot = arr[0]\n",
    "        \n",
    "        for x in arr[1:]:\n",
    "            if x < pivot:\n",
    "                left.append(x)\n",
    "            else:\n",
    "                x >= pivot\n",
    "                right.append(x)\n",
    "                \n",
    "        print(\"left -->> \",left)\n",
    "        print(\"right -->>\",right)\n",
    "        print(\"pivot -->>\", pivot,\"\\n\")\n",
    "        return QS1(left) + [pivot] + QS1(right)\n",
    "                \n",
    "            "
   ]
  },
  {
   "cell_type": "code",
   "execution_count": 5,
   "id": "147b4808",
   "metadata": {},
   "outputs": [
    {
     "name": "stdout",
     "output_type": "stream",
     "text": [
      "initial array : [6, 5, 4, 7, 2]\n",
      "left -->>  [5, 4, 2]\n",
      "right -->> [7]\n",
      "pivot -->> 6 \n",
      "\n",
      "left -->>  [4, 2]\n",
      "right -->> []\n",
      "pivot -->> 5 \n",
      "\n",
      "left -->>  [2]\n",
      "right -->> []\n",
      "pivot -->> 4 \n",
      "\n",
      "Final array: [2, 4, 5, 6, 7]\n"
     ]
    }
   ],
   "source": [
    " a = [ 6, 5, 4 , 7, 2]\n",
    "print(\"initial array :\",a)\n",
    "sa = QS1(a)\n",
    "print(\"Final array:\",sa)"
   ]
  },
  {
   "cell_type": "code",
   "execution_count": 6,
   "id": "f40a1358",
   "metadata": {},
   "outputs": [
    {
     "name": "stdout",
     "output_type": "stream",
     "text": [
      "left -->>  [2, 1]\n",
      "right -->> [5, 4, 6]\n",
      "pivot -->> 3 \n",
      "\n",
      "left -->>  [1]\n",
      "right -->> []\n",
      "pivot -->> 2 \n",
      "\n",
      "left -->>  [4]\n",
      "right -->> [6]\n",
      "pivot -->> 5 \n",
      "\n",
      "Final array: [1, 2, 3, 4, 5, 6]\n"
     ]
    }
   ],
   "source": [
    "a = [3,2,5,4,1,6]\n",
    "\n",
    "sa = QS1(a)\n",
    "\n",
    "print(\"Final array:\",sa)"
   ]
  },
  {
   "cell_type": "code",
   "execution_count": 7,
   "id": "acfc2077",
   "metadata": {},
   "outputs": [
    {
     "name": "stdout",
     "output_type": "stream",
     "text": [
      "left -->>  [2, 3]\n",
      "right -->> [8, 9]\n",
      "pivot -->> 7 \n",
      "\n",
      "left -->>  []\n",
      "right -->> [3]\n",
      "pivot -->> 2 \n",
      "\n",
      "left -->>  []\n",
      "right -->> [9]\n",
      "pivot -->> 8 \n",
      "\n",
      "Final array: [2, 3, 7, 8, 9]\n"
     ]
    }
   ],
   "source": [
    "a = [7,8,2,3,9]\n",
    "\n",
    "sa = QS1(a)\n",
    "\n",
    "print(\"Final array:\",sa)"
   ]
  },
  {
   "cell_type": "code",
   "execution_count": null,
   "id": "c03ec302",
   "metadata": {},
   "outputs": [],
   "source": []
  }
 ],
 "metadata": {
  "kernelspec": {
   "display_name": "Python 3 (ipykernel)",
   "language": "python",
   "name": "python3"
  },
  "language_info": {
   "codemirror_mode": {
    "name": "ipython",
    "version": 3
   },
   "file_extension": ".py",
   "mimetype": "text/x-python",
   "name": "python",
   "nbconvert_exporter": "python",
   "pygments_lexer": "ipython3",
   "version": "3.10.9"
  }
 },
 "nbformat": 4,
 "nbformat_minor": 5
}
