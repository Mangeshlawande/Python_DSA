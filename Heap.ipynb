{
 "cells": [
  {
   "cell_type": "code",
   "execution_count": 1,
   "id": "d5da67fc",
   "metadata": {},
   "outputs": [],
   "source": [
    "import heapq"
   ]
  },
  {
   "cell_type": "code",
   "execution_count": 2,
   "id": "64f89e66",
   "metadata": {},
   "outputs": [],
   "source": [
    "arr = [5,2,7,3,8]"
   ]
  },
  {
   "cell_type": "code",
   "execution_count": 3,
   "id": "d66d2395",
   "metadata": {},
   "outputs": [
    {
     "data": {
      "text/plain": [
       "[2, 3, 7, 5, 8]"
      ]
     },
     "execution_count": 3,
     "metadata": {},
     "output_type": "execute_result"
    }
   ],
   "source": [
    "heapq.heapify(arr)\n",
    "arr"
   ]
  },
  {
   "cell_type": "code",
   "execution_count": 4,
   "id": "b9e7eb35",
   "metadata": {},
   "outputs": [
    {
     "data": {
      "text/plain": [
       "[2, 3, 7, 5, 8, 9]"
      ]
     },
     "execution_count": 4,
     "metadata": {},
     "output_type": "execute_result"
    }
   ],
   "source": [
    "heapq.heappush(arr,9)\n",
    "arr"
   ]
  },
  {
   "cell_type": "code",
   "execution_count": 5,
   "id": "6cea056b",
   "metadata": {},
   "outputs": [
    {
     "data": {
      "text/plain": [
       "[2, 3, 4, 5, 8, 9, 7]"
      ]
     },
     "execution_count": 5,
     "metadata": {},
     "output_type": "execute_result"
    }
   ],
   "source": [
    "heapq.heappush(arr,4)\n",
    "arr"
   ]
  },
  {
   "cell_type": "code",
   "execution_count": 6,
   "id": "f4e582e1",
   "metadata": {},
   "outputs": [
    {
     "data": {
      "text/plain": [
       "[2, 3, 4, 5, 8, 9, 7, 1]"
      ]
     },
     "execution_count": 6,
     "metadata": {},
     "output_type": "execute_result"
    }
   ],
   "source": [
    "arr.append(1)\n",
    "arr"
   ]
  },
  {
   "cell_type": "code",
   "execution_count": 7,
   "id": "14c1fe10",
   "metadata": {},
   "outputs": [
    {
     "data": {
      "text/plain": [
       "[1, 2, 4, 3, 8, 9, 7, 5]"
      ]
     },
     "execution_count": 7,
     "metadata": {},
     "output_type": "execute_result"
    }
   ],
   "source": [
    "heapq.heapify(arr)\n",
    "arr"
   ]
  },
  {
   "cell_type": "code",
   "execution_count": 8,
   "id": "baa13220",
   "metadata": {},
   "outputs": [
    {
     "name": "stdout",
     "output_type": "stream",
     "text": [
      "k= 0 parent node ->  1 \n",
      "\n",
      "-->left child of {1} ->  2 \n",
      "\n",
      "-->right child of {1} ->  4 \n",
      "\n",
      "k= 1 parent node ->  2 \n",
      "\n",
      "-->left child of {2} ->  3 \n",
      "\n",
      "-->right child of {2} ->  8 \n",
      "\n",
      "k= 2 parent node ->  4 \n",
      "\n",
      "-->left child of {4} ->  9 \n",
      "\n",
      "-->right child of {4} ->  7 \n",
      "\n",
      "k= 3 parent node ->  3 \n",
      "\n",
      "-->left child of {3} ->  5 \n",
      "\n"
     ]
    }
   ],
   "source": [
    "n = len(arr)\n",
    "for k in range(n):\n",
    "    left = 2*k+1\n",
    "    right = 2*k+2\n",
    "    if left<n:\n",
    "        print('k=',k,'parent node -> ',arr[k],'\\n')\n",
    "        print('-->left child of',{arr[k]},'-> ',arr[left],'\\n')\n",
    "    if right<n:\n",
    "        print('-->right child of',{arr[k]},'-> ',arr[right],'\\n')\n",
    "    "
   ]
  },
  {
   "cell_type": "code",
   "execution_count": 9,
   "id": "7345f13f",
   "metadata": {},
   "outputs": [
    {
     "data": {
      "text/plain": [
       "[1, 2, 4, 3, 6, 5, 8, 7, 9]"
      ]
     },
     "execution_count": 9,
     "metadata": {},
     "output_type": "execute_result"
    }
   ],
   "source": [
    "heap = [4,3,1,2,6,5,8,7,9]\n",
    "heapq.heapify(heap)\n",
    "heap"
   ]
  },
  {
   "cell_type": "code",
   "execution_count": 10,
   "id": "e81fcbdb",
   "metadata": {},
   "outputs": [],
   "source": [
    "def display(arr):\n",
    "    n = len(arr)\n",
    "    for k in range(n):\n",
    "        left = 2*k+1\n",
    "        right = 2*k+2\n",
    "        if left<n:\n",
    "            print('k=',k,'parent node -> ',arr[k],'\\n')\n",
    "            print('-->left child of',{arr[k]},'-> ',arr[left],'\\n')\n",
    "        if right<n:\n",
    "            print('-->right child of',{arr[k]},'-> ',arr[right],'\\n')"
   ]
  },
  {
   "cell_type": "code",
   "execution_count": 11,
   "id": "02796c44",
   "metadata": {},
   "outputs": [
    {
     "name": "stdout",
     "output_type": "stream",
     "text": [
      "k= 0 parent node ->  1 \n",
      "\n",
      "-->left child of {1} ->  2 \n",
      "\n",
      "-->right child of {1} ->  4 \n",
      "\n",
      "k= 1 parent node ->  2 \n",
      "\n",
      "-->left child of {2} ->  3 \n",
      "\n",
      "-->right child of {2} ->  6 \n",
      "\n",
      "k= 2 parent node ->  4 \n",
      "\n",
      "-->left child of {4} ->  5 \n",
      "\n",
      "-->right child of {4} ->  8 \n",
      "\n",
      "k= 3 parent node ->  3 \n",
      "\n",
      "-->left child of {3} ->  7 \n",
      "\n",
      "-->right child of {3} ->  9 \n",
      "\n"
     ]
    }
   ],
   "source": [
    "display(heap)"
   ]
  },
  {
   "cell_type": "markdown",
   "id": "7da81a45",
   "metadata": {},
   "source": [
    "Max Heap"
   ]
  },
  {
   "cell_type": "code",
   "execution_count": 12,
   "id": "6ae6b648",
   "metadata": {},
   "outputs": [
    {
     "data": {
      "text/plain": [
       "[-9, -7, -8, -4, -6, -5, -1, -3, -2]"
      ]
     },
     "execution_count": 12,
     "metadata": {},
     "output_type": "execute_result"
    }
   ],
   "source": [
    "heap1 = [-4,-3,-1,-2,-6,-5,-8,-7,-9]\n",
    "heapq.heapify(heap1)\n",
    "heap1"
   ]
  },
  {
   "cell_type": "code",
   "execution_count": 13,
   "id": "acca67cc",
   "metadata": {},
   "outputs": [
    {
     "data": {
      "text/plain": [
       "[9, 7, 8, 4, 6, 5, 1, 3, 2]"
      ]
     },
     "execution_count": 13,
     "metadata": {},
     "output_type": "execute_result"
    }
   ],
   "source": [
    "heap2 = []\n",
    "for i in range(len(heap1)):\n",
    "    data = abs(heap1[i])\n",
    "    heap2.append(data)\n",
    "    \n",
    "heap2"
   ]
  },
  {
   "cell_type": "code",
   "execution_count": 14,
   "id": "5df01d98",
   "metadata": {},
   "outputs": [
    {
     "name": "stdout",
     "output_type": "stream",
     "text": [
      "k= 0 parent node ->  9 \n",
      "\n",
      "-->left child of {9} ->  7 \n",
      "\n",
      "-->right child of {9} ->  8 \n",
      "\n",
      "k= 1 parent node ->  7 \n",
      "\n",
      "-->left child of {7} ->  4 \n",
      "\n",
      "-->right child of {7} ->  6 \n",
      "\n",
      "k= 2 parent node ->  8 \n",
      "\n",
      "-->left child of {8} ->  5 \n",
      "\n",
      "-->right child of {8} ->  1 \n",
      "\n",
      "k= 3 parent node ->  4 \n",
      "\n",
      "-->left child of {4} ->  3 \n",
      "\n",
      "-->right child of {4} ->  2 \n",
      "\n"
     ]
    }
   ],
   "source": [
    "display(heap2)"
   ]
  },
  {
   "cell_type": "code",
   "execution_count": null,
   "id": "22d98cee",
   "metadata": {},
   "outputs": [],
   "source": []
  },
  {
   "cell_type": "code",
   "execution_count": null,
   "id": "2544697a",
   "metadata": {},
   "outputs": [],
   "source": []
  },
  {
   "cell_type": "code",
   "execution_count": 15,
   "id": "3e3892bc",
   "metadata": {},
   "outputs": [
    {
     "data": {
      "text/plain": [
       "(1, 'A')"
      ]
     },
     "execution_count": 15,
     "metadata": {},
     "output_type": "execute_result"
    }
   ],
   "source": [
    "from queue import PriorityQueue\n",
    "q = PriorityQueue()\n",
    "q.put((1,'B'))\n",
    "q.put((1,'A'))\n",
    "q.put((2,'C'))\n",
    "q.get()"
   ]
  },
  {
   "cell_type": "code",
   "execution_count": 16,
   "id": "1e9a5b87",
   "metadata": {},
   "outputs": [
    {
     "data": {
      "text/plain": [
       "(1, 'B')"
      ]
     },
     "execution_count": 16,
     "metadata": {},
     "output_type": "execute_result"
    }
   ],
   "source": [
    "q.get()"
   ]
  },
  {
   "cell_type": "code",
   "execution_count": 17,
   "id": "4e913a5f",
   "metadata": {},
   "outputs": [
    {
     "data": {
      "text/plain": [
       "(1, 1, 'B')"
      ]
     },
     "execution_count": 17,
     "metadata": {},
     "output_type": "execute_result"
    }
   ],
   "source": [
    "q = PriorityQueue()\n",
    "q.put((1,1,'B'))\n",
    "q.put((1,2,'A'))\n",
    "q.put((2,1,'C'))\n",
    "q.get()"
   ]
  },
  {
   "cell_type": "code",
   "execution_count": 18,
   "id": "99fd26cd",
   "metadata": {},
   "outputs": [
    {
     "data": {
      "text/plain": [
       "(1, 2, 'A')"
      ]
     },
     "execution_count": 18,
     "metadata": {},
     "output_type": "execute_result"
    }
   ],
   "source": [
    "q.get()"
   ]
  },
  {
   "cell_type": "code",
   "execution_count": null,
   "id": "ee5ddda4",
   "metadata": {},
   "outputs": [],
   "source": []
  }
 ],
 "metadata": {
  "kernelspec": {
   "display_name": "Python 3 (ipykernel)",
   "language": "python",
   "name": "python3"
  },
  "language_info": {
   "codemirror_mode": {
    "name": "ipython",
    "version": 3
   },
   "file_extension": ".py",
   "mimetype": "text/x-python",
   "name": "python",
   "nbconvert_exporter": "python",
   "pygments_lexer": "ipython3",
   "version": "3.9.13"
  }
 },
 "nbformat": 4,
 "nbformat_minor": 5
}
