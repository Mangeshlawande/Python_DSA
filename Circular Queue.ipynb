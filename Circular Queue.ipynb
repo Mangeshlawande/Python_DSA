{
 "cells": [
  {
   "cell_type": "markdown",
   "id": "f47cbb08",
   "metadata": {},
   "source": [
    "# CIRCULAR QUEUE"
   ]
  },
  {
   "cell_type": "code",
   "execution_count": 2,
   "id": "1f69ac50",
   "metadata": {},
   "outputs": [],
   "source": [
    "class CQ():\n",
    "    \n",
    "    def __init__(cq, maxsize):\n",
    "        cq.front = cq.rear = -1\n",
    "        cq.max = maxsize\n",
    "        cq.queue = [None] * maxsize\n",
    "        \n",
    "    def Enqueue (cq, item):\n",
    "        \n",
    "        if ((cq.rear + 1) % cq.max == cq.front):\n",
    "            print('Queue is Full')\n",
    "            \n",
    "        elif (cq.front == -1):\n",
    "            cq.front = 0\n",
    "            cq.rear = 0\n",
    "            cq.queue[cq.rear] = item\n",
    "        else:\n",
    "            cq.rear = (cq.rear + 1) % cq.max\n",
    "            cq.queue[cq.rear] = item\n",
    "            \n",
    "    def Dequeue(cq):\n",
    "        if (cq.front == -1):\n",
    "            print(\"Queue is Empty \")\n",
    "            \n",
    "        elif(cq.front == cq.rear):\n",
    "            delq = cq.queue[cq.front]\n",
    "            cq.front = -1\n",
    "            cq.rear = -1\n",
    "            return delq\n",
    "        else:\n",
    "            delq = cq.queue[cq.front]\n",
    "            cq.front = (cq.front + 1) % cq.max\n",
    "            return delq\n",
    "    \n",
    "    def htdisplay(cq):\n",
    "        print(\"Front --> \",cq.front)\n",
    "        print(\"Rear --> \",cq.rear)\n",
    "        \n",
    "    def display(cq):\n",
    "        if (cq.front == cq.rear== -1 ):\n",
    "            print(\"Queue is Empty\")\n",
    "            \n",
    "        elif(cq.rear >= cq.front):\n",
    "            start = cq.front\n",
    "            end = cq.rear + 1 \n",
    "            for i in range(start, end):\n",
    "                print(cq.queue[i])\n",
    "                \n",
    "        else:\n",
    "            first_half = cq.rear + 1 \n",
    "            second_half = cq.front\n",
    "            \n",
    "            for i in range(0, first_half):\n",
    "                print(cq.queue[i])\n",
    "                \n",
    "            for i in range(second_half, cq.max):\n",
    "                print(cq.queue[i])\n",
    "                \n",
    "        "
   ]
  },
  {
   "cell_type": "code",
   "execution_count": 3,
   "id": "ddeaf93d",
   "metadata": {},
   "outputs": [],
   "source": [
    "queue = CQ(5)"
   ]
  },
  {
   "cell_type": "code",
   "execution_count": 4,
   "id": "5d6c1dcd",
   "metadata": {},
   "outputs": [
    {
     "name": "stdout",
     "output_type": "stream",
     "text": [
      "Front -->  0\n",
      "Rear -->  0\n"
     ]
    }
   ],
   "source": [
    "queue.Enqueue('mangesh')\n",
    "queue.htdisplay()"
   ]
  },
  {
   "cell_type": "code",
   "execution_count": 5,
   "id": "03e3c974",
   "metadata": {},
   "outputs": [
    {
     "name": "stdout",
     "output_type": "stream",
     "text": [
      "Front -->  0\n",
      "Rear -->  1\n"
     ]
    }
   ],
   "source": [
    "queue.Enqueue('venkatesh')\n",
    "queue.htdisplay()"
   ]
  },
  {
   "cell_type": "code",
   "execution_count": 7,
   "id": "742b237d",
   "metadata": {},
   "outputs": [
    {
     "name": "stdout",
     "output_type": "stream",
     "text": [
      "Front -->  0\n",
      "Rear -->  2\n"
     ]
    }
   ],
   "source": [
    "queue.Enqueue('sidhesh')\n",
    "queue.htdisplay()"
   ]
  },
  {
   "cell_type": "code",
   "execution_count": 8,
   "id": "a536e470",
   "metadata": {},
   "outputs": [
    {
     "name": "stdout",
     "output_type": "stream",
     "text": [
      "Front -->  0\n",
      "Rear -->  3\n"
     ]
    }
   ],
   "source": [
    "queue.Enqueue('pooja')\n",
    "queue.htdisplay()"
   ]
  },
  {
   "cell_type": "code",
   "execution_count": 9,
   "id": "5d8a66df",
   "metadata": {},
   "outputs": [
    {
     "name": "stdout",
     "output_type": "stream",
     "text": [
      "Front -->  0\n",
      "Rear -->  4\n"
     ]
    }
   ],
   "source": [
    "queue.Enqueue('annie')\n",
    "queue.htdisplay()"
   ]
  },
  {
   "cell_type": "code",
   "execution_count": 10,
   "id": "fe9ccd3d",
   "metadata": {},
   "outputs": [
    {
     "name": "stdout",
     "output_type": "stream",
     "text": [
      "Queue is Full\n",
      "Front -->  0\n",
      "Rear -->  4\n"
     ]
    }
   ],
   "source": [
    "queue.Enqueue('sorry')\n",
    "queue.htdisplay()"
   ]
  },
  {
   "cell_type": "code",
   "execution_count": 11,
   "id": "9bdca5aa",
   "metadata": {},
   "outputs": [
    {
     "name": "stdout",
     "output_type": "stream",
     "text": [
      "Front -->  1\n",
      "Rear -->  4\n"
     ]
    }
   ],
   "source": [
    "queue.Dequeue()\n",
    "queue.htdisplay()"
   ]
  },
  {
   "cell_type": "code",
   "execution_count": 12,
   "id": "5b57ef4b",
   "metadata": {},
   "outputs": [
    {
     "name": "stdout",
     "output_type": "stream",
     "text": [
      "Front -->  2\n",
      "Rear -->  4\n"
     ]
    }
   ],
   "source": [
    "queue.Dequeue()\n",
    "queue.htdisplay()"
   ]
  },
  {
   "cell_type": "code",
   "execution_count": 13,
   "id": "c051b04d",
   "metadata": {},
   "outputs": [
    {
     "name": "stdout",
     "output_type": "stream",
     "text": [
      "Front -->  3\n",
      "Rear -->  4\n"
     ]
    }
   ],
   "source": [
    "queue.Dequeue()\n",
    "queue.htdisplay()"
   ]
  },
  {
   "cell_type": "code",
   "execution_count": 14,
   "id": "49035861",
   "metadata": {},
   "outputs": [
    {
     "name": "stdout",
     "output_type": "stream",
     "text": [
      "Front -->  4\n",
      "Rear -->  4\n"
     ]
    }
   ],
   "source": [
    "queue.Dequeue()\n",
    "queue.htdisplay()\n"
   ]
  },
  {
   "cell_type": "code",
   "execution_count": 15,
   "id": "4ea5c0e3",
   "metadata": {},
   "outputs": [
    {
     "name": "stdout",
     "output_type": "stream",
     "text": [
      "Front -->  -1\n",
      "Rear -->  -1\n"
     ]
    }
   ],
   "source": [
    "queue.Dequeue()\n",
    "queue.htdisplay()"
   ]
  },
  {
   "cell_type": "code",
   "execution_count": 16,
   "id": "d2ce3fb4",
   "metadata": {},
   "outputs": [
    {
     "name": "stdout",
     "output_type": "stream",
     "text": [
      "Queue is Empty \n"
     ]
    }
   ],
   "source": [
    "queue.Dequeue()"
   ]
  },
  {
   "cell_type": "code",
   "execution_count": 17,
   "id": "ec0b05fc",
   "metadata": {},
   "outputs": [
    {
     "name": "stdout",
     "output_type": "stream",
     "text": [
      "Front -->  0\n",
      "Rear -->  0\n"
     ]
    }
   ],
   "source": [
    "queue.Enqueue('sorry')\n",
    "queue.htdisplay()"
   ]
  },
  {
   "cell_type": "code",
   "execution_count": 18,
   "id": "70bf354a",
   "metadata": {},
   "outputs": [
    {
     "data": {
      "text/plain": [
       "'sorry'"
      ]
     },
     "execution_count": 18,
     "metadata": {},
     "output_type": "execute_result"
    }
   ],
   "source": [
    "queue.Dequeue()"
   ]
  },
  {
   "cell_type": "code",
   "execution_count": 24,
   "id": "9b91cc6f",
   "metadata": {},
   "outputs": [
    {
     "name": "stdout",
     "output_type": "stream",
     "text": [
      "Queue is Full\n",
      "Queue is Full\n",
      "Queue is Full\n",
      "Queue is Full\n",
      "Queue is Full\n",
      "Queue is Full\n",
      "1\n",
      "2\n",
      "3\n",
      "4\n",
      "5\n"
     ]
    }
   ],
   "source": [
    "queue.Enqueue(1)\n",
    "queue.Enqueue(2)\n",
    "queue.Enqueue(3)\n",
    "queue.Enqueue(4)\n",
    "queue.Enqueue(5)\n",
    "queue.Enqueue(6)\n",
    "queue.display()"
   ]
  },
  {
   "cell_type": "code",
   "execution_count": 25,
   "id": "6e30002c",
   "metadata": {},
   "outputs": [
    {
     "name": "stdout",
     "output_type": "stream",
     "text": [
      "1\n",
      "2\n",
      "3\n",
      "4\n",
      "5\n"
     ]
    }
   ],
   "source": [
    "queue.display()"
   ]
  },
  {
   "cell_type": "code",
   "execution_count": 26,
   "id": "ddaeb655",
   "metadata": {},
   "outputs": [
    {
     "name": "stdout",
     "output_type": "stream",
     "text": [
      "Front -->  1\n",
      "Rear -->  4\n"
     ]
    }
   ],
   "source": [
    "queue.Dequeue()\n",
    "queue.htdisplay()"
   ]
  },
  {
   "cell_type": "code",
   "execution_count": 28,
   "id": "29ef43ee",
   "metadata": {},
   "outputs": [
    {
     "name": "stdout",
     "output_type": "stream",
     "text": [
      "Queue is Full\n"
     ]
    }
   ],
   "source": [
    "queue.Enqueue(6)\n"
   ]
  },
  {
   "cell_type": "code",
   "execution_count": 29,
   "id": "c4cdf81f",
   "metadata": {},
   "outputs": [
    {
     "name": "stdout",
     "output_type": "stream",
     "text": [
      "Front -->  1\n",
      "Rear -->  0\n"
     ]
    }
   ],
   "source": [
    "queue.htdisplay()"
   ]
  },
  {
   "cell_type": "code",
   "execution_count": 30,
   "id": "61ae869f",
   "metadata": {},
   "outputs": [
    {
     "name": "stdout",
     "output_type": "stream",
     "text": [
      "Front -->  2\n",
      "Rear -->  0\n"
     ]
    }
   ],
   "source": [
    "queue.Dequeue()\n",
    "queue.htdisplay()"
   ]
  },
  {
   "cell_type": "code",
   "execution_count": 31,
   "id": "e52c44dc",
   "metadata": {},
   "outputs": [
    {
     "name": "stdout",
     "output_type": "stream",
     "text": [
      "Front -->  2\n",
      "Rear -->  1\n"
     ]
    }
   ],
   "source": [
    "queue.Enqueue(7)\n",
    "queue.htdisplay()"
   ]
  },
  {
   "cell_type": "code",
   "execution_count": 32,
   "id": "49db471c",
   "metadata": {},
   "outputs": [
    {
     "name": "stdout",
     "output_type": "stream",
     "text": [
      "6\n",
      "7\n",
      "3\n",
      "4\n",
      "5\n"
     ]
    }
   ],
   "source": [
    "queue.display()"
   ]
  },
  {
   "cell_type": "code",
   "execution_count": null,
   "id": "425588d6",
   "metadata": {},
   "outputs": [],
   "source": []
  }
 ],
 "metadata": {
  "kernelspec": {
   "display_name": "Python 3 (ipykernel)",
   "language": "python",
   "name": "python3"
  },
  "language_info": {
   "codemirror_mode": {
    "name": "ipython",
    "version": 3
   },
   "file_extension": ".py",
   "mimetype": "text/x-python",
   "name": "python",
   "nbconvert_exporter": "python",
   "pygments_lexer": "ipython3",
   "version": "3.11.5"
  }
 },
 "nbformat": 4,
 "nbformat_minor": 5
}
