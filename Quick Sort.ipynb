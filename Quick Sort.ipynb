{
 "cells": [
  {
   "cell_type": "code",
   "execution_count": 2,
   "id": "6a298c6e",
   "metadata": {},
   "outputs": [],
   "source": [
    "def QS(arr):\n",
    "    \n",
    "    left  = []\n",
    "    right = []\n",
    "    \n",
    "    if len(arr) <= 1:   \n",
    "     return arr\n",
    "\n",
    "    else:\n",
    "\n",
    "        pivot = arr[0]\n",
    "        \n",
    "        for x in arr[1:]:\n",
    "            if x < pivot:\n",
    "                left.append(x) \n",
    "            if x >= pivot:\n",
    "                right.append(x)\n",
    "        return QS(left) + [pivot] + QS(right)\n",
    "\n"
   ]
  },
  {
   "cell_type": "code",
   "execution_count": 3,
   "id": "038b93e0",
   "metadata": {},
   "outputs": [
    {
     "name": "stdout",
     "output_type": "stream",
     "text": [
      "Initial array: [6, 5, 4, 7, 2]\n",
      "Final array: [2, 4, 5, 6, 7]\n"
     ]
    }
   ],
   "source": [
    "a = [6,5,4,7,2]\n",
    "print(\"Initial array:\", a)\n",
    "sa = QS(a)\n",
    "print(\"Final array:\", sa)"
   ]
  },
  {
   "cell_type": "code",
   "execution_count": 35,
   "id": "35223004",
   "metadata": {},
   "outputs": [
    {
     "name": "stdout",
     "output_type": "stream",
     "text": [
      "Enter Element11\n",
      "want more elementsy\n",
      "Enter Element12\n",
      "want more elementsy\n",
      "Enter Element10\n",
      "want more elementsn\n",
      "Provided array: [11, 12, 10]\n",
      "Final array: [10, 11, 12]\n"
     ]
    }
   ],
   "source": [
    "b = []\n",
    "yn = 'y'\n",
    "while yn == 'y':\n",
    "  bb = int(input('Enter Element'))\n",
    "  b.append(bb)\n",
    "  yn = input('want more elements')\n",
    "\n",
    "print(\"Provided array:\", b)\n",
    "sb = QS(b)\n",
    "print(\"Final array:\", sb)"
   ]
  },
  {
   "cell_type": "code",
   "execution_count": 16,
   "id": "70b0abd5",
   "metadata": {},
   "outputs": [],
   "source": [
    "def QS1(arr):\n",
    "    \n",
    "    left  = []\n",
    "    right = []\n",
    "    \n",
    "    if len(arr) <= 1:\n",
    "     return arr\n",
    "\n",
    "    else:\n",
    "\n",
    "        pivot = arr[0]\n",
    "        \n",
    "        for x in arr[1:]:\n",
    "            if x < pivot:\n",
    "                left.append(x) \n",
    "            if x >= pivot:\n",
    "                right.append(x)\n",
    "        print('left -->>',left)\n",
    "        print('rigth -->>',right)\n",
    "        print('pivot -->>',pivot,'\\n')\n",
    "        return QS1(left) + [pivot] + QS1(right)\n"
   ]
  },
  {
   "cell_type": "code",
   "execution_count": 17,
   "id": "a1da2854",
   "metadata": {},
   "outputs": [
    {
     "name": "stdout",
     "output_type": "stream",
     "text": [
      "Initial array: [6, 5, 4, 7, 2]\n",
      "left -->> [5, 4, 2]\n",
      "rigth -->> [7]\n",
      "pivot -->> 6 \n",
      "\n",
      "left -->> [4, 2]\n",
      "rigth -->> []\n",
      "pivot -->> 5 \n",
      "\n",
      "left -->> [2]\n",
      "rigth -->> []\n",
      "pivot -->> 4 \n",
      "\n",
      "Final array: [2, 4, 5, 6, 7]\n"
     ]
    }
   ],
   "source": [
    "a = [6,5,4,7,2]\n",
    "print(\"Initial array:\", a)\n",
    "sa = QS1(a)\n",
    "print(\"Final array:\", sa)"
   ]
  },
  {
   "cell_type": "code",
   "execution_count": 18,
   "id": "4c93c4e4",
   "metadata": {},
   "outputs": [
    {
     "name": "stdout",
     "output_type": "stream",
     "text": [
      "left -->> [2, 1]\n",
      "rigth -->> [5, 4]\n",
      "pivot -->> 3 \n",
      "\n",
      "left -->> [1]\n",
      "rigth -->> []\n",
      "pivot -->> 2 \n",
      "\n",
      "left -->> [4]\n",
      "rigth -->> []\n",
      "pivot -->> 5 \n",
      "\n",
      "Final array: [1, 2, 3, 4, 5]\n"
     ]
    }
   ],
   "source": [
    "a = [3,2,5,4,1]\n",
    "sa = QS1(a)\n",
    "print(\"Final array:\", sa)"
   ]
  },
  {
   "cell_type": "code",
   "execution_count": 22,
   "id": "56806e79",
   "metadata": {},
   "outputs": [
    {
     "name": "stdout",
     "output_type": "stream",
     "text": [
      "left -->> [2, 3]\n",
      "rigth -->> [8, 9]\n",
      "pivot -->> 7 \n",
      "\n",
      "left -->> []\n",
      "rigth -->> [3]\n",
      "pivot -->> 2 \n",
      "\n",
      "left -->> []\n",
      "rigth -->> [9]\n",
      "pivot -->> 8 \n",
      "\n",
      "Final array: [2, 3, 7, 8, 9]\n"
     ]
    }
   ],
   "source": [
    "a = [7,8,2,3,9]\n",
    "sa = QS1(a)\n",
    "print(\"Final array:\", sa)"
   ]
  },
  {
   "cell_type": "code",
   "execution_count": null,
   "id": "6cf21762",
   "metadata": {},
   "outputs": [],
   "source": []
  }
 ],
 "metadata": {
  "kernelspec": {
   "display_name": "Python 3 (ipykernel)",
   "language": "python",
   "name": "python3"
  },
  "language_info": {
   "codemirror_mode": {
    "name": "ipython",
    "version": 3
   },
   "file_extension": ".py",
   "mimetype": "text/x-python",
   "name": "python",
   "nbconvert_exporter": "python",
   "pygments_lexer": "ipython3",
   "version": "3.9.13"
  }
 },
 "nbformat": 4,
 "nbformat_minor": 5
}
