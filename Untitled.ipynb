{
 "cells": [
  {
   "cell_type": "code",
   "execution_count": 1,
   "id": "a2e2bd21",
   "metadata": {},
   "outputs": [],
   "source": [
    "#Assignment 1.PriorityQueue implementation -->write a function like append() ,sort(),pop() in function nature."
   ]
  },
  {
   "cell_type": "code",
   "execution_count": 2,
   "id": "32ab2104",
   "metadata": {},
   "outputs": [],
   "source": [
    "queue_max = 10\n",
    "def queue():\n",
    "    queue = []\n",
    "    return queue"
   ]
  },
  {
   "cell_type": "code",
   "execution_count": 3,
   "id": "8914ce20",
   "metadata": {},
   "outputs": [],
   "source": [
    "def empty(queue):\n",
    "    return len(queue)== 0"
   ]
  },
  {
   "cell_type": "code",
   "execution_count": 4,
   "id": "6ae2b888",
   "metadata": {},
   "outputs": [],
   "source": [
    "def enqueue(queue, Priority, item):\n",
    "    if (len(queue) < queue_max):\n",
    "      queue.append(item)\n",
    "      if(append(item)> current(item)):\n",
    "            queue.sort()\n",
    "      print(\"inserted  Priority & item:\",(Priority, item)) \n",
    "    else:\n",
    "      print(\"Priority queue is full\")"
   ]
  },
  {
   "cell_type": "code",
   "execution_count": null,
   "id": "600aa609",
   "metadata": {},
   "outputs": [],
   "source": []
  },
  {
   "cell_type": "code",
   "execution_count": 5,
   "id": "2e9745ee",
   "metadata": {},
   "outputs": [],
   "source": [
    "def dequeue(pq2):\n",
    "    if (empty(pq2)):\n",
    "        return \"Priority Queue is empty\"\n",
    "    print(\"Removed item :\",queue.pop(0))"
   ]
  },
  {
   "cell_type": "code",
   "execution_count": 6,
   "id": "43b62010",
   "metadata": {},
   "outputs": [],
   "source": [
    "def peek(queue):\n",
    "    return queue[0]"
   ]
  },
  {
   "cell_type": "code",
   "execution_count": 7,
   "id": "7ad106a8",
   "metadata": {},
   "outputs": [],
   "source": [
    "def display(queue):\n",
    "    return queue"
   ]
  },
  {
   "cell_type": "code",
   "execution_count": 8,
   "id": "0f698d1e",
   "metadata": {},
   "outputs": [],
   "source": [
    "q = queue()"
   ]
  },
  {
   "cell_type": "code",
   "execution_count": 9,
   "id": "d43dfcbf",
   "metadata": {},
   "outputs": [
    {
     "ename": "NameError",
     "evalue": "name 'append' is not defined",
     "output_type": "error",
     "traceback": [
      "\u001b[1;31m---------------------------------------------------------------------------\u001b[0m",
      "\u001b[1;31mNameError\u001b[0m                                 Traceback (most recent call last)",
      "Cell \u001b[1;32mIn[9], line 1\u001b[0m\n\u001b[1;32m----> 1\u001b[0m \u001b[43menqueue\u001b[49m\u001b[43m(\u001b[49m\u001b[43mq\u001b[49m\u001b[43m,\u001b[49m\u001b[38;5;241;43m10\u001b[39;49m\u001b[43m,\u001b[49m\u001b[38;5;241;43m3\u001b[39;49m\u001b[43m)\u001b[49m\n\u001b[0;32m      2\u001b[0m enqueue(q,\u001b[38;5;241m15\u001b[39m,\u001b[38;5;241m7\u001b[39m)\n\u001b[0;32m      3\u001b[0m enqueue(q,\u001b[38;5;241m8\u001b[39m,\u001b[38;5;241m2\u001b[39m)\n",
      "Cell \u001b[1;32mIn[4], line 4\u001b[0m, in \u001b[0;36menqueue\u001b[1;34m(queue, Priority, item)\u001b[0m\n\u001b[0;32m      2\u001b[0m \u001b[38;5;28;01mif\u001b[39;00m (\u001b[38;5;28mlen\u001b[39m(queue) \u001b[38;5;241m<\u001b[39m queue_max):\n\u001b[0;32m      3\u001b[0m   queue\u001b[38;5;241m.\u001b[39mappend(item)\n\u001b[1;32m----> 4\u001b[0m   \u001b[38;5;28;01mif\u001b[39;00m(\u001b[43mappend\u001b[49m(item)\u001b[38;5;241m>\u001b[39m current(item)):\n\u001b[0;32m      5\u001b[0m         queue\u001b[38;5;241m.\u001b[39msort()\n\u001b[0;32m      6\u001b[0m   \u001b[38;5;28mprint\u001b[39m(\u001b[38;5;124m\"\u001b[39m\u001b[38;5;124minserted  Priority & item:\u001b[39m\u001b[38;5;124m\"\u001b[39m,(Priority, item)) \n",
      "\u001b[1;31mNameError\u001b[0m: name 'append' is not defined"
     ]
    }
   ],
   "source": [
    "enqueue(q,10,3)\n",
    "enqueue(q,15,7)\n",
    "enqueue(q,8,2)\n",
    "enqueue(q,7,12)\n",
    "enqueue(q,3,11)\n",
    "enqueue(q,5,24)\n",
    "enqueue(q,1,4)"
   ]
  },
  {
   "cell_type": "code",
   "execution_count": null,
   "id": "fdc53cdd",
   "metadata": {},
   "outputs": [],
   "source": [
    "queue.sort()"
   ]
  },
  {
   "cell_type": "code",
   "execution_count": null,
   "id": "9904f5ca",
   "metadata": {},
   "outputs": [],
   "source": [
    "class PriorityQueue:\n",
    "    def __init__(Q):\n",
    "        self.items = []\n",
    "\n",
    "    def append(Q, item, priority):\n",
    "        \"\"\"\n",
    "        Add an item to the priority queue with the given priority.\n",
    "        \"\"\"\n",
    "        Q.items.append((priority, item))\n",
    "\n",
    "    def sort(Q):\n",
    "        \"\"\"\n",
    "        Sort the items in the priority queue based on their priority.\n",
    "        \"\"\"\n",
    "        Q.items.sort()\n",
    "\n",
    "    def pop(Q):\n",
    "        \"\"\"\n",
    "        Remove and return the item with the highest priority.\n",
    "        \"\"\"\n",
    "        if not Q.items:\n",
    "            raise IndexError(\"pop from an empty priority queue\")\n",
    "\n",
    "        _, item = Q.items.pop(0)\n",
    "        return item\n"
   ]
  },
  {
   "cell_type": "code",
   "execution_count": null,
   "id": "054e385d",
   "metadata": {},
   "outputs": [],
   "source": [
    "append(Q,2,\"a\")\n"
   ]
  },
  {
   "cell_type": "code",
   "execution_count": null,
   "id": "ddedb884",
   "metadata": {},
   "outputs": [],
   "source": []
  }
 ],
 "metadata": {
  "kernelspec": {
   "display_name": "Python 3 (ipykernel)",
   "language": "python",
   "name": "python3"
  },
  "language_info": {
   "codemirror_mode": {
    "name": "ipython",
    "version": 3
   },
   "file_extension": ".py",
   "mimetype": "text/x-python",
   "name": "python",
   "nbconvert_exporter": "python",
   "pygments_lexer": "ipython3",
   "version": "3.11.5"
  }
 },
 "nbformat": 4,
 "nbformat_minor": 5
}
