{
 "cells": [
  {
   "cell_type": "code",
   "execution_count": 1,
   "id": "7272f7b2",
   "metadata": {},
   "outputs": [],
   "source": [
    "def normal_fun(x):\n",
    " while x >= 0:\n",
    "  print(x)\n",
    "  x-=1"
   ]
  },
  {
   "cell_type": "code",
   "execution_count": 2,
   "id": "7b3614e7",
   "metadata": {},
   "outputs": [
    {
     "name": "stdout",
     "output_type": "stream",
     "text": [
      "10\n",
      "9\n",
      "8\n",
      "7\n",
      "6\n",
      "5\n",
      "4\n",
      "3\n",
      "2\n",
      "1\n",
      "0\n"
     ]
    }
   ],
   "source": [
    "normal_fun(10)"
   ]
  },
  {
   "cell_type": "code",
   "execution_count": 3,
   "id": "8719c1dd",
   "metadata": {},
   "outputs": [],
   "source": [
    "x=10\n",
    "def recu_fun(x):\n",
    " print(x)\n",
    " if (x > 0):\n",
    "  recu_fun(x-1)"
   ]
  },
  {
   "cell_type": "code",
   "execution_count": 4,
   "id": "181208c7",
   "metadata": {},
   "outputs": [
    {
     "name": "stdout",
     "output_type": "stream",
     "text": [
      "10\n",
      "9\n",
      "8\n",
      "7\n",
      "6\n",
      "5\n",
      "4\n",
      "3\n",
      "2\n",
      "1\n",
      "0\n"
     ]
    }
   ],
   "source": [
    "recu_fun(x)"
   ]
  },
  {
   "cell_type": "code",
   "execution_count": 5,
   "id": "ae246ecf",
   "metadata": {},
   "outputs": [
    {
     "data": {
      "text/plain": [
       "3000"
      ]
     },
     "execution_count": 5,
     "metadata": {},
     "output_type": "execute_result"
    }
   ],
   "source": [
    "from sys import getrecursionlimit\n",
    "getrecursionlimit()"
   ]
  },
  {
   "cell_type": "code",
   "execution_count": 6,
   "id": "82e0e466",
   "metadata": {},
   "outputs": [],
   "source": [
    "def recursion():\n",
    "    x = 10\n",
    "    recursion()"
   ]
  },
  {
   "cell_type": "code",
   "execution_count": 7,
   "id": "ae1454ec",
   "metadata": {},
   "outputs": [
    {
     "ename": "RecursionError",
     "evalue": "maximum recursion depth exceeded",
     "output_type": "error",
     "traceback": [
      "\u001b[0;31m---------------------------------------------------------------------------\u001b[0m",
      "\u001b[0;31mRecursionError\u001b[0m                            Traceback (most recent call last)",
      "\u001b[0;32m/var/folders/m0/4t6ggwz51774ll_46v6qgz3h0000gn/T/ipykernel_52922/1118091169.py\u001b[0m in \u001b[0;36m<module>\u001b[0;34m\u001b[0m\n\u001b[0;32m----> 1\u001b[0;31m \u001b[0mrecursion\u001b[0m\u001b[0;34m(\u001b[0m\u001b[0;34m)\u001b[0m\u001b[0;34m\u001b[0m\u001b[0;34m\u001b[0m\u001b[0m\n\u001b[0m",
      "\u001b[0;32m/var/folders/m0/4t6ggwz51774ll_46v6qgz3h0000gn/T/ipykernel_52922/268178428.py\u001b[0m in \u001b[0;36mrecursion\u001b[0;34m()\u001b[0m\n\u001b[1;32m      1\u001b[0m \u001b[0;32mdef\u001b[0m \u001b[0mrecursion\u001b[0m\u001b[0;34m(\u001b[0m\u001b[0;34m)\u001b[0m\u001b[0;34m:\u001b[0m\u001b[0;34m\u001b[0m\u001b[0;34m\u001b[0m\u001b[0m\n\u001b[1;32m      2\u001b[0m     \u001b[0mx\u001b[0m \u001b[0;34m=\u001b[0m \u001b[0;36m10\u001b[0m\u001b[0;34m\u001b[0m\u001b[0;34m\u001b[0m\u001b[0m\n\u001b[0;32m----> 3\u001b[0;31m     \u001b[0mrecursion\u001b[0m\u001b[0;34m(\u001b[0m\u001b[0;34m)\u001b[0m\u001b[0;34m\u001b[0m\u001b[0;34m\u001b[0m\u001b[0m\n\u001b[0m",
      "... last 1 frames repeated, from the frame below ...\n",
      "\u001b[0;32m/var/folders/m0/4t6ggwz51774ll_46v6qgz3h0000gn/T/ipykernel_52922/268178428.py\u001b[0m in \u001b[0;36mrecursion\u001b[0;34m()\u001b[0m\n\u001b[1;32m      1\u001b[0m \u001b[0;32mdef\u001b[0m \u001b[0mrecursion\u001b[0m\u001b[0;34m(\u001b[0m\u001b[0;34m)\u001b[0m\u001b[0;34m:\u001b[0m\u001b[0;34m\u001b[0m\u001b[0;34m\u001b[0m\u001b[0m\n\u001b[1;32m      2\u001b[0m     \u001b[0mx\u001b[0m \u001b[0;34m=\u001b[0m \u001b[0;36m10\u001b[0m\u001b[0;34m\u001b[0m\u001b[0;34m\u001b[0m\u001b[0m\n\u001b[0;32m----> 3\u001b[0;31m     \u001b[0mrecursion\u001b[0m\u001b[0;34m(\u001b[0m\u001b[0;34m)\u001b[0m\u001b[0;34m\u001b[0m\u001b[0;34m\u001b[0m\u001b[0m\n\u001b[0m",
      "\u001b[0;31mRecursionError\u001b[0m: maximum recursion depth exceeded"
     ]
    }
   ],
   "source": [
    "recursion()"
   ]
  },
  {
   "cell_type": "code",
   "execution_count": 8,
   "id": "ae889577",
   "metadata": {},
   "outputs": [],
   "source": [
    "def factorial(n):\n",
    " if(n == 1):\n",
    "   return 1\n",
    " else:\n",
    "   return n * factorial(n-1)      "
   ]
  },
  {
   "cell_type": "code",
   "execution_count": 9,
   "id": "295bb158",
   "metadata": {},
   "outputs": [
    {
     "data": {
      "text/plain": [
       "2"
      ]
     },
     "execution_count": 9,
     "metadata": {},
     "output_type": "execute_result"
    }
   ],
   "source": [
    "factorial(2)"
   ]
  },
  {
   "cell_type": "code",
   "execution_count": 10,
   "id": "0d90e163",
   "metadata": {},
   "outputs": [
    {
     "data": {
      "text/plain": [
       "6"
      ]
     },
     "execution_count": 10,
     "metadata": {},
     "output_type": "execute_result"
    }
   ],
   "source": [
    "factorial(3)"
   ]
  },
  {
   "cell_type": "code",
   "execution_count": 11,
   "id": "35a5a164",
   "metadata": {},
   "outputs": [
    {
     "data": {
      "text/plain": [
       "120"
      ]
     },
     "execution_count": 11,
     "metadata": {},
     "output_type": "execute_result"
    }
   ],
   "source": [
    "factorial(5)"
   ]
  },
  {
   "cell_type": "code",
   "execution_count": 12,
   "id": "5059a836",
   "metadata": {},
   "outputs": [],
   "source": [
    "def factt(n):\n",
    " if(n == 1):\n",
    "   print(n)\n",
    "   return 1\n",
    " else:\n",
    "   print (n,'*', end=' ')\n",
    "   return n * factt(n-1)"
   ]
  },
  {
   "cell_type": "code",
   "execution_count": 13,
   "id": "0a1d0fb4",
   "metadata": {},
   "outputs": [
    {
     "name": "stdout",
     "output_type": "stream",
     "text": [
      "5 * 4 * 3 * 2 * 1\n"
     ]
    },
    {
     "data": {
      "text/plain": [
       "120"
      ]
     },
     "execution_count": 13,
     "metadata": {},
     "output_type": "execute_result"
    }
   ],
   "source": [
    "factt(5)"
   ]
  },
  {
   "cell_type": "code",
   "execution_count": 14,
   "id": "111d731a",
   "metadata": {},
   "outputs": [
    {
     "name": "stdout",
     "output_type": "stream",
     "text": [
      "1  2\n"
     ]
    }
   ],
   "source": [
    "x=1\n",
    "print(x,\" \", end='')\n",
    "print(x+1)"
   ]
  },
  {
   "cell_type": "code",
   "execution_count": 40,
   "id": "c219732a",
   "metadata": {},
   "outputs": [
    {
     "data": {
      "text/plain": [
       "10"
      ]
     },
     "execution_count": 40,
     "metadata": {},
     "output_type": "execute_result"
    }
   ],
   "source": [
    "def sumfun(n):\n",
    " if n == 1:   \n",
    "  return n\n",
    " else:       \n",
    "  return n + sumfun(n - 1)\n",
    "  \n",
    "\n",
    "\n",
    "sumfun(4)"
   ]
  },
  {
   "cell_type": "code",
   "execution_count": 43,
   "id": "a7185afc",
   "metadata": {},
   "outputs": [
    {
     "name": "stdout",
     "output_type": "stream",
     "text": [
      "20\n",
      "19\n",
      "18\n",
      "17\n",
      "16\n",
      "15\n",
      "14\n",
      "13\n",
      "12\n",
      "11\n",
      "10\n",
      "9\n",
      "8\n",
      "7\n",
      "6\n",
      "5\n",
      "4\n",
      "3\n",
      "2\n",
      "1\n",
      "0\n"
     ]
    }
   ],
   "source": [
    "def fun1(n):\n",
    "    if n >= 0:\n",
    "        print(n)\n",
    "        fun2(n + 1)\n",
    "\n",
    "\n",
    "def fun2(n):\n",
    "    if n > 1:\n",
    "        fun1(n - 2)\n",
    "\n",
    "\n",
    "fun1(20)"
   ]
  },
  {
   "cell_type": "code",
   "execution_count": null,
   "id": "c75a2730",
   "metadata": {},
   "outputs": [],
   "source": [
    "# --->> 0,1,1,2,3,5,8  (fibonacci numbers)\n",
    "# --->> 0,1,2,3,4,5,6  (index)"
   ]
  },
  {
   "cell_type": "code",
   "execution_count": 25,
   "id": "4451e49e",
   "metadata": {},
   "outputs": [],
   "source": [
    "def fib(n):\n",
    "   if n==0 or n==1:\n",
    "      return n\n",
    "   return fib(n-1) + fib(n-2)"
   ]
  },
  {
   "cell_type": "code",
   "execution_count": 26,
   "id": "c3e0fb05",
   "metadata": {},
   "outputs": [
    {
     "data": {
      "text/plain": [
       "5"
      ]
     },
     "execution_count": 26,
     "metadata": {},
     "output_type": "execute_result"
    }
   ],
   "source": [
    "fib(5)"
   ]
  },
  {
   "cell_type": "code",
   "execution_count": 27,
   "id": "7fecaf35",
   "metadata": {},
   "outputs": [
    {
     "data": {
      "text/plain": [
       "3"
      ]
     },
     "execution_count": 27,
     "metadata": {},
     "output_type": "execute_result"
    }
   ],
   "source": [
    "fib(4)"
   ]
  },
  {
   "cell_type": "code",
   "execution_count": 28,
   "id": "dc00877c",
   "metadata": {},
   "outputs": [
    {
     "data": {
      "text/plain": [
       "8"
      ]
     },
     "execution_count": 28,
     "metadata": {},
     "output_type": "execute_result"
    }
   ],
   "source": [
    "fib(6)"
   ]
  },
  {
   "cell_type": "code",
   "execution_count": 38,
   "id": "84e51db8",
   "metadata": {},
   "outputs": [
    {
     "data": {
      "text/plain": [
       "13"
      ]
     },
     "execution_count": 38,
     "metadata": {},
     "output_type": "execute_result"
    }
   ],
   "source": [
    "fib(7)"
   ]
  },
  {
   "cell_type": "code",
   "execution_count": null,
   "id": "0bc06727",
   "metadata": {},
   "outputs": [],
   "source": [
    "f(3) = f(2) + f(1)\n",
    "     = f(1) + f(0) + 1\n",
    "     = 1 + 0 + 1\n",
    "     =  2"
   ]
  }
 ],
 "metadata": {
  "kernelspec": {
   "display_name": "Python 3 (ipykernel)",
   "language": "python",
   "name": "python3"
  },
  "language_info": {
   "codemirror_mode": {
    "name": "ipython",
    "version": 3
   },
   "file_extension": ".py",
   "mimetype": "text/x-python",
   "name": "python",
   "nbconvert_exporter": "python",
   "pygments_lexer": "ipython3",
   "version": "3.9.13"
  }
 },
 "nbformat": 4,
 "nbformat_minor": 5
}
