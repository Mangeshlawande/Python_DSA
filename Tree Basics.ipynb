{
 "cells": [
  {
   "cell_type": "code",
   "execution_count": 1,
   "id": "58651174",
   "metadata": {},
   "outputs": [],
   "source": [
    "class tree:\n",
    "    def __init__(node, data):\n",
    "        node.data = data\n",
    "        node.left = None\n",
    "        node.right = None\n",
    "\n",
    "    def insertnode(node, data,lr):\n",
    "        if lr == 'l':\n",
    "            if node.left:\n",
    "                node.left.insertnode(data,lr)\n",
    "            else:\n",
    "                node.left = tree(data)\n",
    "                return       \n",
    "        else:\n",
    "            if node.right:\n",
    "                node.right.insertnode(data,lr)\n",
    "            else:\n",
    "                node.right = tree(data)\n",
    "                return"
   ]
  },
  {
   "cell_type": "code",
   "execution_count": 2,
   "id": "6f59f240",
   "metadata": {},
   "outputs": [],
   "source": [
    "def preorder(root):\n",
    "        if root:\n",
    "            print(root.data)\n",
    "            preorder(root.left)\n",
    "            preorder(root.right)"
   ]
  },
  {
   "cell_type": "code",
   "execution_count": 3,
   "id": "16d6c43f",
   "metadata": {},
   "outputs": [],
   "source": [
    "def inorder(root):\n",
    "        if root:\n",
    "            inorder(root.left)\n",
    "            print(root.data)\n",
    "            inorder(root.right)"
   ]
  },
  {
   "cell_type": "code",
   "execution_count": 4,
   "id": "2ac9422d",
   "metadata": {},
   "outputs": [],
   "source": [
    "def postorder(root):\n",
    "        if root:\n",
    "            postorder(root.left)\n",
    "            postorder(root.right)\n",
    "            print(root.data)"
   ]
  },
  {
   "cell_type": "code",
   "execution_count": 5,
   "id": "587952d4",
   "metadata": {},
   "outputs": [],
   "source": [
    "root = tree(1)\n",
    "root.insertnode(2,'l')\n",
    "root.insertnode(3,'r')\n",
    "root.insertnode(4,'l')\n",
    "root.insertnode(5,'r')"
   ]
  },
  {
   "cell_type": "code",
   "execution_count": 6,
   "id": "574637e6",
   "metadata": {},
   "outputs": [
    {
     "name": "stdout",
     "output_type": "stream",
     "text": [
      "1\n",
      "2\n",
      "4\n",
      "3\n",
      "5\n"
     ]
    }
   ],
   "source": [
    "preorder(root)"
   ]
  },
  {
   "cell_type": "code",
   "execution_count": 7,
   "id": "ffbde0b8",
   "metadata": {},
   "outputs": [
    {
     "name": "stdout",
     "output_type": "stream",
     "text": [
      "4\n",
      "2\n",
      "1\n",
      "3\n",
      "5\n"
     ]
    }
   ],
   "source": [
    "inorder(root)"
   ]
  },
  {
   "cell_type": "code",
   "execution_count": 8,
   "id": "95aa4d76",
   "metadata": {},
   "outputs": [
    {
     "name": "stdout",
     "output_type": "stream",
     "text": [
      "4\n",
      "2\n",
      "5\n",
      "3\n",
      "1\n"
     ]
    }
   ],
   "source": [
    "postorder(root)"
   ]
  },
  {
   "cell_type": "code",
   "execution_count": 9,
   "id": "5ec77758",
   "metadata": {},
   "outputs": [],
   "source": [
    "root1 = tree(1)\n",
    "root1.left = tree(2)\n",
    "root1.right = tree(3)\n",
    "root1.left.left = tree(4)\n",
    "root1.left.right = tree(5)"
   ]
  },
  {
   "cell_type": "code",
   "execution_count": 10,
   "id": "c469b243",
   "metadata": {},
   "outputs": [
    {
     "name": "stdout",
     "output_type": "stream",
     "text": [
      "1\n",
      "2\n",
      "4\n",
      "5\n",
      "3\n"
     ]
    }
   ],
   "source": [
    "preorder(root1)"
   ]
  },
  {
   "cell_type": "code",
   "execution_count": 11,
   "id": "d47e1682",
   "metadata": {},
   "outputs": [
    {
     "name": "stdout",
     "output_type": "stream",
     "text": [
      "4\n",
      "2\n",
      "5\n",
      "1\n",
      "3\n"
     ]
    }
   ],
   "source": [
    "inorder(root1)"
   ]
  },
  {
   "cell_type": "code",
   "execution_count": 12,
   "id": "d4863868",
   "metadata": {},
   "outputs": [
    {
     "name": "stdout",
     "output_type": "stream",
     "text": [
      "4\n",
      "5\n",
      "2\n",
      "3\n",
      "1\n"
     ]
    }
   ],
   "source": [
    "postorder(root1)"
   ]
  },
  {
   "cell_type": "code",
   "execution_count": null,
   "id": "82c935f9",
   "metadata": {},
   "outputs": [],
   "source": []
  },
  {
   "cell_type": "code",
   "execution_count": null,
   "id": "ca6e4ce5",
   "metadata": {},
   "outputs": [],
   "source": []
  },
  {
   "cell_type": "code",
   "execution_count": null,
   "id": "214eed9a",
   "metadata": {},
   "outputs": [],
   "source": []
  },
  {
   "cell_type": "code",
   "execution_count": null,
   "id": "0dc3f8a0",
   "metadata": {},
   "outputs": [],
   "source": []
  },
  {
   "cell_type": "code",
   "execution_count": null,
   "id": "784234a5",
   "metadata": {},
   "outputs": [],
   "source": []
  },
  {
   "cell_type": "code",
   "execution_count": null,
   "id": "003953b2",
   "metadata": {},
   "outputs": [],
   "source": []
  },
  {
   "cell_type": "code",
   "execution_count": null,
   "id": "31f36d53",
   "metadata": {},
   "outputs": [],
   "source": []
  },
  {
   "cell_type": "code",
   "execution_count": 13,
   "id": "e93a36bf",
   "metadata": {},
   "outputs": [],
   "source": [
    "class bst:\n",
    "    def __init__(node, data):\n",
    "        node.data = data\n",
    "        node.left = None\n",
    "        node.right = None\n",
    "\n",
    "    def insert(node, data):\n",
    "        if node.data > data :\n",
    "            if node.left:\n",
    "                node.left.insert(data)\n",
    "            else:\n",
    "                node.left = bst(data)\n",
    "                return       \n",
    "        else:\n",
    "            if node.right:\n",
    "                node.right.insert(data)\n",
    "            else:\n",
    "                node.right = bst(data)\n",
    "                return\n",
    "            \n",
    "            \n",
    "    def search(node, item):\n",
    "        if item==node.data:\n",
    "            return 'item found'\n",
    "        \n",
    "        elif item < node.data:\n",
    "            \n",
    "            if node.left:\n",
    "                return node.left.search(item)\n",
    "            else:\n",
    "                return 'item not found'\n",
    "       \n",
    "        else:\n",
    "            \n",
    "            if node.right:\n",
    "                return node.right.search(item)\n",
    "            else:\n",
    "                return 'item not found' \n",
    "      \n",
    "    \n",
    "                     \n",
    "    def delete(node, item):\n",
    "        print('1->node',node.data,'item ->',item)\n",
    "        if node is None:\n",
    "            return node\n",
    "            \n",
    "        if item < node.data:\n",
    "            print('2->node',node.data,'item ->',item)\n",
    "            node.left = node.left.delete(item)\n",
    "        elif item > node.data:\n",
    "            print('3->node',node.data,'item ->',item)\n",
    "            node.right = node.right.delete(item)\n",
    "        \n",
    "        else:\n",
    "            if node.left is None:\n",
    "                print('4->node',node.data,'item ->',item)\n",
    "                temp = node.right\n",
    "                node = None\n",
    "                return temp\n",
    "\n",
    "            elif node.right is None:\n",
    "                print('5->node',node.data,'item ->',item)\n",
    "                temp = node.left\n",
    "                node = None\n",
    "                return temp\n",
    "             \n",
    "            print('6->node',node.data,'item ->',item)   \n",
    "            temp1 = node.right\n",
    "            while temp1.left:\n",
    "                temp1 = temp1.left\n",
    "                \n",
    "            node.data = temp1.data\n",
    "            node.right = node.right.delete(temp1.data)\n",
    "        return node\n",
    "        "
   ]
  },
  {
   "cell_type": "code",
   "execution_count": 14,
   "id": "5d781ff7",
   "metadata": {},
   "outputs": [],
   "source": [
    "root2 = bst(10)\n",
    "root2.insert(5)\n",
    "root2.insert(15)\n",
    "root2.insert(3)\n",
    "root2.insert(8)\n",
    "root2.insert(12)\n",
    "root2.insert(18)"
   ]
  },
  {
   "cell_type": "code",
   "execution_count": 15,
   "id": "c7ac5b08",
   "metadata": {},
   "outputs": [
    {
     "name": "stdout",
     "output_type": "stream",
     "text": [
      "10\n",
      "5\n",
      "3\n",
      "8\n",
      "15\n",
      "12\n",
      "18\n"
     ]
    }
   ],
   "source": [
    "preorder(root2)"
   ]
  },
  {
   "cell_type": "code",
   "execution_count": 16,
   "id": "73495bf2",
   "metadata": {},
   "outputs": [
    {
     "name": "stdout",
     "output_type": "stream",
     "text": [
      "3\n",
      "5\n",
      "8\n",
      "10\n",
      "12\n",
      "15\n",
      "18\n"
     ]
    }
   ],
   "source": [
    "inorder(root2)"
   ]
  },
  {
   "cell_type": "code",
   "execution_count": 17,
   "id": "4fa93eec",
   "metadata": {},
   "outputs": [
    {
     "name": "stdout",
     "output_type": "stream",
     "text": [
      "3\n",
      "8\n",
      "5\n",
      "12\n",
      "18\n",
      "15\n",
      "10\n"
     ]
    }
   ],
   "source": [
    "postorder(root2)"
   ]
  },
  {
   "cell_type": "code",
   "execution_count": 18,
   "id": "01b38464",
   "metadata": {},
   "outputs": [],
   "source": [
    "root2.insert(6)"
   ]
  },
  {
   "cell_type": "code",
   "execution_count": 19,
   "id": "decca23e",
   "metadata": {},
   "outputs": [
    {
     "name": "stdout",
     "output_type": "stream",
     "text": [
      "3\n",
      "5\n",
      "6\n",
      "8\n",
      "10\n",
      "12\n",
      "15\n",
      "18\n"
     ]
    }
   ],
   "source": [
    "inorder(root2)"
   ]
  },
  {
   "cell_type": "code",
   "execution_count": 20,
   "id": "ee068052",
   "metadata": {},
   "outputs": [
    {
     "data": {
      "text/plain": [
       "'item found'"
      ]
     },
     "execution_count": 20,
     "metadata": {},
     "output_type": "execute_result"
    }
   ],
   "source": [
    "root2.search(10)"
   ]
  },
  {
   "cell_type": "code",
   "execution_count": 21,
   "id": "996642df",
   "metadata": {},
   "outputs": [
    {
     "data": {
      "text/plain": [
       "'item not found'"
      ]
     },
     "execution_count": 21,
     "metadata": {},
     "output_type": "execute_result"
    }
   ],
   "source": [
    "root2.search(100)"
   ]
  },
  {
   "cell_type": "code",
   "execution_count": 22,
   "id": "582c45ad",
   "metadata": {},
   "outputs": [
    {
     "data": {
      "text/plain": [
       "'item found'"
      ]
     },
     "execution_count": 22,
     "metadata": {},
     "output_type": "execute_result"
    }
   ],
   "source": [
    "root2.search(6)"
   ]
  },
  {
   "cell_type": "code",
   "execution_count": null,
   "id": "72e2f295",
   "metadata": {},
   "outputs": [],
   "source": []
  },
  {
   "cell_type": "code",
   "execution_count": 23,
   "id": "5f8010e8",
   "metadata": {},
   "outputs": [
    {
     "name": "stdout",
     "output_type": "stream",
     "text": [
      "1->node 10 item -> 6\n",
      "2->node 10 item -> 6\n",
      "1->node 5 item -> 6\n",
      "3->node 5 item -> 6\n",
      "1->node 8 item -> 6\n",
      "2->node 8 item -> 6\n",
      "1->node 6 item -> 6\n",
      "4->node 6 item -> 6\n",
      "3\n",
      "5\n",
      "8\n",
      "10\n",
      "12\n",
      "15\n",
      "18\n"
     ]
    }
   ],
   "source": [
    "root2.delete(6)\n",
    "inorder(root2)"
   ]
  },
  {
   "cell_type": "code",
   "execution_count": 24,
   "id": "22155003",
   "metadata": {},
   "outputs": [
    {
     "name": "stdout",
     "output_type": "stream",
     "text": [
      "1->node 10 item -> 3\n",
      "2->node 10 item -> 3\n",
      "1->node 5 item -> 3\n",
      "2->node 5 item -> 3\n",
      "1->node 3 item -> 3\n",
      "4->node 3 item -> 3\n",
      "5\n",
      "8\n",
      "10\n",
      "12\n",
      "15\n",
      "18\n"
     ]
    }
   ],
   "source": [
    "root2.delete(3)\n",
    "inorder(root2)"
   ]
  },
  {
   "cell_type": "code",
   "execution_count": 25,
   "id": "02eae9ff",
   "metadata": {},
   "outputs": [
    {
     "name": "stdout",
     "output_type": "stream",
     "text": [
      "1->node 10 item -> 5\n",
      "2->node 10 item -> 5\n",
      "1->node 5 item -> 5\n",
      "4->node 5 item -> 5\n",
      "8\n",
      "10\n",
      "12\n",
      "15\n",
      "18\n"
     ]
    }
   ],
   "source": [
    "root2.delete(5)\n",
    "inorder(root2)"
   ]
  },
  {
   "cell_type": "code",
   "execution_count": 26,
   "id": "6a5f187e",
   "metadata": {},
   "outputs": [
    {
     "name": "stdout",
     "output_type": "stream",
     "text": [
      "1->node 10 item -> 15\n",
      "3->node 10 item -> 15\n",
      "1->node 15 item -> 15\n",
      "6->node 15 item -> 15\n",
      "1->node 18 item -> 18\n",
      "4->node 18 item -> 18\n",
      "8\n",
      "10\n",
      "12\n",
      "18\n"
     ]
    }
   ],
   "source": [
    "root2.delete(15)\n",
    "inorder(root2)"
   ]
  },
  {
   "cell_type": "code",
   "execution_count": 27,
   "id": "b3779864",
   "metadata": {},
   "outputs": [
    {
     "name": "stdout",
     "output_type": "stream",
     "text": [
      "1->node 10 item -> 18\n",
      "3->node 10 item -> 18\n",
      "1->node 18 item -> 18\n",
      "5->node 18 item -> 18\n",
      "8\n",
      "10\n",
      "12\n"
     ]
    }
   ],
   "source": [
    "root2.delete(18)\n",
    "inorder(root2)"
   ]
  },
  {
   "cell_type": "code",
   "execution_count": 28,
   "id": "7e807a9c",
   "metadata": {},
   "outputs": [],
   "source": [
    "root3 = bst(10)\n",
    "root3.insert(5)\n",
    "root3.insert(3)\n",
    "root3.insert(8)\n",
    "root3.insert(6)\n",
    "root3.insert(9)"
   ]
  },
  {
   "cell_type": "code",
   "execution_count": 29,
   "id": "9dad4be8",
   "metadata": {},
   "outputs": [
    {
     "name": "stdout",
     "output_type": "stream",
     "text": [
      "3\n",
      "5\n",
      "6\n",
      "8\n",
      "9\n",
      "10\n"
     ]
    }
   ],
   "source": [
    "inorder(root3)"
   ]
  },
  {
   "cell_type": "code",
   "execution_count": 30,
   "id": "42efa5b6",
   "metadata": {},
   "outputs": [
    {
     "name": "stdout",
     "output_type": "stream",
     "text": [
      "1->node 10 item -> 5\n",
      "2->node 10 item -> 5\n",
      "1->node 5 item -> 5\n",
      "6->node 5 item -> 5\n",
      "1->node 8 item -> 6\n",
      "2->node 8 item -> 6\n",
      "1->node 6 item -> 6\n",
      "4->node 6 item -> 6\n",
      "3\n",
      "6\n",
      "8\n",
      "9\n",
      "10\n"
     ]
    }
   ],
   "source": [
    "root3.delete(5)\n",
    "inorder(root3)"
   ]
  },
  {
   "cell_type": "code",
   "execution_count": null,
   "id": "4cf589bf",
   "metadata": {},
   "outputs": [],
   "source": []
  },
  {
   "cell_type": "code",
   "execution_count": null,
   "id": "d8f758f5",
   "metadata": {},
   "outputs": [],
   "source": []
  }
 ],
 "metadata": {
  "kernelspec": {
   "display_name": "Python 3 (ipykernel)",
   "language": "python",
   "name": "python3"
  },
  "language_info": {
   "codemirror_mode": {
    "name": "ipython",
    "version": 3
   },
   "file_extension": ".py",
   "mimetype": "text/x-python",
   "name": "python",
   "nbconvert_exporter": "python",
   "pygments_lexer": "ipython3",
   "version": "3.10.9"
  }
 },
 "nbformat": 4,
 "nbformat_minor": 5
}
