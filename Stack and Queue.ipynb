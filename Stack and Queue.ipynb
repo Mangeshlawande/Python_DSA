{
 "cells": [
  {
   "cell_type": "markdown",
   "id": "bc2aeb37",
   "metadata": {},
   "source": [
    "Stack"
   ]
  },
  {
   "cell_type": "code",
   "execution_count": 1,
   "id": "bba38c14",
   "metadata": {},
   "outputs": [],
   "source": [
    "stack_max =10\n",
    "def stack():\n",
    "    stack = [] \n",
    "    return stack"
   ]
  },
  {
   "cell_type": "code",
   "execution_count": 2,
   "id": "bece4c10",
   "metadata": {},
   "outputs": [],
   "source": [
    "def empty(stack):\n",
    "    return len(stack) == 0"
   ]
  },
  {
   "cell_type": "code",
   "execution_count": 3,
   "id": "f8151062",
   "metadata": {},
   "outputs": [],
   "source": [
    "def push(stack, item):\n",
    "    if (len(stack) < stack_max):\n",
    "     stack.append(item)\n",
    "     print(\"pushed item: \",item)\n",
    "    else:\n",
    "     print(\"Stack is full\")"
   ]
  },
  {
   "cell_type": "code",
   "execution_count": 4,
   "id": "79246494",
   "metadata": {},
   "outputs": [],
   "source": [
    "def pop(stack):\n",
    "    if (empty(stack)):\n",
    "        return \"stack is empty\"\n",
    "    print(\"Removed item: \",stack.pop(-1))"
   ]
  },
  {
   "cell_type": "code",
   "execution_count": 5,
   "id": "a7c47786",
   "metadata": {},
   "outputs": [],
   "source": [
    "def peek(stack):\n",
    "    return stack[-1]"
   ]
  },
  {
   "cell_type": "code",
   "execution_count": 6,
   "id": "a1e1ce55",
   "metadata": {},
   "outputs": [],
   "source": [
    "def display(stack):\n",
    "    print(stack)"
   ]
  },
  {
   "cell_type": "code",
   "execution_count": 7,
   "id": "e4f44916",
   "metadata": {},
   "outputs": [
    {
     "name": "stdout",
     "output_type": "stream",
     "text": [
      "pushed item:  1\n",
      "pushed item:  2\n",
      "pushed item:  3\n",
      "pushed item:  4\n",
      "pushed item:  5\n",
      "pushed item:  6\n",
      "pushed item:  7\n",
      "pushed item:  8\n",
      "pushed item:  9\n",
      "pushed item:  10\n",
      "Stack is full\n",
      "Removed item:  10\n",
      "[1, 2, 3, 4, 5, 6, 7, 8, 9]\n"
     ]
    },
    {
     "data": {
      "text/plain": [
       "9"
      ]
     },
     "execution_count": 7,
     "metadata": {},
     "output_type": "execute_result"
    }
   ],
   "source": [
    "stack = stack()\n",
    "push(stack, 1)\n",
    "push(stack, 2)\n",
    "push(stack, 3)\n",
    "push(stack, 4)\n",
    "push(stack, 5)\n",
    "push(stack, 6)\n",
    "push(stack, 7)\n",
    "push(stack, 8)\n",
    "push(stack, 9)\n",
    "push(stack, 10)\n",
    "push(stack, 11)\n",
    "pop(stack)\n",
    "display(stack)\n",
    "peek(stack)"
   ]
  },
  {
   "cell_type": "code",
   "execution_count": 8,
   "id": "e0a7f32a",
   "metadata": {},
   "outputs": [
    {
     "name": "stdout",
     "output_type": "stream",
     "text": [
      "Removed item:  9\n"
     ]
    }
   ],
   "source": [
    "pop(stack)"
   ]
  },
  {
   "cell_type": "code",
   "execution_count": 9,
   "id": "e5394863",
   "metadata": {},
   "outputs": [
    {
     "name": "stdout",
     "output_type": "stream",
     "text": [
      "[1, 2, 3, 4, 5, 6, 7, 8]\n"
     ]
    }
   ],
   "source": [
    "display(stack)"
   ]
  },
  {
   "cell_type": "code",
   "execution_count": 26,
   "id": "dc40903e",
   "metadata": {},
   "outputs": [
    {
     "name": "stdout",
     "output_type": "stream",
     "text": [
      "0\n",
      "3\n",
      "After push -->  deque([10, 15, 20], maxlen=3)\n",
      "After pop -->  deque([10, 15], maxlen=3)\n",
      "1\n"
     ]
    }
   ],
   "source": [
    "from collections import deque\n",
    "\n",
    "stack = deque(maxlen = 3)\n",
    "\n",
    "print(len(stack))\n",
    "\n",
    "\n",
    "stack.append(10)\n",
    "stack.append(15)\n",
    "stack.append(20)\n",
    "\n",
    "print(len(stack))\n",
    "\n",
    "print('After push --> ',stack)\n",
    "\n",
    "stack.pop()\n",
    "\n",
    "print('After pop --> ',stack)\n",
    "\n",
    "stack.pop()\n",
    "\n",
    "print(len(stack))"
   ]
  },
  {
   "cell_type": "code",
   "execution_count": null,
   "id": "206490e0",
   "metadata": {},
   "outputs": [],
   "source": []
  },
  {
   "cell_type": "code",
   "execution_count": 11,
   "id": "46589e8f",
   "metadata": {},
   "outputs": [],
   "source": [
    "def stack1(m):\n",
    "    stack = deque(maxlen = m) \n",
    "    return stack"
   ]
  },
  {
   "cell_type": "code",
   "execution_count": 12,
   "id": "3eb4872a",
   "metadata": {},
   "outputs": [],
   "source": [
    "def empty1(stack):\n",
    "    return len(stack) == 0"
   ]
  },
  {
   "cell_type": "code",
   "execution_count": 13,
   "id": "c938c2a5",
   "metadata": {},
   "outputs": [],
   "source": [
    "def push1(stack, item,m):\n",
    "    if (len(stack) < m):\n",
    "     stack.append(item)\n",
    "     print(\"pushed item: \",item)\n",
    "    else:\n",
    "     print(\"Stack is full\")"
   ]
  },
  {
   "cell_type": "code",
   "execution_count": 14,
   "id": "20286578",
   "metadata": {},
   "outputs": [],
   "source": [
    "def pop1(stack):\n",
    "    if (len(stack)==0):\n",
    "        return \"stack is empty\"\n",
    "    print(stack.pop())"
   ]
  },
  {
   "cell_type": "code",
   "execution_count": 15,
   "id": "1d317d3e",
   "metadata": {},
   "outputs": [],
   "source": [
    "def display1(stack):\n",
    "    print(stack)"
   ]
  },
  {
   "cell_type": "code",
   "execution_count": 16,
   "id": "7bb4eb81",
   "metadata": {},
   "outputs": [],
   "source": [
    "stack1 = stack1(3)"
   ]
  },
  {
   "cell_type": "code",
   "execution_count": 17,
   "id": "7e347518",
   "metadata": {},
   "outputs": [
    {
     "name": "stdout",
     "output_type": "stream",
     "text": [
      "pushed item:  5\n",
      "pushed item:  10\n",
      "pushed item:  15\n",
      "Stack is full\n"
     ]
    }
   ],
   "source": [
    "push1(stack1,5,3)\n",
    "push1(stack1,10,3)\n",
    "push1(stack1,15,3)\n",
    "push1(stack1,20,3)"
   ]
  },
  {
   "cell_type": "code",
   "execution_count": 18,
   "id": "07c39826",
   "metadata": {},
   "outputs": [
    {
     "name": "stdout",
     "output_type": "stream",
     "text": [
      "15\n"
     ]
    }
   ],
   "source": [
    "pop1(stack1)"
   ]
  },
  {
   "cell_type": "code",
   "execution_count": 19,
   "id": "591f6547",
   "metadata": {},
   "outputs": [
    {
     "name": "stdout",
     "output_type": "stream",
     "text": [
      "deque([5, 10], maxlen=3)\n"
     ]
    }
   ],
   "source": [
    "display1(stack1)"
   ]
  },
  {
   "cell_type": "code",
   "execution_count": null,
   "id": "9637b700",
   "metadata": {},
   "outputs": [],
   "source": []
  },
  {
   "cell_type": "markdown",
   "id": "f81e7ee1",
   "metadata": {},
   "source": [
    "Queue"
   ]
  },
  {
   "cell_type": "code",
   "execution_count": 1,
   "id": "b16d5322",
   "metadata": {},
   "outputs": [],
   "source": [
    "queue_max =10\n",
    "def queue():\n",
    "    queue = [] \n",
    "    return queue"
   ]
  },
  {
   "cell_type": "code",
   "execution_count": 2,
   "id": "8c0c5bfd",
   "metadata": {},
   "outputs": [],
   "source": [
    "def empty(queue):\n",
    "    return len(queue) == 0"
   ]
  },
  {
   "cell_type": "code",
   "execution_count": 3,
   "id": "ddc43299",
   "metadata": {},
   "outputs": [],
   "source": [
    "def enqueue(queue, item):\n",
    "    if (len(queue) < queue_max):\n",
    "     queue.append(item)\n",
    "     print(\"inserted item: \",item)\n",
    "    else:\n",
    "     print(\"queue is full\")"
   ]
  },
  {
   "cell_type": "code",
   "execution_count": 4,
   "id": "4c1bf9ae",
   "metadata": {},
   "outputs": [],
   "source": [
    "def dequeue(queue):\n",
    "    if (empty(queue)):\n",
    "        return \"queue is empty\"\n",
    "    print(\"Removed item: \",queue.pop(0)) "
   ]
  },
  {
   "cell_type": "code",
   "execution_count": 5,
   "id": "6aaa245d",
   "metadata": {},
   "outputs": [],
   "source": [
    "def peek(queue):\n",
    "    return queue[0]"
   ]
  },
  {
   "cell_type": "code",
   "execution_count": 6,
   "id": "69f00e99",
   "metadata": {},
   "outputs": [],
   "source": [
    "def display(queue):\n",
    "    return queue"
   ]
  },
  {
   "cell_type": "code",
   "execution_count": 7,
   "id": "9f14cace",
   "metadata": {},
   "outputs": [
    {
     "name": "stdout",
     "output_type": "stream",
     "text": [
      "inserted item:  1\n"
     ]
    }
   ],
   "source": [
    "queue = queue()\n",
    "enqueue(queue, 1)"
   ]
  },
  {
   "cell_type": "code",
   "execution_count": 8,
   "id": "994efe96",
   "metadata": {},
   "outputs": [
    {
     "name": "stdout",
     "output_type": "stream",
     "text": [
      "inserted item:  2\n",
      "inserted item:  3\n",
      "inserted item:  4\n",
      "inserted item:  5\n",
      "inserted item:  6\n",
      "inserted item:  7\n",
      "inserted item:  8\n",
      "inserted item:  9\n",
      "inserted item:  10\n",
      "queue is full\n",
      "queue is full\n"
     ]
    }
   ],
   "source": [
    "enqueue(queue, 2)\n",
    "enqueue(queue, 3)\n",
    "enqueue(queue, 4)\n",
    "enqueue(queue, 5)\n",
    "enqueue(queue, 6)\n",
    "enqueue(queue, 7)\n",
    "enqueue(queue, 8)\n",
    "enqueue(queue, 9)\n",
    "enqueue(queue, 10)\n",
    "enqueue(queue, 11)\n",
    "enqueue(queue, 12)"
   ]
  },
  {
   "cell_type": "code",
   "execution_count": 9,
   "id": "62db1e87",
   "metadata": {},
   "outputs": [
    {
     "data": {
      "text/plain": [
       "1"
      ]
     },
     "execution_count": 9,
     "metadata": {},
     "output_type": "execute_result"
    }
   ],
   "source": [
    "peek(queue)"
   ]
  },
  {
   "cell_type": "code",
   "execution_count": 10,
   "id": "f49b1908",
   "metadata": {},
   "outputs": [
    {
     "name": "stdout",
     "output_type": "stream",
     "text": [
      "Removed item:  1\n"
     ]
    }
   ],
   "source": [
    "dequeue(queue)"
   ]
  },
  {
   "cell_type": "code",
   "execution_count": 11,
   "id": "cde4b583",
   "metadata": {},
   "outputs": [
    {
     "data": {
      "text/plain": [
       "[2, 3, 4, 5, 6, 7, 8, 9, 10]"
      ]
     },
     "execution_count": 11,
     "metadata": {},
     "output_type": "execute_result"
    }
   ],
   "source": [
    "display(queue)"
   ]
  },
  {
   "cell_type": "code",
   "execution_count": 12,
   "id": "6f208a62",
   "metadata": {},
   "outputs": [
    {
     "name": "stdout",
     "output_type": "stream",
     "text": [
      "Removed item:  2\n"
     ]
    }
   ],
   "source": [
    "dequeue(queue)"
   ]
  },
  {
   "cell_type": "code",
   "execution_count": 13,
   "id": "fe29862e",
   "metadata": {},
   "outputs": [
    {
     "data": {
      "text/plain": [
       "[3, 4, 5, 6, 7, 8, 9, 10]"
      ]
     },
     "execution_count": 13,
     "metadata": {},
     "output_type": "execute_result"
    }
   ],
   "source": [
    "display(queue)"
   ]
  },
  {
   "cell_type": "code",
   "execution_count": null,
   "id": "cf71e599",
   "metadata": {},
   "outputs": [],
   "source": []
  },
  {
   "cell_type": "code",
   "execution_count": null,
   "id": "7a6e954d",
   "metadata": {},
   "outputs": [],
   "source": []
  },
  {
   "cell_type": "code",
   "execution_count": null,
   "id": "f1fec42d",
   "metadata": {},
   "outputs": [],
   "source": []
  },
  {
   "cell_type": "code",
   "execution_count": 14,
   "id": "9630d179",
   "metadata": {},
   "outputs": [],
   "source": [
    "from queue import Queue\n",
    "\n",
    "queue = Queue(maxsize = 5)"
   ]
  },
  {
   "cell_type": "code",
   "execution_count": 15,
   "id": "d2756eb3",
   "metadata": {},
   "outputs": [
    {
     "name": "stdout",
     "output_type": "stream",
     "text": [
      "0\n"
     ]
    }
   ],
   "source": [
    "print(queue.qsize())"
   ]
  },
  {
   "cell_type": "code",
   "execution_count": 16,
   "id": "f1a344bb",
   "metadata": {},
   "outputs": [],
   "source": [
    "def enqueue(queue, item):\n",
    "    if (queue.full()):\n",
    "     print(\"queue is full\")\n",
    "    else:\n",
    "     queue.put(item)\n",
    "     print(\"inserted item: \",item)"
   ]
  },
  {
   "cell_type": "code",
   "execution_count": 17,
   "id": "52b5fcbe",
   "metadata": {},
   "outputs": [],
   "source": [
    "def dequeue(queue):\n",
    "    if (queue.empty()):\n",
    "        return \"queue is empty\"\n",
    "    print(\"Removed item: \",queue.get())"
   ]
  },
  {
   "cell_type": "code",
   "execution_count": 18,
   "id": "e6aa1e72",
   "metadata": {},
   "outputs": [
    {
     "name": "stdout",
     "output_type": "stream",
     "text": [
      "inserted item:  1\n"
     ]
    }
   ],
   "source": [
    "enqueue(queue, 1)"
   ]
  },
  {
   "cell_type": "code",
   "execution_count": 19,
   "id": "45fb3a42",
   "metadata": {},
   "outputs": [
    {
     "name": "stdout",
     "output_type": "stream",
     "text": [
      "inserted item:  2\n",
      "inserted item:  3\n",
      "inserted item:  4\n",
      "inserted item:  5\n",
      "queue is full\n"
     ]
    }
   ],
   "source": [
    "enqueue(queue, 2)\n",
    "enqueue(queue, 3)\n",
    "enqueue(queue, 4)\n",
    "enqueue(queue, 5)\n",
    "enqueue(queue, 6)"
   ]
  },
  {
   "cell_type": "code",
   "execution_count": 20,
   "id": "8c0ae4a2",
   "metadata": {},
   "outputs": [
    {
     "name": "stdout",
     "output_type": "stream",
     "text": [
      "Removed item:  1\n"
     ]
    }
   ],
   "source": [
    "dequeue(queue)"
   ]
  },
  {
   "cell_type": "code",
   "execution_count": 21,
   "id": "eccd2b94",
   "metadata": {},
   "outputs": [
    {
     "name": "stdout",
     "output_type": "stream",
     "text": [
      "Removed item:  2\n",
      "Removed item:  3\n",
      "Removed item:  4\n",
      "Removed item:  5\n"
     ]
    },
    {
     "data": {
      "text/plain": [
       "'queue is empty'"
      ]
     },
     "execution_count": 21,
     "metadata": {},
     "output_type": "execute_result"
    }
   ],
   "source": [
    "dequeue(queue)\n",
    "dequeue(queue)\n",
    "dequeue(queue)\n",
    "dequeue(queue)\n",
    "dequeue(queue)"
   ]
  },
  {
   "cell_type": "code",
   "execution_count": null,
   "id": "8bd011ba",
   "metadata": {},
   "outputs": [],
   "source": []
  }
 ],
 "metadata": {
  "kernelspec": {
   "display_name": "Python 3 (ipykernel)",
   "language": "python",
   "name": "python3"
  },
  "language_info": {
   "codemirror_mode": {
    "name": "ipython",
    "version": 3
   },
   "file_extension": ".py",
   "mimetype": "text/x-python",
   "name": "python",
   "nbconvert_exporter": "python",
   "pygments_lexer": "ipython3",
   "version": "3.11.5"
  }
 },
 "nbformat": 4,
 "nbformat_minor": 5
}
