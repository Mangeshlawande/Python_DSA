{
 "cells": [
  {
   "cell_type": "code",
   "execution_count": 2,
   "id": "17d462f6",
   "metadata": {},
   "outputs": [],
   "source": [
    "def normal_fun(x):# similar condition in loop from sys \n",
    "    while x>= 0:\n",
    "        print(x)\n",
    "        x-=1"
   ]
  },
  {
   "cell_type": "code",
   "execution_count": 3,
   "id": "a65d8ddb",
   "metadata": {},
   "outputs": [
    {
     "name": "stdout",
     "output_type": "stream",
     "text": [
      "10\n",
      "9\n",
      "8\n",
      "7\n",
      "6\n",
      "5\n",
      "4\n",
      "3\n",
      "2\n",
      "1\n",
      "0\n"
     ]
    }
   ],
   "source": [
    "normal_fun(10)"
   ]
  },
  {
   "cell_type": "code",
   "execution_count": 4,
   "id": "1bd456ea",
   "metadata": {},
   "outputs": [],
   "source": [
    "x = 10 \n",
    "def recu_fun(x):\n",
    "    print(x)\n",
    "    if(x>0):\n",
    "        recu_fun(x-1)"
   ]
  },
  {
   "cell_type": "code",
   "execution_count": 5,
   "id": "ec63e392",
   "metadata": {},
   "outputs": [
    {
     "name": "stdout",
     "output_type": "stream",
     "text": [
      "10\n",
      "9\n",
      "8\n",
      "7\n",
      "6\n",
      "5\n",
      "4\n",
      "3\n",
      "2\n",
      "1\n",
      "0\n"
     ]
    }
   ],
   "source": [
    "recu_fun(x)"
   ]
  },
  {
   "cell_type": "code",
   "execution_count": 6,
   "id": "97341151",
   "metadata": {},
   "outputs": [
    {
     "data": {
      "text/plain": [
       "3000"
      ]
     },
     "execution_count": 6,
     "metadata": {},
     "output_type": "execute_result"
    }
   ],
   "source": [
    "from sys import getrecursionlimit\n",
    "getrecursionlimit()"
   ]
  },
  {
   "cell_type": "code",
   "execution_count": 7,
   "id": "52956879",
   "metadata": {},
   "outputs": [],
   "source": [
    "def recursion():\n",
    "    x = 10 \n",
    "    recursion()"
   ]
  },
  {
   "cell_type": "code",
   "execution_count": null,
   "id": "433a17bc",
   "metadata": {},
   "outputs": [],
   "source": [
    "recursion()"
   ]
  },
  {
   "cell_type": "code",
   "execution_count": 1,
   "id": "0c66ea6d",
   "metadata": {},
   "outputs": [],
   "source": [
    "def factorial(n):\n",
    "    if (n==1):\n",
    "        return 1\n",
    "    else:\n",
    "        return n * factorial(n-1) "
   ]
  },
  {
   "cell_type": "code",
   "execution_count": 2,
   "id": "8ac807e0",
   "metadata": {},
   "outputs": [
    {
     "data": {
      "text/plain": [
       "120"
      ]
     },
     "execution_count": 2,
     "metadata": {},
     "output_type": "execute_result"
    }
   ],
   "source": [
    "factorial(5)"
   ]
  },
  {
   "cell_type": "code",
   "execution_count": 3,
   "id": "d1d064be",
   "metadata": {},
   "outputs": [
    {
     "data": {
      "text/plain": [
       "2"
      ]
     },
     "execution_count": 3,
     "metadata": {},
     "output_type": "execute_result"
    }
   ],
   "source": [
    "factorial(2)"
   ]
  },
  {
   "cell_type": "code",
   "execution_count": 4,
   "id": "344c914c",
   "metadata": {},
   "outputs": [
    {
     "data": {
      "text/plain": [
       "6"
      ]
     },
     "execution_count": 4,
     "metadata": {},
     "output_type": "execute_result"
    }
   ],
   "source": [
    "factorial(3)"
   ]
  },
  {
   "cell_type": "code",
   "execution_count": 10,
   "id": "0e64661f",
   "metadata": {},
   "outputs": [],
   "source": [
    "def fact(n):\n",
    "    if(n==1):\n",
    "        print(n)\n",
    "        return 1\n",
    "    else:\n",
    "        print(n,'*',end=\" \")\n",
    "        return n * fact(n-1)"
   ]
  },
  {
   "cell_type": "code",
   "execution_count": 11,
   "id": "012bdcb0",
   "metadata": {},
   "outputs": [
    {
     "name": "stdout",
     "output_type": "stream",
     "text": [
      "5 * 4 * 3 * 2 * 1\n"
     ]
    },
    {
     "data": {
      "text/plain": [
       "120"
      ]
     },
     "execution_count": 11,
     "metadata": {},
     "output_type": "execute_result"
    }
   ],
   "source": [
    "fact(5)"
   ]
  },
  {
   "cell_type": "code",
   "execution_count": 24,
   "id": "f23e9063",
   "metadata": {},
   "outputs": [
    {
     "name": "stdout",
     "output_type": "stream",
     "text": [
      "1 3\n"
     ]
    }
   ],
   "source": [
    "x = 1\n",
    "print(x,'',end='')\n",
    "print(x+2)"
   ]
  },
  {
   "cell_type": "code",
   "execution_count": 25,
   "id": "0a8439f7",
   "metadata": {},
   "outputs": [],
   "source": [
    "def sumfun(n):\n",
    "    if n==1:\n",
    "        return 1\n",
    "    else:\n",
    "        return n + sumfun(n-1)"
   ]
  },
  {
   "cell_type": "code",
   "execution_count": 26,
   "id": "3a47013d",
   "metadata": {},
   "outputs": [
    {
     "data": {
      "text/plain": [
       "6"
      ]
     },
     "execution_count": 26,
     "metadata": {},
     "output_type": "execute_result"
    }
   ],
   "source": [
    "sumfun(3)"
   ]
  },
  {
   "cell_type": "code",
   "execution_count": 27,
   "id": "ca4cb5d1",
   "metadata": {},
   "outputs": [
    {
     "data": {
      "text/plain": [
       "3"
      ]
     },
     "execution_count": 27,
     "metadata": {},
     "output_type": "execute_result"
    }
   ],
   "source": [
    "sumfun(2)"
   ]
  },
  {
   "cell_type": "code",
   "execution_count": 30,
   "id": "04b4469f",
   "metadata": {},
   "outputs": [],
   "source": [
    "def sumf(n):\n",
    "    if(n==1):\n",
    "        print(n)\n",
    "        return 1\n",
    "    else:\n",
    "        print(n,'+',end=\" \")\n",
    "        return n + sumf(n-1)"
   ]
  },
  {
   "cell_type": "code",
   "execution_count": 31,
   "id": "f80e0c3a",
   "metadata": {},
   "outputs": [
    {
     "name": "stdout",
     "output_type": "stream",
     "text": [
      "3 + 2 + 1\n"
     ]
    },
    {
     "data": {
      "text/plain": [
       "6"
      ]
     },
     "execution_count": 31,
     "metadata": {},
     "output_type": "execute_result"
    }
   ],
   "source": [
    "sumf(3)"
   ]
  },
  {
   "cell_type": "code",
   "execution_count": 32,
   "id": "d1f4de92",
   "metadata": {},
   "outputs": [
    {
     "name": "stdout",
     "output_type": "stream",
     "text": [
      "5 + 4 + 3 + 2 + 1\n"
     ]
    },
    {
     "data": {
      "text/plain": [
       "15"
      ]
     },
     "execution_count": 32,
     "metadata": {},
     "output_type": "execute_result"
    }
   ],
   "source": [
    "sumf(5)"
   ]
  },
  {
   "cell_type": "code",
   "execution_count": 33,
   "id": "ccfc7917",
   "metadata": {},
   "outputs": [
    {
     "name": "stdout",
     "output_type": "stream",
     "text": [
      "4 + 3 + 2 + 1\n"
     ]
    },
    {
     "data": {
      "text/plain": [
       "10"
      ]
     },
     "execution_count": 33,
     "metadata": {},
     "output_type": "execute_result"
    }
   ],
   "source": [
    "sumf(4)"
   ]
  },
  {
   "cell_type": "code",
   "execution_count": 47,
   "id": "7c0a7a0c",
   "metadata": {},
   "outputs": [
    {
     "name": "stdout",
     "output_type": "stream",
     "text": [
      "20\n",
      "19\n",
      "18\n",
      "17\n",
      "16\n",
      "15\n",
      "14\n",
      "13\n",
      "12\n",
      "11\n",
      "10\n",
      "9\n",
      "8\n",
      "7\n",
      "6\n",
      "5\n",
      "4\n",
      "3\n",
      "2\n",
      "1\n",
      "0\n"
     ]
    }
   ],
   "source": [
    "def fun1(x):\n",
    "    if x >= 0:\n",
    "        print(x)\n",
    "        fun2(x + 1)\n",
    "        \n",
    "def fun2(x):\n",
    "    if x > 1:# 2,3\n",
    "        fun1(x - 2)\n",
    "        \n",
    "fun1(20)"
   ]
  },
  {
   "cell_type": "code",
   "execution_count": 48,
   "id": "9fc67bc1",
   "metadata": {},
   "outputs": [],
   "source": [
    "# --->0,1,1,2,3,5,8,13( fibonacci number  (n-1)+(n-2)= n)\n",
    "# --->0,1,2,3,4,5,6,7(index)"
   ]
  },
  {
   "cell_type": "code",
   "execution_count": 58,
   "id": "237c7de4",
   "metadata": {},
   "outputs": [],
   "source": [
    "def fib(n):\n",
    "    if n==0 or n==1:\n",
    "         return n\n",
    "    return fib(n-1) + fib(n-2)"
   ]
  },
  {
   "cell_type": "code",
   "execution_count": 59,
   "id": "49cdf050",
   "metadata": {},
   "outputs": [
    {
     "data": {
      "text/plain": [
       "5"
      ]
     },
     "execution_count": 59,
     "metadata": {},
     "output_type": "execute_result"
    }
   ],
   "source": [
    "fib(5)"
   ]
  },
  {
   "cell_type": "code",
   "execution_count": 60,
   "id": "5e42957b",
   "metadata": {},
   "outputs": [
    {
     "data": {
      "text/plain": [
       "21"
      ]
     },
     "execution_count": 60,
     "metadata": {},
     "output_type": "execute_result"
    }
   ],
   "source": [
    "fib(8)"
   ]
  },
  {
   "cell_type": "code",
   "execution_count": 61,
   "id": "bf4f155a",
   "metadata": {},
   "outputs": [
    {
     "data": {
      "text/plain": [
       "8"
      ]
     },
     "execution_count": 61,
     "metadata": {},
     "output_type": "execute_result"
    }
   ],
   "source": [
    "fib(6)"
   ]
  },
  {
   "cell_type": "code",
   "execution_count": 63,
   "id": "262e53a8",
   "metadata": {},
   "outputs": [],
   "source": [
    "#f(3)= f(2) + f(1)\n",
    "   # = f(1) + f(0) + 1\n",
    "   # =  1   +  0   + 1\n",
    "   # = 2"
   ]
  },
  {
   "cell_type": "code",
   "execution_count": null,
   "id": "afcc7fee",
   "metadata": {},
   "outputs": [],
   "source": [
    "f(4) = f(3) + f(2)\n",
    "     = f(2) + f(1) + 1\n",
    "    =  1    +  1   + 1\n",
    "    = 3\n",
    "    \n",
    "f(5) = f(4) + f(3)\n",
    "     = f(3) + f(2) + 2\n",
    "     =  2   +   1  + 2\n",
    "     = 5"
   ]
  }
 ],
 "metadata": {
  "kernelspec": {
   "display_name": "Python 3 (ipykernel)",
   "language": "python",
   "name": "python3"
  },
  "language_info": {
   "codemirror_mode": {
    "name": "ipython",
    "version": 3
   },
   "file_extension": ".py",
   "mimetype": "text/x-python",
   "name": "python",
   "nbconvert_exporter": "python",
   "pygments_lexer": "ipython3",
   "version": "3.10.9"
  }
 },
 "nbformat": 4,
 "nbformat_minor": 5
}
