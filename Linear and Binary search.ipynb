{
 "cells": [
  {
   "cell_type": "markdown",
   "id": "0bf4c98b",
   "metadata": {},
   "source": [
    "## Linear search\n",
    "\n",
    "\n"
   ]
  },
  {
   "cell_type": "code",
   "execution_count": 1,
   "id": "fdf42367",
   "metadata": {},
   "outputs": [
    {
     "name": "stdout",
     "output_type": "stream",
     "text": [
      "Item 1 found at index 2\n"
     ]
    }
   ],
   "source": [
    "def LS(arr, item):\n",
    "    n = len(arr)\n",
    "    \n",
    "    for i in range(0,n):\n",
    "        if (arr[i] == item):\n",
    "            return print('Item',arr[i],'found at index',i)\n",
    "    return print('The item is not found')\n",
    "    \n",
    "a = [3,5,1,2,10]\n",
    "LS(a,1)"
   ]
  },
  {
   "cell_type": "code",
   "execution_count": 2,
   "id": "1ec82203",
   "metadata": {},
   "outputs": [
    {
     "name": "stdout",
     "output_type": "stream",
     "text": [
      "The item is not found\n"
     ]
    }
   ],
   "source": [
    "LS(a,11)"
   ]
  },
  {
   "cell_type": "markdown",
   "id": "6b46b04e",
   "metadata": {},
   "source": [
    "## Binary search"
   ]
  },
  {
   "cell_type": "code",
   "execution_count": 3,
   "id": "f3a1344e",
   "metadata": {},
   "outputs": [],
   "source": [
    "def BS(arr, item, low, high):\n",
    "    \n",
    "    while low <= high:\n",
    "        print(low,' ',high)\n",
    "        \n",
    "        mid = (high + low)//2\n",
    "        print('mid->',mid,'Element at arr[mid]',arr[mid])\n",
    "        \n",
    "        if arr[mid] == item:\n",
    "            return print('Item',arr[mid],'found at index ',mid)\n",
    "        \n",
    "        elif arr[mid] < item:\n",
    "            low = mid + 1\n",
    "            \n",
    "            \n",
    "        else:\n",
    "            high = mid - 1\n",
    "            \n",
    "    return print(\"Item is not found\")\n",
    "\n"
   ]
  },
  {
   "cell_type": "code",
   "execution_count": 4,
   "id": "72b8f9f3",
   "metadata": {},
   "outputs": [
    {
     "name": "stdout",
     "output_type": "stream",
     "text": [
      "0   6\n",
      "mid-> 3 Element at arr[mid] 5\n",
      "4   6\n",
      "mid-> 5 Element at arr[mid] 7\n",
      "6   6\n",
      "mid-> 6 Element at arr[mid] 8\n",
      "Item 8 found at index  6\n"
     ]
    }
   ],
   "source": [
    "a = [2,3,4,5,6,7,8]\n",
    "n = len(a)\n",
    "BS(a,8,0,n-1)"
   ]
  },
  {
   "cell_type": "code",
   "execution_count": 5,
   "id": "5e78491c",
   "metadata": {},
   "outputs": [
    {
     "name": "stdout",
     "output_type": "stream",
     "text": [
      "0   6\n",
      "mid-> 3 Element at arr[mid] 5\n",
      "4   6\n",
      "mid-> 5 Element at arr[mid] 7\n",
      "6   6\n",
      "mid-> 6 Element at arr[mid] 8\n",
      "Item is not found\n"
     ]
    }
   ],
   "source": [
    "BS(a,10,0,n-1)"
   ]
  },
  {
   "cell_type": "code",
   "execution_count": 6,
   "id": "6af192ed",
   "metadata": {},
   "outputs": [
    {
     "name": "stdout",
     "output_type": "stream",
     "text": [
      "0   6\n",
      "mid-> 3 Element at arr[mid] 5\n",
      "0   2\n",
      "mid-> 1 Element at arr[mid] 3\n",
      "0   0\n",
      "mid-> 0 Element at arr[mid] 2\n",
      "Item 2 found at index  0\n"
     ]
    }
   ],
   "source": [
    "BS(a,2,0,n-1)"
   ]
  },
  {
   "cell_type": "code",
   "execution_count": 7,
   "id": "65fb9cec",
   "metadata": {},
   "outputs": [],
   "source": [
    "def BS1(arr, item, low, high):\n",
    "    \n",
    "    while low < high:\n",
    "        print(low,' ',high)\n",
    "        \n",
    "        mid = (high + low)//2\n",
    "        print('mid->',mid,'Element at arr[mid]',arr[mid])\n",
    "        \n",
    "        if arr[mid] == item:\n",
    "            return print('Item',arr[mid],'found at index ',mid)\n",
    "        \n",
    "        elif arr[mid] < item:\n",
    "            low = mid + 1\n",
    "            \n",
    "            \n",
    "        else:\n",
    "            high = mid - 1\n",
    "            \n",
    "    return print(\"Item is not found\")\n"
   ]
  },
  {
   "cell_type": "code",
   "execution_count": 8,
   "id": "65be7639",
   "metadata": {},
   "outputs": [
    {
     "name": "stdout",
     "output_type": "stream",
     "text": [
      "0   7\n",
      "mid-> 3 Element at arr[mid] 5\n",
      "4   7\n",
      "mid-> 5 Element at arr[mid] 7\n",
      "6   7\n",
      "mid-> 6 Element at arr[mid] 8\n",
      "Item 8 found at index  6\n"
     ]
    }
   ],
   "source": [
    "a = [2,3,4,5,6,7,8]\n",
    "n = len(a)\n",
    "BS1(a,8,0,n)"
   ]
  },
  {
   "cell_type": "code",
   "execution_count": 9,
   "id": "8acbafe9",
   "metadata": {},
   "outputs": [
    {
     "name": "stdout",
     "output_type": "stream",
     "text": [
      "0   7\n",
      "mid-> 3 Element at arr[mid] 5\n",
      "4   7\n",
      "mid-> 5 Element at arr[mid] 7\n",
      "6   7\n",
      "mid-> 6 Element at arr[mid] 8\n",
      "Item is not found\n"
     ]
    }
   ],
   "source": [
    "a = [2,3,4,5,6,7,8]\n",
    "n = len(a)\n",
    "BS1(a,9,0,n)"
   ]
  },
  {
   "cell_type": "code",
   "execution_count": 10,
   "id": "aacdcb12",
   "metadata": {},
   "outputs": [
    {
     "name": "stdout",
     "output_type": "stream",
     "text": [
      "0   7\n",
      "mid-> 3 Element at arr[mid] 5\n",
      "Item 5 found at index  3\n"
     ]
    }
   ],
   "source": [
    "BS1(a,5,0,n)"
   ]
  },
  {
   "cell_type": "code",
   "execution_count": 11,
   "id": "f0697909",
   "metadata": {},
   "outputs": [
    {
     "name": "stdout",
     "output_type": "stream",
     "text": [
      "0   7\n",
      "mid-> 3 Element at arr[mid] 5\n",
      "0   2\n",
      "mid-> 1 Element at arr[mid] 3\n",
      "Item is not found\n"
     ]
    }
   ],
   "source": [
    "BS1(a,2,0,n)"
   ]
  },
  {
   "cell_type": "code",
   "execution_count": 12,
   "id": "5e035117",
   "metadata": {},
   "outputs": [],
   "source": [
    "def BS2(arr, item, low, high): # for descending order\n",
    "    \n",
    "    while low <= high:\n",
    "        print(low,' ',high)\n",
    "        \n",
    "        mid = (high + low)//2\n",
    "        print('mid->',mid,'Element at arr[mid]',arr[mid])\n",
    "        \n",
    "        if arr[mid] == item:\n",
    "            return print('Item',arr[mid],'found at index ',mid)\n",
    "        \n",
    "        elif arr[mid] > item:\n",
    "            low = mid + 1\n",
    "            \n",
    "            \n",
    "        else:\n",
    "            high = mid - 1\n",
    "            \n",
    "    return print(\"Item is not found\")\n",
    "\n",
    "def BS(arr):\n",
    "    for i in range (len(arr)):\n",
    "        \n",
    "        for j in range (0, len(arr) -i - 1):\n",
    "            \n",
    "            if arr[j] < arr[j+1]:\n",
    "                \n",
    "                temp = arr[j]\n",
    "                arr[j] = arr[j+1]\n",
    "                arr[j+1]= temp"
   ]
  },
  {
   "cell_type": "code",
   "execution_count": 11,
   "id": "05bdd25e",
   "metadata": {},
   "outputs": [
    {
     "name": "stdout",
     "output_type": "stream",
     "text": [
      "[8, 5, 3, 7, 1, 4, 9]\n",
      "[9, 8, 7, 5, 4, 3, 1]\n",
      "0   6\n",
      "mid-> 3 Element at arr[mid] 5\n",
      "4   6\n",
      "mid-> 5 Element at arr[mid] 3\n",
      "4   4\n",
      "mid-> 4 Element at arr[mid] 4\n",
      "Item 4 found at index  4\n"
     ]
    }
   ],
   "source": [
    "a = [8,5,3,7,1,4,9]\n",
    "print(a)\n",
    "BS(a)\n",
    "print(a)\n",
    "n = len(a)\n",
    "BS2(a,4,0,n-1)"
   ]
  },
  {
   "cell_type": "code",
   "execution_count": 14,
   "id": "aaea66d5",
   "metadata": {},
   "outputs": [
    {
     "name": "stdout",
     "output_type": "stream",
     "text": [
      "0   6\n",
      "mid-> 3 Element at arr[mid] 5\n",
      "4   6\n",
      "mid-> 5 Element at arr[mid] 3\n",
      "Item 3 found at index  5\n"
     ]
    }
   ],
   "source": [
    "a = [8,7,6,5,4,3,2]\n",
    "n = len(a)\n",
    "BS2(a,3,0,n-1)"
   ]
  },
  {
   "cell_type": "code",
   "execution_count": 18,
   "id": "c74a3b0a",
   "metadata": {},
   "outputs": [],
   "source": [
    "def QS(arr):\n",
    "    \n",
    "    left = []\n",
    "    right = []\n",
    "    \n",
    "    if len(arr)<=1:\n",
    "        return arr\n",
    "    \n",
    "    else:\n",
    "        \n",
    "        pivot = arr[0]\n",
    "        \n",
    "        for x in arr[1:]:\n",
    "            if x< pivot:\n",
    "                left.append(i)\n",
    "            if x >= pivot:\n",
    "                right.append(i)\n",
    "        return QS(left) + [pivot] + QS(right)\n",
    "\n"
   ]
  },
  {
   "cell_type": "code",
   "execution_count": null,
   "id": "6ff9d24a",
   "metadata": {},
   "outputs": [],
   "source": []
  }
 ],
 "metadata": {
  "kernelspec": {
   "display_name": "Python 3 (ipykernel)",
   "language": "python",
   "name": "python3"
  },
  "language_info": {
   "codemirror_mode": {
    "name": "ipython",
    "version": 3
   },
   "file_extension": ".py",
   "mimetype": "text/x-python",
   "name": "python",
   "nbconvert_exporter": "python",
   "pygments_lexer": "ipython3",
   "version": "3.10.9"
  }
 },
 "nbformat": 4,
 "nbformat_minor": 5
}
