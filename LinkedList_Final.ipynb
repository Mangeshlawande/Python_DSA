{
 "cells": [
  {
   "cell_type": "code",
   "execution_count": 1,
   "id": "9109cbc2",
   "metadata": {},
   "outputs": [],
   "source": [
    "class Node:\n",
    "    def __init__(node,data):\n",
    "        node.data = data\n",
    "        node.next = None"
   ]
  },
  {
   "cell_type": "code",
   "execution_count": 2,
   "id": "ed8711ba",
   "metadata": {},
   "outputs": [],
   "source": [
    "class LinkedList:\n",
    "\n",
    "    def __init__(node):\n",
    "        node.head = None\n",
    "\n",
    "    \n",
    "    def insert_beg(node,item):\n",
    "        new_node = Node(item)\n",
    "        print('Node added ->',new_node.data)\n",
    "\n",
    "        new_node.next = node.head\n",
    "        node.head = new_node\n",
    "\n",
    "    \n",
    "    def insert_after(node,prev_node,item):\n",
    "        if prev_node is None:\n",
    "            return\n",
    "\n",
    "        new_node = Node(item)\n",
    "        new_node.next = prev_node.next\n",
    "        prev_node.next = new_node\n",
    "        print('Node->',new_node.data,'added after',prev_node.data)\n",
    "\n",
    "    \n",
    "    def insert_end(node,item):\n",
    "        new_node = Node(item)\n",
    "\n",
    "        if node.head is None:\n",
    "            node.head = new_node\n",
    "            return\n",
    "\n",
    "        current = node.head\n",
    "        while (current.next):\n",
    "            current = current.next\n",
    "\n",
    "        current.next = new_node\n",
    "        print('Node->',new_node.data,'added at end')\n",
    "\n",
    "    \n",
    "    def delete(node,index):\n",
    "        if node.head is None:\n",
    "            return\n",
    "        \n",
    "        temp = node.head\n",
    "        if index == 0:\n",
    "            node.head = temp.next\n",
    "            temp = None\n",
    "            print('Head node deleted')\n",
    "            return\n",
    "\n",
    "        for i in range(index-1):\n",
    "            temp = temp.next\n",
    "            if temp is None:\n",
    "                break\n",
    "        print('temp->',temp.data)\n",
    "        print('temp.next->',temp.next.data)\n",
    "        print('temp.next.next->',temp.next.next.data)\n",
    "\n",
    "        a = temp.next.next\n",
    "        temp.next = None\n",
    "        temp.next = a\n",
    "\n",
    "    \n",
    "    def search(node,element):\n",
    "        current = node.head\n",
    "\n",
    "        while current:\n",
    "            if current.data == element:\n",
    "                return 'Element mil gaya re baba'\n",
    "\n",
    "            current = current.next\n",
    "\n",
    "        return 'Element nahi mila re baba'\n",
    "\n",
    "                \n",
    "    def display(node):\n",
    "        temp = node.head\n",
    "        while (temp):\n",
    "            print(temp.data,\"-> \", end=\"\")\n",
    "            temp = temp.next\n"
   ]
  },
  {
   "cell_type": "code",
   "execution_count": 3,
   "id": "daf79db5",
   "metadata": {},
   "outputs": [
    {
     "name": "stdout",
     "output_type": "stream",
     "text": [
      "10 -> "
     ]
    }
   ],
   "source": [
    "ll = LinkedList()\n",
    "ll.insert_end(10)\n",
    "ll.display()"
   ]
  },
  {
   "cell_type": "code",
   "execution_count": 4,
   "id": "da5b717a",
   "metadata": {},
   "outputs": [
    {
     "name": "stdout",
     "output_type": "stream",
     "text": [
      "Node added -> 20\n",
      "20 -> 10 -> "
     ]
    }
   ],
   "source": [
    "ll.insert_beg(20)\n",
    "ll.display()"
   ]
  },
  {
   "cell_type": "code",
   "execution_count": 5,
   "id": "2ca888db",
   "metadata": {},
   "outputs": [
    {
     "name": "stdout",
     "output_type": "stream",
     "text": [
      "Node-> 30 added at end\n",
      "20 -> 10 -> 30 -> "
     ]
    }
   ],
   "source": [
    "ll.insert_end(30)\n",
    "ll.display()"
   ]
  },
  {
   "cell_type": "code",
   "execution_count": 6,
   "id": "efa11f93",
   "metadata": {},
   "outputs": [
    {
     "name": "stdout",
     "output_type": "stream",
     "text": [
      "Node-> 40 added after 20\n",
      "20 -> 40 -> 10 -> 30 -> "
     ]
    }
   ],
   "source": [
    "ll.insert_after(ll.head, 40)\n",
    "ll.display()"
   ]
  },
  {
   "cell_type": "code",
   "execution_count": 7,
   "id": "b7b6965f",
   "metadata": {},
   "outputs": [
    {
     "name": "stdout",
     "output_type": "stream",
     "text": [
      "temp-> 40\n",
      "temp.next-> 10\n",
      "temp.next.next-> 30\n",
      "20 -> 40 -> 30 -> "
     ]
    }
   ],
   "source": [
    "ll.delete(2)\n",
    "ll.display()"
   ]
  },
  {
   "cell_type": "code",
   "execution_count": 8,
   "id": "53094dca",
   "metadata": {},
   "outputs": [
    {
     "name": "stdout",
     "output_type": "stream",
     "text": [
      "Head node deleted\n",
      "40 -> 30 -> "
     ]
    }
   ],
   "source": [
    "ll.delete(0)\n",
    "ll.display()"
   ]
  },
  {
   "cell_type": "code",
   "execution_count": 9,
   "id": "389951f4",
   "metadata": {},
   "outputs": [
    {
     "data": {
      "text/plain": [
       "'Element nahi mila re baba'"
      ]
     },
     "execution_count": 9,
     "metadata": {},
     "output_type": "execute_result"
    }
   ],
   "source": [
    "ll.search(20)"
   ]
  },
  {
   "cell_type": "code",
   "execution_count": 10,
   "id": "4736748d",
   "metadata": {},
   "outputs": [
    {
     "data": {
      "text/plain": [
       "'Element nahi mila re baba'"
      ]
     },
     "execution_count": 10,
     "metadata": {},
     "output_type": "execute_result"
    }
   ],
   "source": [
    "ll.search(200)"
   ]
  },
  {
   "cell_type": "code",
   "execution_count": 11,
   "id": "e5ce755f",
   "metadata": {},
   "outputs": [
    {
     "data": {
      "text/plain": [
       "'Element mil gaya re baba'"
      ]
     },
     "execution_count": 11,
     "metadata": {},
     "output_type": "execute_result"
    }
   ],
   "source": [
    "ll.search(30)"
   ]
  },
  {
   "cell_type": "code",
   "execution_count": null,
   "id": "48d9173e",
   "metadata": {},
   "outputs": [],
   "source": []
  },
  {
   "cell_type": "code",
   "execution_count": null,
   "id": "5131bb10",
   "metadata": {},
   "outputs": [],
   "source": []
  },
  {
   "cell_type": "code",
   "execution_count": null,
   "id": "5dfb5b67",
   "metadata": {},
   "outputs": [],
   "source": []
  },
  {
   "cell_type": "code",
   "execution_count": null,
   "id": "47993fde",
   "metadata": {},
   "outputs": [],
   "source": []
  },
  {
   "cell_type": "code",
   "execution_count": null,
   "id": "fdc2c1a3",
   "metadata": {},
   "outputs": [],
   "source": []
  },
  {
   "cell_type": "code",
   "execution_count": null,
   "id": "b7bfd9e1",
   "metadata": {},
   "outputs": [],
   "source": []
  },
  {
   "cell_type": "code",
   "execution_count": null,
   "id": "cb842001",
   "metadata": {},
   "outputs": [],
   "source": []
  },
  {
   "cell_type": "code",
   "execution_count": null,
   "id": "4655ace6",
   "metadata": {},
   "outputs": [],
   "source": []
  },
  {
   "cell_type": "code",
   "execution_count": null,
   "id": "23b4ed45",
   "metadata": {},
   "outputs": [],
   "source": []
  },
  {
   "cell_type": "code",
   "execution_count": null,
   "id": "84704157",
   "metadata": {},
   "outputs": [],
   "source": []
  },
  {
   "cell_type": "code",
   "execution_count": null,
   "id": "4431afa9",
   "metadata": {},
   "outputs": [],
   "source": []
  },
  {
   "cell_type": "code",
   "execution_count": 12,
   "id": "2b3e8404",
   "metadata": {},
   "outputs": [],
   "source": [
    "class dllNode:\n",
    "    def __init__(node,data):\n",
    "        node.data = data\n",
    "        node.next = None\n",
    "        node.prev = None\n",
    "\n",
    "class doublyLinkedList:\n",
    "    \n",
    "    def __init__(node):\n",
    "        node.head = None\n",
    "    \n",
    "    def insert_end(node,data):    \n",
    "        if node.head is None:\n",
    "            new_node = dllNode(data)\n",
    "            node.head = new_node\n",
    "            new_node.prev = None\n",
    "            return\n",
    "\n",
    "        current = node.head\n",
    "        while current.next:\n",
    "            current = current.next\n",
    "        new_node = dllNode(data)\n",
    "        current.next = new_node\n",
    "        new_node.prev = current\n",
    "        new_node.next = None\n",
    "    \n",
    "    def insert_beg(node,data):\n",
    "        if node.head is None:\n",
    "            new_node = dllNode(data)\n",
    "            node.head = new_node\n",
    "            new_node.prev = None\n",
    "            return\n",
    "        new_node = dllNode(data)\n",
    "        node.head.prev = new_node\n",
    "        new_node.next = node.head\n",
    "        node.head = new_node\n",
    "        node.head.prev = None\n",
    "        \n",
    "        \n",
    "    def insert_after(node,prev_node,data):\n",
    "        new_node = dllNode(data)\n",
    "        new_node.next = prev_node.next\n",
    "        prev_node.next = new_node\n",
    "        new_node.prev = prev_node\n",
    "        prev_node.next.prev = new_node\n",
    "        print('Node->',data,'added after',prev_node.data)\n",
    "\n",
    "        \n",
    "    \n",
    "    def delete_beg(node):\n",
    "        if node.head is None:\n",
    "            print(\"!!!empty!!!\")\n",
    "            return \n",
    "        node.head = node.head.next\n",
    "        node.head.prev = None;\n",
    "    \n",
    "    def delete_end(node):\n",
    "        if node.head is None:\n",
    "            print('!!!empty!!!')\n",
    "            return \n",
    "        \n",
    "        current = node.head\n",
    "        while current.next:\n",
    "            current = current.next\n",
    "        current.prev.next = None\n",
    "        \n",
    "    def delete(node,index):\n",
    "        temp = node.head\n",
    "        for i in range(index-1):\n",
    "            temp = temp.next\n",
    "            if temp is None:\n",
    "                break\n",
    "        print('temp->',temp.data)\n",
    "        print('temp.next->',temp.next.data)\n",
    "        print('temp.next.next->',temp.next.next.data)\n",
    "        print('temp.next.next.prev->',temp.next.next.prev.data)\n",
    "\n",
    "        a = temp.next.next\n",
    "        temp.next.next.prev = temp\n",
    "        temp.next = None\n",
    "        temp.next = a\n",
    "        \n",
    "        \n",
    "    def search(node,element):\n",
    "        current = node.head\n",
    "\n",
    "        while current:\n",
    "            if current.data == element:\n",
    "                return 'Element mil gaya re baba'\n",
    "\n",
    "            current = current.next\n",
    "\n",
    "        return 'Element nahi mila re baba'\n",
    "    \n",
    "    def display(node):\n",
    "        if node.head is None:\n",
    "            print(\"!!!empty!!!\")\n",
    "            return\n",
    "        else:\n",
    "            current = node.head\n",
    "            print('DLL  ',end='')\n",
    "            while current:\n",
    "                print('<-',current.data,'-> ',end='')\n",
    "                current = current.next"
   ]
  },
  {
   "cell_type": "code",
   "execution_count": 13,
   "id": "efa0b503",
   "metadata": {},
   "outputs": [
    {
     "name": "stdout",
     "output_type": "stream",
     "text": [
      "DLL  <- 1 -> "
     ]
    }
   ],
   "source": [
    "dll = doublyLinkedList()\n",
    "\n",
    "dll.insert_end(1)\n",
    "dll.display()"
   ]
  },
  {
   "cell_type": "code",
   "execution_count": 14,
   "id": "a1837321",
   "metadata": {},
   "outputs": [
    {
     "name": "stdout",
     "output_type": "stream",
     "text": [
      "DLL  <- 1 -> <- 2 -> "
     ]
    }
   ],
   "source": [
    "dll.insert_end(2)\n",
    "dll.display()"
   ]
  },
  {
   "cell_type": "code",
   "execution_count": 15,
   "id": "13534e3c",
   "metadata": {},
   "outputs": [
    {
     "name": "stdout",
     "output_type": "stream",
     "text": [
      "DLL  <- 1 -> <- 2 -> <- 3 -> "
     ]
    }
   ],
   "source": [
    "dll.insert_end(3)\n",
    "dll.display()"
   ]
  },
  {
   "cell_type": "code",
   "execution_count": 16,
   "id": "312c7acc",
   "metadata": {},
   "outputs": [
    {
     "name": "stdout",
     "output_type": "stream",
     "text": [
      "DLL  <- 1 -> <- 2 -> <- 3 -> <- 4 -> "
     ]
    }
   ],
   "source": [
    "dll.insert_end(4)\n",
    "dll.display()"
   ]
  },
  {
   "cell_type": "code",
   "execution_count": 17,
   "id": "d4b25aea",
   "metadata": {},
   "outputs": [
    {
     "name": "stdout",
     "output_type": "stream",
     "text": [
      "DLL  <- 1 -> <- 2 -> <- 3 -> <- 4 -> <- 5 -> "
     ]
    }
   ],
   "source": [
    "dll.insert_end(5)\n",
    "dll.display()"
   ]
  },
  {
   "cell_type": "code",
   "execution_count": 18,
   "id": "4e277173",
   "metadata": {},
   "outputs": [
    {
     "name": "stdout",
     "output_type": "stream",
     "text": [
      "DLL  <- 0 -> <- 1 -> <- 2 -> <- 3 -> <- 4 -> <- 5 -> "
     ]
    }
   ],
   "source": [
    "dll.insert_beg(0)\n",
    "dll.display()"
   ]
  },
  {
   "cell_type": "code",
   "execution_count": 19,
   "id": "9de36687",
   "metadata": {},
   "outputs": [
    {
     "name": "stdout",
     "output_type": "stream",
     "text": [
      "Node-> 10 added after 0\n",
      "DLL  <- 0 -> <- 10 -> <- 1 -> <- 2 -> <- 3 -> <- 4 -> <- 5 -> "
     ]
    }
   ],
   "source": [
    "dll.insert_after(dll.head,10)\n",
    "dll.display()"
   ]
  },
  {
   "cell_type": "code",
   "execution_count": 20,
   "id": "73807e0c",
   "metadata": {},
   "outputs": [
    {
     "name": "stdout",
     "output_type": "stream",
     "text": [
      "DLL  <- 10 -> <- 1 -> <- 2 -> <- 3 -> <- 4 -> <- 5 -> "
     ]
    }
   ],
   "source": [
    "dll.delete_beg()\n",
    "dll.display()"
   ]
  },
  {
   "cell_type": "code",
   "execution_count": 21,
   "id": "1a7bf6b0",
   "metadata": {},
   "outputs": [
    {
     "name": "stdout",
     "output_type": "stream",
     "text": [
      "DLL  <- 10 -> <- 1 -> <- 2 -> <- 3 -> <- 4 -> "
     ]
    }
   ],
   "source": [
    "dll.delete_end()\n",
    "dll.display()"
   ]
  },
  {
   "cell_type": "code",
   "execution_count": 22,
   "id": "5de04429",
   "metadata": {},
   "outputs": [
    {
     "name": "stdout",
     "output_type": "stream",
     "text": [
      "temp-> 10\n",
      "temp.next-> 1\n",
      "temp.next.next-> 2\n",
      "temp.next.next.prev-> 1\n",
      "DLL  <- 10 -> <- 2 -> <- 3 -> <- 4 -> "
     ]
    }
   ],
   "source": [
    "dll.delete(1)\n",
    "dll.display()"
   ]
  },
  {
   "cell_type": "code",
   "execution_count": 25,
   "id": "c5fd3d4a",
   "metadata": {},
   "outputs": [
    {
     "name": "stdout",
     "output_type": "stream",
     "text": [
      "temp-> 2\n",
      "temp.next-> 3\n",
      "temp.next.next-> 4\n",
      "temp.next.next.prev-> 3\n",
      "DLL  <- 10 -> <- 2 -> <- 4 -> "
     ]
    }
   ],
   "source": [
    "dll.delete(2)\n",
    "dll.display()"
   ]
  },
  {
   "cell_type": "code",
   "execution_count": 23,
   "id": "50154b47",
   "metadata": {},
   "outputs": [
    {
     "data": {
      "text/plain": [
       "'Element mil gaya re baba'"
      ]
     },
     "execution_count": 23,
     "metadata": {},
     "output_type": "execute_result"
    }
   ],
   "source": [
    "dll.search(10)"
   ]
  },
  {
   "cell_type": "code",
   "execution_count": 24,
   "id": "a689430b",
   "metadata": {},
   "outputs": [
    {
     "data": {
      "text/plain": [
       "'Element nahi mila re baba'"
      ]
     },
     "execution_count": 24,
     "metadata": {},
     "output_type": "execute_result"
    }
   ],
   "source": [
    "dll.search(100)"
   ]
  },
  {
   "cell_type": "code",
   "execution_count": null,
   "id": "b29f834c",
   "metadata": {},
   "outputs": [],
   "source": []
  }
 ],
 "metadata": {
  "kernelspec": {
   "display_name": "Python 3 (ipykernel)",
   "language": "python",
   "name": "python3"
  },
  "language_info": {
   "codemirror_mode": {
    "name": "ipython",
    "version": 3
   },
   "file_extension": ".py",
   "mimetype": "text/x-python",
   "name": "python",
   "nbconvert_exporter": "python",
   "pygments_lexer": "ipython3",
   "version": "3.9.13"
  }
 },
 "nbformat": 4,
 "nbformat_minor": 5
}
