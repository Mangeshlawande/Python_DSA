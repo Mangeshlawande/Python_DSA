{
 "cells": [
  {
   "cell_type": "code",
   "execution_count": 1,
   "id": "97e98231",
   "metadata": {},
   "outputs": [],
   "source": [
    "graph = {'A': ['B'],\n",
    "         'B': ['C', 'D'],\n",
    "         'C': ['F'],\n",
    "         'D': ['F'],\n",
    "         'E': ['C'],\n",
    "         'F': ['E']\n",
    "        }"
   ]
  },
  {
   "cell_type": "code",
   "execution_count": 2,
   "id": "2fc1b3db",
   "metadata": {},
   "outputs": [
    {
     "data": {
      "text/plain": [
       "{'A': ['B'], 'B': ['C', 'D'], 'C': ['F'], 'D': ['F'], 'E': ['C'], 'F': ['E']}"
      ]
     },
     "execution_count": 2,
     "metadata": {},
     "output_type": "execute_result"
    }
   ],
   "source": [
    "graph"
   ]
  },
  {
   "cell_type": "code",
   "execution_count": 3,
   "id": "1e3efc20",
   "metadata": {},
   "outputs": [],
   "source": [
    "def graph_path(graph,first, last, path=[]):\n",
    "    path = path + [first]\n",
    "    print('path->', path)\n",
    "    if first == last:\n",
    "        print('f==l')\n",
    "        return path\n",
    "    for node in graph[first]:\n",
    "        print('loop node-->',node)\n",
    "        if node not in path:\n",
    "            PATH = graph_path(graph, node, last, path)\n",
    "            if PATH!=None:\n",
    "                return PATH\n",
    "            return 'Aisa rasta nahi hai re baba'"
   ]
  },
  {
   "cell_type": "code",
   "execution_count": 4,
   "id": "3cb546b8",
   "metadata": {},
   "outputs": [
    {
     "name": "stdout",
     "output_type": "stream",
     "text": [
      "path-> ['A']\n",
      "loop node--> B\n",
      "path-> ['A', 'B']\n",
      "loop node--> C\n",
      "path-> ['A', 'B', 'C']\n",
      "loop node--> F\n",
      "path-> ['A', 'B', 'C', 'F']\n",
      "f==l\n"
     ]
    },
    {
     "data": {
      "text/plain": [
       "['A', 'B', 'C', 'F']"
      ]
     },
     "execution_count": 4,
     "metadata": {},
     "output_type": "execute_result"
    }
   ],
   "source": [
    "graph_path(graph,'A','F')"
   ]
  },
  {
   "cell_type": "code",
   "execution_count": 5,
   "id": "bd7958cb",
   "metadata": {},
   "outputs": [
    {
     "name": "stdout",
     "output_type": "stream",
     "text": [
      "path-> ['D']\n",
      "loop node--> F\n",
      "path-> ['D', 'F']\n",
      "loop node--> E\n",
      "path-> ['D', 'F', 'E']\n",
      "f==l\n"
     ]
    },
    {
     "data": {
      "text/plain": [
       "['D', 'F', 'E']"
      ]
     },
     "execution_count": 5,
     "metadata": {},
     "output_type": "execute_result"
    }
   ],
   "source": [
    "graph_path(graph,'D','E')"
   ]
  },
  {
   "cell_type": "code",
   "execution_count": 6,
   "id": "c6a11414",
   "metadata": {},
   "outputs": [
    {
     "name": "stdout",
     "output_type": "stream",
     "text": [
      "path-> ['D']\n",
      "loop node--> F\n",
      "path-> ['D', 'F']\n",
      "loop node--> E\n",
      "path-> ['D', 'F', 'E']\n",
      "loop node--> C\n",
      "path-> ['D', 'F', 'E', 'C']\n",
      "loop node--> F\n"
     ]
    },
    {
     "data": {
      "text/plain": [
       "'Aisa rasta nahi hai re baba'"
      ]
     },
     "execution_count": 6,
     "metadata": {},
     "output_type": "execute_result"
    }
   ],
   "source": [
    "graph_path(graph,'D','A')"
   ]
  },
  {
   "cell_type": "code",
   "execution_count": 7,
   "id": "ad78b0d1",
   "metadata": {},
   "outputs": [
    {
     "name": "stdout",
     "output_type": "stream",
     "text": [
      "path-> ['A']\n",
      "loop node--> B\n",
      "path-> ['A', 'B']\n",
      "loop node--> C\n",
      "path-> ['A', 'B', 'C']\n",
      "loop node--> F\n",
      "path-> ['A', 'B', 'C', 'F']\n",
      "loop node--> E\n",
      "path-> ['A', 'B', 'C', 'F', 'E']\n",
      "f==l\n"
     ]
    },
    {
     "data": {
      "text/plain": [
       "['A', 'B', 'C', 'F', 'E']"
      ]
     },
     "execution_count": 7,
     "metadata": {},
     "output_type": "execute_result"
    }
   ],
   "source": [
    "graph_path(graph,'A','E')"
   ]
  },
  {
   "cell_type": "code",
   "execution_count": 8,
   "id": "399abbf6",
   "metadata": {},
   "outputs": [],
   "source": [
    "def all_path(graph,first,last,path=[]):\n",
    "    path = path + [first]\n",
    "    print('path->', path)\n",
    "    if first == last:\n",
    "        print('f==l')\n",
    "        return [path]\n",
    "    final=[]\n",
    "    for node in graph[first]:\n",
    "        print('loop node-->',node)\n",
    "        if node not in path:\n",
    "            PATHS = all_path(graph,node,last,path)\n",
    "            for i in PATHS:\n",
    "                final.append(i)\n",
    "    return final"
   ]
  },
  {
   "cell_type": "code",
   "execution_count": 9,
   "id": "ce6ba221",
   "metadata": {},
   "outputs": [
    {
     "name": "stdout",
     "output_type": "stream",
     "text": [
      "path-> ['A']\n",
      "loop node--> B\n",
      "path-> ['A', 'B']\n",
      "loop node--> C\n",
      "path-> ['A', 'B', 'C']\n",
      "f==l\n",
      "loop node--> D\n",
      "path-> ['A', 'B', 'D']\n",
      "loop node--> F\n",
      "path-> ['A', 'B', 'D', 'F']\n",
      "loop node--> E\n",
      "path-> ['A', 'B', 'D', 'F', 'E']\n",
      "loop node--> C\n",
      "path-> ['A', 'B', 'D', 'F', 'E', 'C']\n",
      "f==l\n"
     ]
    },
    {
     "data": {
      "text/plain": [
       "[['A', 'B', 'C'], ['A', 'B', 'D', 'F', 'E', 'C']]"
      ]
     },
     "execution_count": 9,
     "metadata": {},
     "output_type": "execute_result"
    }
   ],
   "source": [
    "all_path(graph, 'A','C')"
   ]
  },
  {
   "cell_type": "code",
   "execution_count": 10,
   "id": "484cf4bc",
   "metadata": {},
   "outputs": [
    {
     "name": "stdout",
     "output_type": "stream",
     "text": [
      "path-> ['A']\n",
      "loop node--> B\n",
      "path-> ['A', 'B']\n",
      "loop node--> C\n",
      "path-> ['A', 'B', 'C']\n",
      "loop node--> F\n",
      "path-> ['A', 'B', 'C', 'F']\n",
      "loop node--> E\n",
      "path-> ['A', 'B', 'C', 'F', 'E']\n",
      "f==l\n",
      "loop node--> D\n",
      "path-> ['A', 'B', 'D']\n",
      "loop node--> F\n",
      "path-> ['A', 'B', 'D', 'F']\n",
      "loop node--> E\n",
      "path-> ['A', 'B', 'D', 'F', 'E']\n",
      "f==l\n"
     ]
    },
    {
     "data": {
      "text/plain": [
       "[['A', 'B', 'C', 'F', 'E'], ['A', 'B', 'D', 'F', 'E']]"
      ]
     },
     "execution_count": 10,
     "metadata": {},
     "output_type": "execute_result"
    }
   ],
   "source": [
    "all_path(graph, 'A','E')"
   ]
  },
  {
   "cell_type": "code",
   "execution_count": 11,
   "id": "783ad23d",
   "metadata": {},
   "outputs": [],
   "source": [
    "def shortest_path(graph,first, last, path=[]):\n",
    "    path = path + [first]\n",
    "    print('path->', path)\n",
    "    if first == last:\n",
    "        print('f==l')\n",
    "        return [path]\n",
    "    shortest = []\n",
    "    for node in graph[first]:\n",
    "        print('loop node-->',node)\n",
    "        if node not in path:\n",
    "            PATHS = shortest_path(graph, node, last, path)\n",
    "            if PATHS:\n",
    "                if not shortest or len(PATHS) < len(shortest):\n",
    "                    shortest = PATHS\n",
    "    return shortest"
   ]
  },
  {
   "cell_type": "code",
   "execution_count": 12,
   "id": "910f84ed",
   "metadata": {},
   "outputs": [
    {
     "name": "stdout",
     "output_type": "stream",
     "text": [
      "path-> ['A']\n",
      "loop node--> B\n",
      "path-> ['A', 'B']\n",
      "loop node--> C\n",
      "path-> ['A', 'B', 'C']\n",
      "f==l\n",
      "loop node--> D\n",
      "path-> ['A', 'B', 'D']\n",
      "loop node--> F\n",
      "path-> ['A', 'B', 'D', 'F']\n",
      "loop node--> E\n",
      "path-> ['A', 'B', 'D', 'F', 'E']\n",
      "loop node--> C\n",
      "path-> ['A', 'B', 'D', 'F', 'E', 'C']\n",
      "f==l\n"
     ]
    },
    {
     "data": {
      "text/plain": [
       "[['A', 'B', 'C']]"
      ]
     },
     "execution_count": 12,
     "metadata": {},
     "output_type": "execute_result"
    }
   ],
   "source": [
    "shortest_path(graph,'A','C')"
   ]
  },
  {
   "cell_type": "code",
   "execution_count": 13,
   "id": "9106fcbe",
   "metadata": {},
   "outputs": [
    {
     "name": "stdout",
     "output_type": "stream",
     "text": [
      "[['A', 'B'], ['B', 'C'], ['B', 'D'], ['C', 'F'], ['D', 'F'], ['E', 'C'], ['F', 'E']]\n"
     ]
    }
   ],
   "source": [
    "def edges(graph):\n",
    "    edges = []\n",
    "    for node in graph:\n",
    "        for neighbour in graph[node]:\n",
    "            edges.append([node, neighbour])\n",
    "            \n",
    "    return edges\n",
    "print(edges(graph))"
   ]
  },
  {
   "cell_type": "code",
   "execution_count": null,
   "id": "59d5e9a1",
   "metadata": {},
   "outputs": [],
   "source": [
    "\n",
    "\n",
    "\n",
    "\n"
   ]
  },
  {
   "cell_type": "markdown",
   "id": "953e43c0",
   "metadata": {},
   "source": [
    "# ##dfs and bfs"
   ]
  },
  {
   "cell_type": "code",
   "execution_count": 14,
   "id": "bae429cb",
   "metadata": {},
   "outputs": [],
   "source": [
    "def DFS(v, graph, node):\n",
    "    print('node-->', node)\n",
    "    if node not in v:\n",
    "        print('added-->',node)\n",
    "        v.append(node)\n",
    "        for i in graph[node]:\n",
    "            print('Node in loop-->', i)\n",
    "            DFS(v,graph,i)\n",
    "        return v"
   ]
  },
  {
   "cell_type": "code",
   "execution_count": 15,
   "id": "c79148a3",
   "metadata": {},
   "outputs": [],
   "source": [
    "graph1= {\n",
    "    'A': ['B', 'C'],\n",
    "    'B': ['D', 'E'],\n",
    "    'C': ['E'],\n",
    "    'D': ['F'],\n",
    "    'E': [],\n",
    "    'F': []      \n",
    "}"
   ]
  },
  {
   "cell_type": "code",
   "execution_count": 16,
   "id": "acc6bc8b",
   "metadata": {},
   "outputs": [
    {
     "name": "stdout",
     "output_type": "stream",
     "text": [
      "node--> A\n",
      "added--> A\n",
      "Node in loop--> B\n",
      "node--> B\n",
      "added--> B\n",
      "Node in loop--> D\n",
      "node--> D\n",
      "added--> D\n",
      "Node in loop--> F\n",
      "node--> F\n",
      "added--> F\n",
      "Node in loop--> E\n",
      "node--> E\n",
      "added--> E\n",
      "Node in loop--> C\n",
      "node--> C\n",
      "added--> C\n",
      "Node in loop--> E\n",
      "node--> E\n"
     ]
    },
    {
     "data": {
      "text/plain": [
       "['A', 'B', 'D', 'F', 'E', 'C']"
      ]
     },
     "execution_count": 16,
     "metadata": {},
     "output_type": "execute_result"
    }
   ],
   "source": [
    "visited = []\n",
    "DFS(visited,graph1,'A')"
   ]
  },
  {
   "cell_type": "code",
   "execution_count": 27,
   "id": "debd8873",
   "metadata": {},
   "outputs": [],
   "source": [
    "def DFS(v,graph, node):\n",
    "    print('node-->', node)\n",
    "    if node not in v:\n",
    "        print('added-->',node)\n",
    "        v.append(node)\n",
    "        for i in graph[node]:\n",
    "            print('Node in loop-->', i)\n",
    "            DFS(v,graph,i)\n",
    "        return v"
   ]
  },
  {
   "cell_type": "code",
   "execution_count": 28,
   "id": "cebecac3",
   "metadata": {},
   "outputs": [],
   "source": [
    "graph1= {\n",
    "    'A': ['B', 'C'],\n",
    "    'B': ['D', 'E'],\n",
    "    'C': ['E'],\n",
    "    'D': ['F'],\n",
    "    'E': [],\n",
    "    'F': []      \n",
    "}"
   ]
  },
  {
   "cell_type": "code",
   "execution_count": 31,
   "id": "0abdbd31",
   "metadata": {},
   "outputs": [
    {
     "name": "stdout",
     "output_type": "stream",
     "text": [
      "node--> A\n",
      "added--> A\n",
      "Node in loop--> B\n",
      "node--> B\n",
      "added--> B\n",
      "Node in loop--> D\n",
      "node--> D\n",
      "added--> D\n",
      "Node in loop--> F\n",
      "node--> F\n",
      "added--> F\n",
      "Node in loop--> E\n",
      "node--> E\n",
      "added--> E\n",
      "Node in loop--> C\n",
      "node--> C\n",
      "added--> C\n",
      "Node in loop--> E\n",
      "node--> E\n"
     ]
    },
    {
     "data": {
      "text/plain": [
       "['A', 'B', 'D', 'F', 'E', 'C']"
      ]
     },
     "execution_count": 31,
     "metadata": {},
     "output_type": "execute_result"
    }
   ],
   "source": [
    "visited = []\n",
    "DFS(visited,graph1,'A')"
   ]
  },
  {
   "cell_type": "markdown",
   "id": "cec1ecc4",
   "metadata": {},
   "source": [
    "\n",
    "# # BFS\n"
   ]
  },
  {
   "cell_type": "code",
   "execution_count": 17,
   "id": "4d2ee3ce",
   "metadata": {},
   "outputs": [],
   "source": [
    "def BFS(graph, node):\n",
    "    v = []\n",
    "    q = []\n",
    "    v.append(node)\n",
    "    q.append(node)\n",
    "    \n",
    "    while q:\n",
    "        node = q.pop(0)\n",
    "        print('popped node -->', node)\n",
    "        \n",
    "        for i in graph[node]:\n",
    "            print('Node in loop -->', i)\n",
    "            if i not in v :\n",
    "                print('node to be added->',i)\n",
    "                v.append(i)\n",
    "                q.append(i)\n",
    "    return v\n",
    "        "
   ]
  },
  {
   "cell_type": "code",
   "execution_count": 18,
   "id": "e41df682",
   "metadata": {},
   "outputs": [],
   "source": [
    "graph1= {\n",
    "    'A': ['B', 'C'],\n",
    "    'B': ['D', 'E'],\n",
    "    'C': ['E'],\n",
    "    'D': ['F'],\n",
    "    'E': [],\n",
    "    'F': []      \n",
    "}"
   ]
  },
  {
   "cell_type": "code",
   "execution_count": 19,
   "id": "235e0f76",
   "metadata": {},
   "outputs": [
    {
     "name": "stdout",
     "output_type": "stream",
     "text": [
      "popped node --> A\n",
      "Node in loop --> B\n",
      "node to be added-> B\n",
      "Node in loop --> C\n",
      "node to be added-> C\n",
      "popped node --> B\n",
      "Node in loop --> D\n",
      "node to be added-> D\n",
      "Node in loop --> E\n",
      "node to be added-> E\n",
      "popped node --> C\n",
      "Node in loop --> E\n",
      "popped node --> D\n",
      "Node in loop --> F\n",
      "node to be added-> F\n",
      "popped node --> E\n",
      "popped node --> F\n"
     ]
    },
    {
     "data": {
      "text/plain": [
       "['A', 'B', 'C', 'D', 'E', 'F']"
      ]
     },
     "execution_count": 19,
     "metadata": {},
     "output_type": "execute_result"
    }
   ],
   "source": [
    "BFS(graph1,'A')"
   ]
  },
  {
   "cell_type": "code",
   "execution_count": null,
   "id": "1a20d5eb",
   "metadata": {},
   "outputs": [],
   "source": []
  }
 ],
 "metadata": {
  "kernelspec": {
   "display_name": "Python 3 (ipykernel)",
   "language": "python",
   "name": "python3"
  },
  "language_info": {
   "codemirror_mode": {
    "name": "ipython",
    "version": 3
   },
   "file_extension": ".py",
   "mimetype": "text/x-python",
   "name": "python",
   "nbconvert_exporter": "python",
   "pygments_lexer": "ipython3",
   "version": "3.10.9"
  }
 },
 "nbformat": 4,
 "nbformat_minor": 5
}
