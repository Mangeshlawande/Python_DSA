{
 "cells": [
  {
   "cell_type": "code",
   "execution_count": 1,
   "id": "13abb1b1",
   "metadata": {},
   "outputs": [],
   "source": [
    "class bst:\n",
    "    def __init__(node,data):\n",
    "        node.data = data \n",
    "        node.left = None\n",
    "        node.right = None\n",
    "        \n",
    "    def insert(node, data):\n",
    "        if node.data > data:\n",
    "            if node.left:\n",
    "                node.left.insert(data)\n",
    "                \n",
    "            else:\n",
    "                node.left = bst(data)\n",
    "                return\n",
    "        else:\n",
    "            if node.right:\n",
    "                node.right.insert(data)\n",
    "            else:\n",
    "                node.right = bst(data)\n",
    "                return\n",
    "            \n",
    "    def search(node,item):\n",
    "        if item == node.data:\n",
    "            return \"Item found\"\n",
    "        \n",
    "        elif item < node.data:\n",
    "            \n",
    "            if node.left:\n",
    "                return node.left.search(item)\n",
    "            else:\n",
    "                return \"Item not found\"\n",
    "        else:\n",
    "            \n",
    "            if node.right :\n",
    "                return node.right.search(item)\n",
    "            else:\n",
    "                return \"Item not found\"\n",
    "        \n",
    "    def delete(node, item):\n",
    "        print('1->node',node.data,'item->',item)\n",
    "        if node is None:\n",
    "            return node\n",
    "\n",
    "        if item < node.data :\n",
    "            print('2->node',node.data,'item ->',item)\n",
    "            node.left = node.left.delete(item)\n",
    "\n",
    "        elif item > node.data :\n",
    "            print('3->node',node.data,'item->',item)\n",
    "            node.right = node.right.delete(item)\n",
    "\n",
    "        else:\n",
    "            if node.left is None:\n",
    "                print('4->node',node.data,'item->',item)\n",
    "                temp = node.right\n",
    "                node = None\n",
    "                return temp\n",
    "\n",
    "            elif node.right is None:\n",
    "                print(\"5->node\",node.data,'item->',item)\n",
    "                temp = node.left\n",
    "                node =None\n",
    "                return temp\n",
    "\n",
    "            print('6->node',node.data,'item->',item)\n",
    "            temp1 = node.right\n",
    "            while temp1.left:\n",
    "                temp1 = temp1.left\n",
    "\n",
    "            node.data = temp1.data\n",
    "            node.right = node.right.delete(temp1.data)\n",
    "            return node\n",
    "                "
   ]
  },
  {
   "cell_type": "code",
   "execution_count": null,
   "id": "fb78c4fe",
   "metadata": {},
   "outputs": [],
   "source": []
  },
  {
   "cell_type": "code",
   "execution_count": 2,
   "id": "bb20bca6",
   "metadata": {},
   "outputs": [],
   "source": [
    "def preorder(root):\n",
    "    if root:\n",
    "        print(root.data)\n",
    "        preorder(root.left)\n",
    "        preorder(root.right)\n",
    "        "
   ]
  },
  {
   "cell_type": "code",
   "execution_count": 3,
   "id": "45eba834",
   "metadata": {},
   "outputs": [],
   "source": [
    "def inorder(root):\n",
    "    if root:\n",
    "        inorder(root.left)\n",
    "        print(root.data)\n",
    "        inorder(root.right)\n",
    "        "
   ]
  },
  {
   "cell_type": "code",
   "execution_count": 4,
   "id": "52fc6f8f",
   "metadata": {},
   "outputs": [],
   "source": [
    "def postorder(root):\n",
    "    if root:\n",
    "        postorder(root.left)\n",
    "        postorder(root.right)\n",
    "        print(root.data)"
   ]
  },
  {
   "cell_type": "code",
   "execution_count": 5,
   "id": "f6eb0536",
   "metadata": {},
   "outputs": [],
   "source": [
    "root2 = bst(10)\n",
    "root2.insert(5)\n",
    "root2.insert(15)\n",
    "root2.insert(3)\n",
    "root2.insert(8)\n",
    "root2.insert(12)\n",
    "root2.insert(18)"
   ]
  },
  {
   "cell_type": "code",
   "execution_count": 6,
   "id": "d8a1e471",
   "metadata": {},
   "outputs": [
    {
     "name": "stdout",
     "output_type": "stream",
     "text": [
      "10\n",
      "5\n",
      "3\n",
      "8\n",
      "15\n",
      "12\n",
      "18\n"
     ]
    }
   ],
   "source": [
    "preorder(root2)"
   ]
  },
  {
   "cell_type": "code",
   "execution_count": 7,
   "id": "962e5530",
   "metadata": {},
   "outputs": [
    {
     "name": "stdout",
     "output_type": "stream",
     "text": [
      "3\n",
      "5\n",
      "8\n",
      "10\n",
      "12\n",
      "15\n",
      "18\n"
     ]
    }
   ],
   "source": [
    "inorder(root2)"
   ]
  },
  {
   "cell_type": "code",
   "execution_count": 8,
   "id": "37728591",
   "metadata": {},
   "outputs": [
    {
     "name": "stdout",
     "output_type": "stream",
     "text": [
      "3\n",
      "8\n",
      "5\n",
      "12\n",
      "18\n",
      "15\n",
      "10\n"
     ]
    }
   ],
   "source": [
    "postorder(root2)"
   ]
  },
  {
   "cell_type": "code",
   "execution_count": 9,
   "id": "064e3902",
   "metadata": {},
   "outputs": [],
   "source": [
    "root2.insert(6)"
   ]
  },
  {
   "cell_type": "code",
   "execution_count": 10,
   "id": "87edf891",
   "metadata": {},
   "outputs": [
    {
     "name": "stdout",
     "output_type": "stream",
     "text": [
      "3\n",
      "5\n",
      "6\n",
      "8\n",
      "10\n",
      "12\n",
      "15\n",
      "18\n"
     ]
    }
   ],
   "source": [
    "inorder(root2)"
   ]
  },
  {
   "cell_type": "code",
   "execution_count": 11,
   "id": "e08b8176",
   "metadata": {},
   "outputs": [
    {
     "data": {
      "text/plain": [
       "'Item found'"
      ]
     },
     "execution_count": 11,
     "metadata": {},
     "output_type": "execute_result"
    }
   ],
   "source": [
    "root2.search(10)"
   ]
  },
  {
   "cell_type": "code",
   "execution_count": 12,
   "id": "25e83796",
   "metadata": {},
   "outputs": [
    {
     "data": {
      "text/plain": [
       "'Item not found'"
      ]
     },
     "execution_count": 12,
     "metadata": {},
     "output_type": "execute_result"
    }
   ],
   "source": [
    "root2.search(100)"
   ]
  },
  {
   "cell_type": "code",
   "execution_count": 13,
   "id": "96f834ad",
   "metadata": {},
   "outputs": [
    {
     "data": {
      "text/plain": [
       "'Item found'"
      ]
     },
     "execution_count": 13,
     "metadata": {},
     "output_type": "execute_result"
    }
   ],
   "source": [
    "root2.search(6)"
   ]
  },
  {
   "cell_type": "code",
   "execution_count": 14,
   "id": "533ac704",
   "metadata": {},
   "outputs": [
    {
     "name": "stdout",
     "output_type": "stream",
     "text": [
      "3\n",
      "5\n",
      "6\n",
      "8\n",
      "10\n",
      "12\n",
      "15\n",
      "18\n"
     ]
    }
   ],
   "source": [
    "inorder(root2)\n",
    "\n"
   ]
  },
  {
   "cell_type": "code",
   "execution_count": 17,
   "id": "e37a36e4",
   "metadata": {},
   "outputs": [
    {
     "name": "stdout",
     "output_type": "stream",
     "text": [
      "1->node 10 item-> 8\n",
      "2->node 10 item -> 8\n"
     ]
    },
    {
     "ename": "AttributeError",
     "evalue": "'NoneType' object has no attribute 'delete'",
     "output_type": "error",
     "traceback": [
      "\u001b[1;31m---------------------------------------------------------------------------\u001b[0m",
      "\u001b[1;31mAttributeError\u001b[0m                            Traceback (most recent call last)",
      "Cell \u001b[1;32mIn[17], line 1\u001b[0m\n\u001b[1;32m----> 1\u001b[0m \u001b[43mroot2\u001b[49m\u001b[38;5;241;43m.\u001b[39;49m\u001b[43mdelete\u001b[49m\u001b[43m(\u001b[49m\u001b[38;5;241;43m8\u001b[39;49m\u001b[43m)\u001b[49m\n\u001b[0;32m      2\u001b[0m inorder(root2)\n",
      "Cell \u001b[1;32mIn[1], line 46\u001b[0m, in \u001b[0;36mbst.delete\u001b[1;34m(node, item)\u001b[0m\n\u001b[0;32m     44\u001b[0m \u001b[38;5;28;01mif\u001b[39;00m item \u001b[38;5;241m<\u001b[39m node\u001b[38;5;241m.\u001b[39mdata :\n\u001b[0;32m     45\u001b[0m     \u001b[38;5;28mprint\u001b[39m(\u001b[38;5;124m'\u001b[39m\u001b[38;5;124m2->node\u001b[39m\u001b[38;5;124m'\u001b[39m,node\u001b[38;5;241m.\u001b[39mdata,\u001b[38;5;124m'\u001b[39m\u001b[38;5;124mitem ->\u001b[39m\u001b[38;5;124m'\u001b[39m,item)\n\u001b[1;32m---> 46\u001b[0m     node\u001b[38;5;241m.\u001b[39mleft \u001b[38;5;241m=\u001b[39m \u001b[43mnode\u001b[49m\u001b[38;5;241;43m.\u001b[39;49m\u001b[43mleft\u001b[49m\u001b[38;5;241;43m.\u001b[39;49m\u001b[43mdelete\u001b[49m(item)\n\u001b[0;32m     48\u001b[0m \u001b[38;5;28;01melif\u001b[39;00m item \u001b[38;5;241m>\u001b[39m node\u001b[38;5;241m.\u001b[39mdata :\n\u001b[0;32m     49\u001b[0m     \u001b[38;5;28mprint\u001b[39m(\u001b[38;5;124m'\u001b[39m\u001b[38;5;124m3->node\u001b[39m\u001b[38;5;124m'\u001b[39m,node\u001b[38;5;241m.\u001b[39mdata,\u001b[38;5;124m'\u001b[39m\u001b[38;5;124mitem->\u001b[39m\u001b[38;5;124m'\u001b[39m,item)\n",
      "\u001b[1;31mAttributeError\u001b[0m: 'NoneType' object has no attribute 'delete'"
     ]
    }
   ],
   "source": [
    "root2.delete(8)\n",
    "inorder(root2)"
   ]
  },
  {
   "cell_type": "code",
   "execution_count": 16,
   "id": "c18c6249",
   "metadata": {},
   "outputs": [
    {
     "name": "stdout",
     "output_type": "stream",
     "text": [
      "1->node 10 item-> 8\n",
      "2->node 10 item -> 8\n"
     ]
    },
    {
     "ename": "AttributeError",
     "evalue": "'NoneType' object has no attribute 'delete'",
     "output_type": "error",
     "traceback": [
      "\u001b[1;31m---------------------------------------------------------------------------\u001b[0m",
      "\u001b[1;31mAttributeError\u001b[0m                            Traceback (most recent call last)",
      "Cell \u001b[1;32mIn[16], line 1\u001b[0m\n\u001b[1;32m----> 1\u001b[0m \u001b[43mroot2\u001b[49m\u001b[38;5;241;43m.\u001b[39;49m\u001b[43mdelete\u001b[49m\u001b[43m(\u001b[49m\u001b[38;5;241;43m8\u001b[39;49m\u001b[43m)\u001b[49m\n\u001b[0;32m      2\u001b[0m inorder(root2)\n",
      "Cell \u001b[1;32mIn[1], line 46\u001b[0m, in \u001b[0;36mbst.delete\u001b[1;34m(node, item)\u001b[0m\n\u001b[0;32m     44\u001b[0m \u001b[38;5;28;01mif\u001b[39;00m item \u001b[38;5;241m<\u001b[39m node\u001b[38;5;241m.\u001b[39mdata :\n\u001b[0;32m     45\u001b[0m     \u001b[38;5;28mprint\u001b[39m(\u001b[38;5;124m'\u001b[39m\u001b[38;5;124m2->node\u001b[39m\u001b[38;5;124m'\u001b[39m,node\u001b[38;5;241m.\u001b[39mdata,\u001b[38;5;124m'\u001b[39m\u001b[38;5;124mitem ->\u001b[39m\u001b[38;5;124m'\u001b[39m,item)\n\u001b[1;32m---> 46\u001b[0m     node\u001b[38;5;241m.\u001b[39mleft \u001b[38;5;241m=\u001b[39m \u001b[43mnode\u001b[49m\u001b[38;5;241;43m.\u001b[39;49m\u001b[43mleft\u001b[49m\u001b[38;5;241;43m.\u001b[39;49m\u001b[43mdelete\u001b[49m(item)\n\u001b[0;32m     48\u001b[0m \u001b[38;5;28;01melif\u001b[39;00m item \u001b[38;5;241m>\u001b[39m node\u001b[38;5;241m.\u001b[39mdata :\n\u001b[0;32m     49\u001b[0m     \u001b[38;5;28mprint\u001b[39m(\u001b[38;5;124m'\u001b[39m\u001b[38;5;124m3->node\u001b[39m\u001b[38;5;124m'\u001b[39m,node\u001b[38;5;241m.\u001b[39mdata,\u001b[38;5;124m'\u001b[39m\u001b[38;5;124mitem->\u001b[39m\u001b[38;5;124m'\u001b[39m,item)\n",
      "\u001b[1;31mAttributeError\u001b[0m: 'NoneType' object has no attribute 'delete'"
     ]
    }
   ],
   "source": [
    "root2.delete(8)\n",
    "inorder(root2)"
   ]
  },
  {
   "cell_type": "code",
   "execution_count": null,
   "id": "85d7b7e8",
   "metadata": {},
   "outputs": [],
   "source": []
  }
 ],
 "metadata": {
  "kernelspec": {
   "display_name": "Python 3 (ipykernel)",
   "language": "python",
   "name": "python3"
  },
  "language_info": {
   "codemirror_mode": {
    "name": "ipython",
    "version": 3
   },
   "file_extension": ".py",
   "mimetype": "text/x-python",
   "name": "python",
   "nbconvert_exporter": "python",
   "pygments_lexer": "ipython3",
   "version": "3.10.9"
  }
 },
 "nbformat": 4,
 "nbformat_minor": 5
}
