{
 "cells": [
  {
   "cell_type": "code",
   "execution_count": 1,
   "id": "8e020fd7",
   "metadata": {},
   "outputs": [],
   "source": [
    "class Node(object):\n",
    "\n",
    "    def __init__(node,left,right):\n",
    "        node.left = left\n",
    "        node.right = right\n",
    "\n",
    "    def child(node):\n",
    "        return (node.left,node.right)"
   ]
  },
  {
   "cell_type": "code",
   "execution_count": 2,
   "id": "51198878",
   "metadata": {},
   "outputs": [],
   "source": [
    "def huffman(node,BS=''):\n",
    "    if type(node) is str:\n",
    "        print('node = ',node,'-->',' BS',BS)\n",
    "        return {node:BS}\n",
    "    (left,right) = node.child()\n",
    "    T = dict()\n",
    "    T.update(huffman(left,BS + '0'))\n",
    "    T.update(huffman(right,BS + '1'))\n",
    "    return T\n"
   ]
  },
  {
   "cell_type": "code",
   "execution_count": 3,
   "id": "ebf21368",
   "metadata": {},
   "outputs": [],
   "source": [
    "def sort(sequence):\n",
    "    frequency = {}\n",
    "    for i in sequence:\n",
    "        if i in frequency:\n",
    "            frequency[i] += 1\n",
    "        else:\n",
    "            frequency[i] = 1\n",
    "\n",
    "    print('freq_before',frequency)\n",
    "    frequency = sorted(frequency.items(), key=lambda x: x[1])\n",
    "    print('freq_after',frequency)\n",
    "    return frequency"
   ]
  },
  {
   "cell_type": "code",
   "execution_count": 4,
   "id": "dac3e285",
   "metadata": {},
   "outputs": [],
   "source": [
    "def Btree(frequency):\n",
    "    nodes = frequency\n",
    "    while len(nodes) > 1:\n",
    "        (sym1,freq1) = nodes[0]\n",
    "        (sym2,freq2) = nodes[1]\n",
    "        nodes = nodes[2:]\n",
    "        new_node = Node(sym1,sym2)\n",
    "        nodes.append((new_node, freq1 + freq2))\n",
    "\n",
    "        nodes = sorted(nodes, key=lambda x: x[1])\n",
    "\n",
    "    huffman_code = huffman(nodes[0][0])\n",
    "    return huffman_code"
   ]
  },
  {
   "cell_type": "code",
   "execution_count": 5,
   "id": "88867c66",
   "metadata": {},
   "outputs": [],
   "source": [
    "def display(frequency,HC):\n",
    "    for (symbol,frequency) in frequency:\n",
    "        print(symbol,'-',HC[symbol])"
   ]
  },
  {
   "cell_type": "code",
   "execution_count": 6,
   "id": "b2c9050b",
   "metadata": {},
   "outputs": [],
   "source": [
    "def decode(hf,c):\n",
    "    for (symbol,code) in hf.items():\n",
    "        if c == code:\n",
    "            print('Symbol -> ',symbol)\n",
    "            return\n",
    "    print('No Symbol exists')\n",
    "    "
   ]
  },
  {
   "cell_type": "code",
   "execution_count": 7,
   "id": "a58b1f14",
   "metadata": {},
   "outputs": [
    {
     "name": "stdout",
     "output_type": "stream",
     "text": [
      "freq_before {'C': 8, 'B': 2, 'A': 5, 'D': 6}\n",
      "freq_after [('B', 2), ('A', 5), ('D', 6), ('C', 8)]\n"
     ]
    }
   ],
   "source": [
    "sequence = 'CCBBCCAAAAACCDDDDDDCC'\n",
    "frequency = sort(sequence)"
   ]
  },
  {
   "cell_type": "code",
   "execution_count": 8,
   "id": "6932611c",
   "metadata": {},
   "outputs": [
    {
     "name": "stdout",
     "output_type": "stream",
     "text": [
      "node =  C -->  BS 0\n",
      "node =  D -->  BS 10\n",
      "node =  B -->  BS 110\n",
      "node =  A -->  BS 111\n"
     ]
    }
   ],
   "source": [
    "huffman_code = Btree(frequency)"
   ]
  },
  {
   "cell_type": "code",
   "execution_count": 9,
   "id": "2905fcc4",
   "metadata": {},
   "outputs": [
    {
     "name": "stdout",
     "output_type": "stream",
     "text": [
      "B - 110\n",
      "A - 111\n",
      "D - 10\n",
      "C - 0\n"
     ]
    }
   ],
   "source": [
    "display(frequency,huffman_code)"
   ]
  },
  {
   "cell_type": "code",
   "execution_count": 10,
   "id": "092488f4",
   "metadata": {},
   "outputs": [
    {
     "name": "stdout",
     "output_type": "stream",
     "text": [
      "Symbol ->  B\n"
     ]
    }
   ],
   "source": [
    "code = '110'\n",
    "decode(huffman_code,code)"
   ]
  },
  {
   "cell_type": "code",
   "execution_count": 11,
   "id": "e16a157c",
   "metadata": {},
   "outputs": [
    {
     "name": "stdout",
     "output_type": "stream",
     "text": [
      "Symbol ->  C\n"
     ]
    }
   ],
   "source": [
    "code = '0'\n",
    "decode(huffman_code,code)"
   ]
  },
  {
   "cell_type": "code",
   "execution_count": 12,
   "id": "d1136145",
   "metadata": {},
   "outputs": [
    {
     "name": "stdout",
     "output_type": "stream",
     "text": [
      "Symbol ->  A\n"
     ]
    }
   ],
   "source": [
    "code = '111'\n",
    "decode(huffman_code,code)"
   ]
  },
  {
   "cell_type": "code",
   "execution_count": null,
   "id": "06261e3a",
   "metadata": {},
   "outputs": [],
   "source": []
  },
  {
   "cell_type": "code",
   "execution_count": null,
   "id": "bde2e376",
   "metadata": {},
   "outputs": [],
   "source": []
  },
  {
   "cell_type": "code",
   "execution_count": null,
   "id": "754218e8",
   "metadata": {},
   "outputs": [],
   "source": []
  },
  {
   "cell_type": "code",
   "execution_count": null,
   "id": "0f6ad797",
   "metadata": {},
   "outputs": [],
   "source": []
  },
  {
   "cell_type": "code",
   "execution_count": null,
   "id": "9a5ae475",
   "metadata": {},
   "outputs": [],
   "source": []
  }
 ],
 "metadata": {
  "kernelspec": {
   "display_name": "Python 3 (ipykernel)",
   "language": "python",
   "name": "python3"
  },
  "language_info": {
   "codemirror_mode": {
    "name": "ipython",
    "version": 3
   },
   "file_extension": ".py",
   "mimetype": "text/x-python",
   "name": "python",
   "nbconvert_exporter": "python",
   "pygments_lexer": "ipython3",
   "version": "3.10.9"
  }
 },
 "nbformat": 4,
 "nbformat_minor": 5
}
