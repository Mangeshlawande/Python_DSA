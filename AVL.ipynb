{
 "cells": [
  {
   "cell_type": "code",
   "execution_count": 1,
   "id": "023721cd",
   "metadata": {},
   "outputs": [],
   "source": [
    "class Node(object):\n",
    "    def __init__(node,data):\n",
    "        node.data = data\n",
    "        node.left = None\n",
    "        node.right = None\n",
    "        node.height = 1\n",
    "\n",
    "\n",
    "class AVLTree(object):\n",
    " \n",
    "    def insert(node,root,item):\n",
    "        \n",
    "        if not root:\n",
    "            print('1)Node->',item)\n",
    "            return Node(item) \n",
    "      \n",
    "        elif item < root.data:\n",
    "            print('2)Node->',root.data,'item->',item)\n",
    "            root.left = node.insert(root.left,item)\n",
    "        else:\n",
    "            print('3)Node->',root.data,'item->',item)\n",
    "            root.right = node.insert(root.right,item)\n",
    "\n",
    "        root.height = 1 + max(node.get_height(root.left),node.get_height(root.right))\n",
    "\n",
    "        \n",
    "        bf = node.getbf(root)\n",
    "        if bf > 1:\n",
    "            print('4)Node->',root.data,'item->',item)\n",
    "            if item < root.left.data:\n",
    "                print('5)Node->',root.data,'item->',item)\n",
    "                return node.RotateRight(root)\n",
    "            else:\n",
    "                print('6)Node->',root.data,'item->',item)\n",
    "                root.left = node.RotateLeft(root.left)\n",
    "                return node.RotateRight(root)\n",
    "\n",
    "        if bf < -1:\n",
    "            print('7)Node->',root.data,'item->',item)\n",
    "            if item > root.right.data:\n",
    "                print('8)Node->',root.data,'item->',item)\n",
    "                return node.RotateLeft(root)\n",
    "            else:\n",
    "                print('9)Node->',root.data,'item->',item)\n",
    "                root.right = node.RotateRight(root.right)\n",
    "                return node.RotateLeft(root)\n",
    "\n",
    "        return root\n",
    "\n",
    "    \n",
    "    def delete(node,root,item):\n",
    "\n",
    "        if not root:\n",
    "            return root\n",
    "        elif item < root.data:\n",
    "            root.left = node.delete(root.left,item)\n",
    "        elif item > root.data:\n",
    "            root.right = node.delete(root.right,item)\n",
    "        else:\n",
    "            if root.left is None:\n",
    "                temp = root.right\n",
    "                root = None\n",
    "                return temp\n",
    "            elif root.right is None:\n",
    "                temp = root.left\n",
    "                root = None\n",
    "                return temp\n",
    "            \n",
    "            temp = root.right\n",
    "            while temp.left:\n",
    "                temp = temp.left\n",
    "            root.data = temp.data\n",
    "            root.right = node.delete(root.right,temp.data)\n",
    "            \n",
    "        if root is None:\n",
    "            return root\n",
    "\n",
    "        \n",
    "        root.height = 1 + max(node.get_height(root.left),node.get_height(root.right))\n",
    "\n",
    "        bf = node.getbf(root)\n",
    "\n",
    "    \n",
    "        if bf > 1:\n",
    "            lbf = node.getbf(root.left)\n",
    "            if lbf >= 0:\n",
    "                return node.RotateRight(root)\n",
    "            else:\n",
    "                root.left = node.RotateLeft(root.left)\n",
    "                return node.RotateRight(root)\n",
    "        if bf < -1:\n",
    "            rbf = node.getbf(root.right)\n",
    "            if rbf <= 0:\n",
    "                return node.RotateLeft(root)\n",
    "            else:\n",
    "                root.right = node.RotateRight(root.right)\n",
    "                return node.RotateLeft(root)\n",
    "        return root\n",
    "\n",
    "    \n",
    "    def RotateLeft(node,root):\n",
    "        print('Rotate Left')\n",
    "        cnode = root.right\n",
    "        temp = cnode.left\n",
    "        cnode.left = root\n",
    "        root.right = temp\n",
    "        root.height = 1 + max(node.get_height(root.left),node.get_height(root.right))\n",
    "        cnode.height = 1 + max(node.get_height(cnode.left),node.get_height(cnode.right))\n",
    "        return cnode\n",
    "\n",
    "    \n",
    "    def RotateRight(node,root):\n",
    "        print('Rotate Right')\n",
    "        cnode = root.left\n",
    "        temp = cnode.right\n",
    "        cnode.right = root\n",
    "        root.left = temp\n",
    "        root.height = 1 + max(node.get_height(root.left),node.get_height(root.right))\n",
    "        cnode.height = 1 + max(node.get_height(cnode.left),node.get_height(cnode.right))\n",
    "        return cnode\n",
    "\n",
    "    \n",
    "    def get_height(node,root):\n",
    "        if not root:\n",
    "            return 0\n",
    "        return root.height\n",
    "\n",
    "    \n",
    "    def getbf(node,root):\n",
    "        if not root:\n",
    "            return 0\n",
    "        return node.get_height(root.left) - node.get_height(root.right)\n",
    "\n",
    "    def inorder(node,root):\n",
    "        if not root:\n",
    "            return\n",
    "        node.inorder(root.left)\n",
    "        print(root.data,' ', end=\"\")\n",
    "        node.inorder(root.right)\n",
    "        "
   ]
  },
  {
   "cell_type": "code",
   "execution_count": 2,
   "id": "fc5f394f",
   "metadata": {},
   "outputs": [],
   "source": [
    "avl = AVLTree()\n",
    "root1 = None"
   ]
  },
  {
   "cell_type": "code",
   "execution_count": 3,
   "id": "ef9abff2",
   "metadata": {},
   "outputs": [
    {
     "name": "stdout",
     "output_type": "stream",
     "text": [
      "1)Node-> 10\n"
     ]
    }
   ],
   "source": [
    "root1 = avl.insert(root1,10)"
   ]
  },
  {
   "cell_type": "code",
   "execution_count": 4,
   "id": "d5befa8a",
   "metadata": {},
   "outputs": [
    {
     "name": "stdout",
     "output_type": "stream",
     "text": [
      "2)Node-> 10 item-> 5\n",
      "1)Node-> 5\n"
     ]
    }
   ],
   "source": [
    "root1 = avl.insert(root1,5)"
   ]
  },
  {
   "cell_type": "code",
   "execution_count": 5,
   "id": "df77dc8d",
   "metadata": {},
   "outputs": [
    {
     "name": "stdout",
     "output_type": "stream",
     "text": [
      "3)Node-> 10 item-> 15\n",
      "1)Node-> 15\n"
     ]
    }
   ],
   "source": [
    "root1 = avl.insert(root1,15)"
   ]
  },
  {
   "cell_type": "code",
   "execution_count": 6,
   "id": "e89a137a",
   "metadata": {},
   "outputs": [
    {
     "name": "stdout",
     "output_type": "stream",
     "text": [
      "2)Node-> 10 item-> 3\n",
      "2)Node-> 5 item-> 3\n",
      "1)Node-> 3\n"
     ]
    }
   ],
   "source": [
    "root1 = avl.insert(root1,3)"
   ]
  },
  {
   "cell_type": "code",
   "execution_count": 7,
   "id": "a69bbd3f",
   "metadata": {},
   "outputs": [
    {
     "name": "stdout",
     "output_type": "stream",
     "text": [
      "2)Node-> 10 item-> 6\n",
      "3)Node-> 5 item-> 6\n",
      "1)Node-> 6\n"
     ]
    }
   ],
   "source": [
    "root1 = avl.insert(root1,6)"
   ]
  },
  {
   "cell_type": "code",
   "execution_count": 8,
   "id": "f51c6504",
   "metadata": {},
   "outputs": [
    {
     "name": "stdout",
     "output_type": "stream",
     "text": [
      "3)Node-> 10 item-> 20\n",
      "3)Node-> 15 item-> 20\n",
      "1)Node-> 20\n"
     ]
    }
   ],
   "source": [
    "root1 = avl.insert(root1,20)"
   ]
  },
  {
   "cell_type": "code",
   "execution_count": 9,
   "id": "74db47f8",
   "metadata": {},
   "outputs": [
    {
     "name": "stdout",
     "output_type": "stream",
     "text": [
      "2)Node-> 10 item-> 2\n",
      "2)Node-> 5 item-> 2\n",
      "2)Node-> 3 item-> 2\n",
      "1)Node-> 2\n"
     ]
    }
   ],
   "source": [
    "root1 = avl.insert(root1,2)"
   ]
  },
  {
   "cell_type": "code",
   "execution_count": 10,
   "id": "e6aa1a6d",
   "metadata": {},
   "outputs": [
    {
     "name": "stdout",
     "output_type": "stream",
     "text": [
      "3)Node-> 10 item-> 12\n",
      "2)Node-> 15 item-> 12\n",
      "1)Node-> 12\n"
     ]
    }
   ],
   "source": [
    "root1 = avl.insert(root1,12)"
   ]
  },
  {
   "cell_type": "code",
   "execution_count": 11,
   "id": "7125bfa6",
   "metadata": {},
   "outputs": [
    {
     "name": "stdout",
     "output_type": "stream",
     "text": [
      "2  3  5  6  10  12  15  20  "
     ]
    }
   ],
   "source": [
    "avl.inorder(root1)"
   ]
  },
  {
   "cell_type": "code",
   "execution_count": null,
   "id": "667eab69",
   "metadata": {},
   "outputs": [],
   "source": []
  },
  {
   "cell_type": "code",
   "execution_count": 12,
   "id": "0bbfc3aa",
   "metadata": {},
   "outputs": [
    {
     "name": "stdout",
     "output_type": "stream",
     "text": [
      "3  5  6  10  12  15  20  "
     ]
    }
   ],
   "source": [
    "root1 = avl.delete(root1,2)\n",
    "avl.inorder(root1)"
   ]
  },
  {
   "cell_type": "code",
   "execution_count": 13,
   "id": "a6f61104",
   "metadata": {},
   "outputs": [
    {
     "name": "stdout",
     "output_type": "stream",
     "text": [
      "3  5  10  12  15  20  "
     ]
    }
   ],
   "source": [
    "root1 = avl.delete(root1,6)\n",
    "avl.inorder(root1)"
   ]
  },
  {
   "cell_type": "code",
   "execution_count": 14,
   "id": "deff40de",
   "metadata": {},
   "outputs": [
    {
     "name": "stdout",
     "output_type": "stream",
     "text": [
      "3  10  12  15  20  "
     ]
    }
   ],
   "source": [
    "root1 = avl.delete(root1,5)\n",
    "avl.inorder(root1)"
   ]
  },
  {
   "cell_type": "code",
   "execution_count": 15,
   "id": "4d08ecb6",
   "metadata": {},
   "outputs": [
    {
     "name": "stdout",
     "output_type": "stream",
     "text": [
      "3  10  12  20  "
     ]
    }
   ],
   "source": [
    "root1 = avl.delete(root1,15)\n",
    "avl.inorder(root1)"
   ]
  },
  {
   "cell_type": "code",
   "execution_count": 16,
   "id": "04c18549",
   "metadata": {},
   "outputs": [
    {
     "name": "stdout",
     "output_type": "stream",
     "text": [
      "1)Node-> 1\n",
      "3)Node-> 1 item-> 2\n",
      "1)Node-> 2\n",
      "3)Node-> 1 item-> 3\n",
      "3)Node-> 2 item-> 3\n",
      "1)Node-> 3\n",
      "7)Node-> 1 item-> 3\n",
      "8)Node-> 1 item-> 3\n",
      "Rotate Left\n",
      "1  2  3  "
     ]
    }
   ],
   "source": [
    "avl = AVLTree()\n",
    "root2 = None\n",
    "root2 = avl.insert(root2,1)\n",
    "root2 = avl.insert(root2,2)\n",
    "root2 = avl.insert(root2,3)\n",
    "avl.inorder(root2)"
   ]
  },
  {
   "cell_type": "code",
   "execution_count": 17,
   "id": "944950af",
   "metadata": {},
   "outputs": [
    {
     "name": "stdout",
     "output_type": "stream",
     "text": [
      "1)Node-> 3\n",
      "2)Node-> 3 item-> 2\n",
      "1)Node-> 2\n",
      "2)Node-> 3 item-> 1\n",
      "2)Node-> 2 item-> 1\n",
      "1)Node-> 1\n",
      "4)Node-> 3 item-> 1\n",
      "5)Node-> 3 item-> 1\n",
      "Rotate Right\n",
      "1  2  3  "
     ]
    }
   ],
   "source": [
    "avl = AVLTree()\n",
    "root3 = None\n",
    "root3 = avl.insert(root3,3)\n",
    "root3 = avl.insert(root3,2)\n",
    "root3 = avl.insert(root3,1)\n",
    "avl.inorder(root3)"
   ]
  },
  {
   "cell_type": "code",
   "execution_count": 18,
   "id": "40c7bd91",
   "metadata": {},
   "outputs": [
    {
     "name": "stdout",
     "output_type": "stream",
     "text": [
      "1)Node-> 5\n",
      "2)Node-> 5 item-> 3\n",
      "1)Node-> 3\n",
      "2)Node-> 5 item-> 4\n",
      "3)Node-> 3 item-> 4\n",
      "1)Node-> 4\n",
      "4)Node-> 5 item-> 4\n",
      "6)Node-> 5 item-> 4\n",
      "Rotate Left\n",
      "Rotate Right\n",
      "3  4  5  "
     ]
    }
   ],
   "source": [
    "avl = AVLTree()\n",
    "root4 = None\n",
    "root4 = avl.insert(root4,5)\n",
    "root4 = avl.insert(root4,3)\n",
    "root4 = avl.insert(root4,4)\n",
    "avl.inorder(root4)"
   ]
  },
  {
   "cell_type": "code",
   "execution_count": 19,
   "id": "c11daf12",
   "metadata": {},
   "outputs": [
    {
     "name": "stdout",
     "output_type": "stream",
     "text": [
      "1)Node-> 5\n",
      "3)Node-> 5 item-> 10\n",
      "1)Node-> 10\n",
      "3)Node-> 5 item-> 6\n",
      "2)Node-> 10 item-> 6\n",
      "1)Node-> 6\n",
      "7)Node-> 5 item-> 6\n",
      "9)Node-> 5 item-> 6\n",
      "Rotate Right\n",
      "Rotate Left\n",
      "5  6  10  "
     ]
    }
   ],
   "source": [
    "avl = AVLTree()\n",
    "root5 = None\n",
    "root5 = avl.insert(root5,5)\n",
    "root5 = avl.insert(root5,10)\n",
    "root5 = avl.insert(root5,6)\n",
    "avl.inorder(root5)"
   ]
  },
  {
   "cell_type": "code",
   "execution_count": 20,
   "id": "7fc1bf2d",
   "metadata": {},
   "outputs": [
    {
     "name": "stdout",
     "output_type": "stream",
     "text": [
      "1)Node-> 5\n",
      "3)Node-> 5 item-> 6\n",
      "1)Node-> 6\n",
      "2)Node-> 5 item-> 4\n",
      "1)Node-> 4\n",
      "2)Node-> 5 item-> 3\n",
      "2)Node-> 4 item-> 3\n",
      "1)Node-> 3\n",
      "3  4  5  6  "
     ]
    }
   ],
   "source": [
    "avl = AVLTree()\n",
    "root7 = None\n",
    "root7 = avl.insert(root7,5)\n",
    "root7 = avl.insert(root7,6)\n",
    "root7 = avl.insert(root7,4)\n",
    "root7 = avl.insert(root7,3)\n",
    "avl.inorder(root7)"
   ]
  },
  {
   "cell_type": "code",
   "execution_count": 21,
   "id": "dff58a18",
   "metadata": {},
   "outputs": [
    {
     "name": "stdout",
     "output_type": "stream",
     "text": [
      "Rotate Right\n",
      "3  4  5  "
     ]
    }
   ],
   "source": [
    "root7 = avl.delete(root7,6)\n",
    "avl.inorder(root7)"
   ]
  },
  {
   "cell_type": "code",
   "execution_count": 22,
   "id": "34949cf3",
   "metadata": {},
   "outputs": [
    {
     "name": "stdout",
     "output_type": "stream",
     "text": [
      "1)Node-> 4\n",
      "2)Node-> 4 item-> 3\n",
      "1)Node-> 3\n",
      "3)Node-> 4 item-> 5\n",
      "1)Node-> 5\n",
      "3)Node-> 4 item-> 6\n",
      "3)Node-> 5 item-> 6\n",
      "1)Node-> 6\n",
      "3  4  5  6  "
     ]
    }
   ],
   "source": [
    "avl = AVLTree()\n",
    "root6 = None\n",
    "root6 = avl.insert(root6,4)\n",
    "root6 = avl.insert(root6,3)\n",
    "root6 = avl.insert(root6,5)\n",
    "root6 = avl.insert(root6,6)\n",
    "avl.inorder(root6)"
   ]
  },
  {
   "cell_type": "code",
   "execution_count": 23,
   "id": "d6c6cc18",
   "metadata": {},
   "outputs": [
    {
     "name": "stdout",
     "output_type": "stream",
     "text": [
      "Rotate Left\n",
      "4  5  6  "
     ]
    }
   ],
   "source": [
    "root6 = avl.delete(root6,3)\n",
    "avl.inorder(root6)"
   ]
  },
  {
   "cell_type": "code",
   "execution_count": null,
   "id": "bf7a6b8d",
   "metadata": {},
   "outputs": [],
   "source": []
  }
 ],
 "metadata": {
  "kernelspec": {
   "display_name": "Python 3 (ipykernel)",
   "language": "python",
   "name": "python3"
  },
  "language_info": {
   "codemirror_mode": {
    "name": "ipython",
    "version": 3
   },
   "file_extension": ".py",
   "mimetype": "text/x-python",
   "name": "python",
   "nbconvert_exporter": "python",
   "pygments_lexer": "ipython3",
   "version": "3.9.13"
  }
 },
 "nbformat": 4,
 "nbformat_minor": 5
}
